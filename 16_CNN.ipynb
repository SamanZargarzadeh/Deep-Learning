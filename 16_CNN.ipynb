{
  "cells": [
    {
      "cell_type": "markdown",
      "metadata": {
        "id": "view-in-github",
        "colab_type": "text"
      },
      "source": [
        "<a href=\"https://colab.research.google.com/github/SamanZargarzadeh/Deep-Learning/blob/main/16_CNN.ipynb\" target=\"_parent\"><img src=\"https://colab.research.google.com/assets/colab-badge.svg\" alt=\"Open In Colab\"/></a>"
      ]
    },
    {
      "cell_type": "markdown",
      "metadata": {
        "id": "uvx7CwEy41Ft"
      },
      "source": [
        "# 1) Import"
      ]
    },
    {
      "cell_type": "code",
      "execution_count": null,
      "metadata": {
        "id": "s656bS6545P3"
      },
      "outputs": [],
      "source": [
        "import tensorflow as tf\n",
        "# check the version\n",
        "tf.__version__"
      ]
    },
    {
      "cell_type": "code",
      "execution_count": null,
      "metadata": {
        "id": "mF9JItch5EUy"
      },
      "outputs": [],
      "source": [
        "from tensorflow.keras.models import Sequential\n",
        "from tensorflow.keras.layers import Dense, Flatten, BatchNormalization, Dropout, Conv2D, MaxPooling2D \n",
        "from tensorflow.keras import regularizers\n",
        "from tensorflow.keras.callbacks import Callback\n",
        "from tensorflow.keras.preprocessing import image"
      ]
    },
    {
      "cell_type": "code",
      "execution_count": null,
      "metadata": {
        "id": "VqvYFOlX5G_W"
      },
      "outputs": [],
      "source": [
        "import numpy as np\n",
        "import pandas as pd\n",
        "import matplotlib.pyplot as plt\n",
        "%matplotlib inline"
      ]
    },
    {
      "cell_type": "markdown",
      "metadata": {
        "id": "9Ir9cXiR5afu"
      },
      "source": [
        "# 2) Load Data"
      ]
    },
    {
      "cell_type": "code",
      "execution_count": null,
      "metadata": {
        "id": "Wj3CKLL25d1N"
      },
      "outputs": [],
      "source": [
        "fashion_mnist_data = tf.keras.datasets.fashion_mnist\n",
        "(X_train, y_train), (X_test, y_test) = fashion_mnist_data.load_data()"
      ]
    },
    {
      "cell_type": "code",
      "execution_count": null,
      "metadata": {
        "id": "92_t2qg_5lbh"
      },
      "outputs": [],
      "source": [
        "print(\"train X shape: \", X_train.shape) # X_train: numpy array with shape: (num_samples_train, num_features)\n",
        "print(\"train y shape: \", y_train.shape) # y_train: numpy array with shape: (num_samples_train,) \n",
        "print(\"test X shape: \", X_test.shape)   # X_test: numpy array with shape: (num_samples_test, num_features)\n",
        "print(\"test y shape: \", y_test.shape)   # y_test: numpy array with shape: (num_samples_test,)"
      ]
    },
    {
      "cell_type": "code",
      "execution_count": null,
      "metadata": {
        "id": "BFaP4F8P5mGF"
      },
      "outputs": [],
      "source": [
        "print(\"minimum train y value: \", min(y_train))\n",
        "print(\"maximum train y value: \", max(y_train))"
      ]
    },
    {
      "cell_type": "code",
      "execution_count": null,
      "metadata": {
        "id": "yxdPAz9b5ohf"
      },
      "outputs": [],
      "source": [
        "# Define the labels\n",
        "\n",
        "labels = [\n",
        "    'T-shirt/top', # 0\n",
        "    'Trouser',     # 1\n",
        "    'Pullover',    # 2\n",
        "    'Dress',       # 3\n",
        "    'Coat',        # 4\n",
        "    'Sandal',      # 5\n",
        "    'Shirt',       # 6\n",
        "    'Sneaker',     # 7\n",
        "    'Bag',         # 8\n",
        "    'Ankle boot'   # 9\n",
        "]"
      ]
    },
    {
      "cell_type": "code",
      "execution_count": null,
      "metadata": {
        "id": "6yH9DIYF5tlr"
      },
      "outputs": [],
      "source": [
        "# Rescale the image values so that they lie in between 0 and 1.\n",
        "\n",
        "X_train = X_train / 255.\n",
        "X_test = X_test / 255."
      ]
    },
    {
      "cell_type": "code",
      "execution_count": null,
      "metadata": {
        "id": "MnlgKk5LAJ4g"
      },
      "outputs": [],
      "source": [
        "# Display one of the images\n",
        "\n",
        "i = 0\n",
        "img = X_train[i, : , :]\n",
        "plt.imshow(img)\n",
        "plt.show()\n",
        "print(f\"label: {labels[y_train[i]]}\")"
      ]
    },
    {
      "cell_type": "markdown",
      "metadata": {
        "id": "kF-NAkPM50pT"
      },
      "source": [
        "# 3) Build a Convolutional Neural Network (CNN) Model"
      ]
    },
    {
      "cell_type": "code",
      "execution_count": null,
      "metadata": {
        "id": "0oVV6L6a6K59"
      },
      "outputs": [],
      "source": [
        "# Build the Sequential convolutional neural network model\n",
        "\n",
        "# the input layer with input_shape (28, 28, 1). # it is not RGB (just one channel).\n",
        "# the first hidden layer (conv1), has 16 filters with a shape of 3x3, with a relu activation function.\n",
        "# the second hidden layer (pool1), is a max pooling layer, with size 3x3\n",
        "# the third hidden layer, flatten/unroll to a long vector\n",
        "# the fourth hidden layer, is a fully connected layer, with 64 units, with a relu activation function.\n",
        "# the output (final) layer is a multi-class with 10 classes (activation function is softmax).\n",
        "\n",
        "model = Sequential([\n",
        "                    Conv2D(filters=16, kernel_size=(3,3), strides=(1,1), padding='valid', activation = 'relu', input_shape=(28,28,1)), # note we need 1 in  input_shape=(28,28,1)\n",
        "                    MaxPooling2D(pool_size=(3,3), strides=(1,1), padding='valid'),\n",
        "                    Flatten(),\n",
        "                    Dense(64, activation = 'relu'),\n",
        "                    Dense(10, activation='softmax')\n",
        "])\n",
        "\n",
        "# alternative: write the kernel size or the pool size as a single integer \n",
        "# model = Sequential([\n",
        "#                     Conv2D(filters=16, kernel_size=3, strides=(1,1), padding='valid', activation = 'relu', input_shape=(28,28,1)), \n",
        "#                     MaxPooling2D(pool_size=3, strides=(1,1), padding='valid'),\n",
        "#                     Flatten(),\n",
        "#                     Dense(10, activation='softmax')\n",
        "# ])"
      ]
    },
    {
      "cell_type": "code",
      "execution_count": null,
      "metadata": {
        "id": "TCfkkIPPB2HC"
      },
      "outputs": [],
      "source": [
        "model.summary()"
      ]
    },
    {
      "cell_type": "markdown",
      "metadata": {
        "id": "1-2H9HI3FBvN"
      },
      "source": [
        "The first dimension in all the layers has a value of None, and that is because the first dimension will always be the batch size. And the batch size is flexible and we can ignore it for now."
      ]
    },
    {
      "cell_type": "code",
      "execution_count": null,
      "metadata": {
        "id": "BDuCXL8jFC4T"
      },
      "outputs": [],
      "source": [
        "# number of parameters:\n",
        "# (3x3x1) x 16 = 160\n",
        "# 24 x 24 x 16 = 9216\n",
        "# 9216 x 64 + 64 = 589,888 \n",
        "# 64 x 10 + 10 = 650"
      ]
    },
    {
      "cell_type": "markdown",
      "metadata": {
        "id": "Aa3QZDenT3Va"
      },
      "source": [
        "# 4) Start Training (Compile)"
      ]
    },
    {
      "cell_type": "markdown",
      "metadata": {
        "id": "e9S68O0bT6x0"
      },
      "source": [
        "Compile the model. Use Adam optimizer and change the learning rate to 0.005. For loss, use 'sparse_categorical_crossentropy' and for metrics use 'SparseCategoricalAccuracy'."
      ]
    },
    {
      "cell_type": "code",
      "execution_count": null,
      "metadata": {
        "id": "8NXquCaTT-7O"
      },
      "outputs": [],
      "source": [
        "model.compile(\n",
        "    optimizer = tf.keras.optimizers.Adam(learning_rate = 0.005),\n",
        "    loss = 'sparse_categorical_crossentropy', \n",
        "    metrics = [tf.keras.metrics.SparseCategoricalAccuracy()] \n",
        ")"
      ]
    },
    {
      "cell_type": "markdown",
      "metadata": {
        "id": "0TlLe4xdUBvX"
      },
      "source": [
        "# 5) Model Fit"
      ]
    },
    {
      "cell_type": "markdown",
      "metadata": {
        "id": "q_hEJcbCUgmM"
      },
      "source": [
        "Calling model.fit returns a TensorFlow history object. This object contains a record of the progress of the network during training in terms of the loss and the metrics that we defined when we compiled the model."
      ]
    },
    {
      "cell_type": "code",
      "execution_count": null,
      "metadata": {
        "id": "dkpqCWDyUHa9"
      },
      "outputs": [],
      "source": [
        "# fit the model\n",
        "\n",
        "# history = model.fit(X_train, y_train, epochs = 8, batch_size = 256, verbose = 2)\n",
        "\n",
        "# This will give us error, can you see why?"
      ]
    },
    {
      "cell_type": "code",
      "execution_count": null,
      "metadata": {
        "id": "81-LS7hmPktZ"
      },
      "outputs": [],
      "source": [
        "X_train.shape"
      ]
    },
    {
      "cell_type": "code",
      "execution_count": null,
      "metadata": {
        "id": "vHb1OBdbPog7"
      },
      "outputs": [],
      "source": [
        "X_train[..., np.newaxis].shape"
      ]
    },
    {
      "cell_type": "markdown",
      "metadata": {
        "id": "rVqb9tSNVOS2"
      },
      "source": [
        "You get an error due to the input shape of the train images. This is due to the fact that in the sequential model you specified a channel dimension. To solve it, just set a dummy channel dimension to the training images. After this, you are set to run the fit method."
      ]
    },
    {
      "cell_type": "code",
      "execution_count": null,
      "metadata": {
        "id": "UAs73vT_VZ4D"
      },
      "outputs": [],
      "source": [
        "history = model.fit(X_train[..., np.newaxis] , y_train, epochs = 8, batch_size = 256, verbose = 2)"
      ]
    },
    {
      "cell_type": "code",
      "execution_count": null,
      "metadata": {
        "id": "M9epIx1maNN7"
      },
      "outputs": [],
      "source": [
        "# Load the history into a pandas Dataframe\n",
        "\n",
        "df = pd.DataFrame(history.history)"
      ]
    },
    {
      "cell_type": "code",
      "execution_count": null,
      "metadata": {
        "id": "7ibDI5UmaRFF"
      },
      "outputs": [],
      "source": [
        "# Make a plot for the loss\n",
        "\n",
        "loss_plot = df.plot(y=\"loss\", title = \"Loss vs. Epochs\", legend=False)\n",
        "loss_plot.set(xlabel=\"Epochs\", ylabel=\"Loss\")"
      ]
    },
    {
      "cell_type": "code",
      "execution_count": null,
      "metadata": {
        "id": "eHk6LyBXaSWE"
      },
      "outputs": [],
      "source": [
        "# Make a plot for the accuracy\n",
        "\n",
        "accuracy_plot = df.plot(y=\"sparse_categorical_accuracy\", legend=False)\n",
        "accuracy_plot.set(xlabel=\"Epochs\", ylabel=\"sparse_categorical_accuracy\")"
      ]
    },
    {
      "cell_type": "markdown",
      "metadata": {
        "id": "wUDBEyCScAT3"
      },
      "source": [
        "# 6) Model Fit with Validation Sets"
      ]
    },
    {
      "cell_type": "code",
      "execution_count": null,
      "metadata": {
        "id": "qEQdVgwrcBRk"
      },
      "outputs": [],
      "source": [
        "# fit the model with validation set\n",
        "\n",
        "history = model.fit(X_train[..., np.newaxis], y_train, epochs = 8, batch_size = 256, verbose = 2, validation_split=0.2) \n",
        "# The 0.2 means that 20 percent of the training data will be held back for validation."
      ]
    },
    {
      "cell_type": "code",
      "execution_count": null,
      "metadata": {
        "id": "2nFlnQ7pepza"
      },
      "outputs": [],
      "source": [
        "# Plot the training and validation loss\n",
        "\n",
        "plt.plot(history.history['loss'])\n",
        "plt.plot(history.history['val_loss'])\n",
        "plt.title('Loss vs. epochs')\n",
        "plt.ylabel('Loss')\n",
        "plt.xlabel('Epoch')\n",
        "plt.legend(['Training', 'Validation'], loc='upper right')\n",
        "plt.show()"
      ]
    },
    {
      "cell_type": "markdown",
      "metadata": {
        "id": "L9tHLb0tVeSe"
      },
      "source": [
        "# 7) Reduce Overfitting"
      ]
    },
    {
      "cell_type": "code",
      "execution_count": null,
      "metadata": {
        "id": "XeZLsSn5Vs8v"
      },
      "outputs": [],
      "source": [
        "model = Sequential([\n",
        "                    Conv2D(filters=16, kernel_size=(3,3), strides=(1,1), padding='valid', activation = 'relu', input_shape=(28,28,1)), # note we need 1 in  input_shape=(28,28,1)\n",
        "                    MaxPooling2D(pool_size=(3,3), strides=(1,1), padding='valid'),\n",
        "                    Flatten(),\n",
        "                    BatchNormalization(),\n",
        "                    Dropout(0.5),\n",
        "                    Dense(64, activation = 'relu'),\n",
        "                    BatchNormalization(),\n",
        "                    Dropout(0.5),\n",
        "                    Dense(10, activation='softmax')\n",
        "])"
      ]
    },
    {
      "cell_type": "code",
      "execution_count": null,
      "metadata": {
        "id": "mXYOPdW6X8qK"
      },
      "outputs": [],
      "source": [
        "model.summary()"
      ]
    },
    {
      "cell_type": "code",
      "execution_count": null,
      "metadata": {
        "id": "Mt8_5RCxYAe-"
      },
      "outputs": [],
      "source": [
        "model.compile(\n",
        "    optimizer = tf.keras.optimizers.Adam(learning_rate = 0.005),\n",
        "    loss = 'sparse_categorical_crossentropy', \n",
        "    metrics = [tf.keras.metrics.SparseCategoricalAccuracy()] \n",
        ")"
      ]
    },
    {
      "cell_type": "code",
      "execution_count": null,
      "metadata": {
        "id": "jfqedptfYDhU"
      },
      "outputs": [],
      "source": [
        "# fit the model with validation set\n",
        "\n",
        "history = model.fit(X_train[..., np.newaxis], y_train, epochs = 8, batch_size = 256, verbose = 2, validation_split=0.2) "
      ]
    },
    {
      "cell_type": "code",
      "execution_count": null,
      "metadata": {
        "id": "DUOFTTnQnbTR"
      },
      "outputs": [],
      "source": [
        "# Plot the training and validation loss\n",
        "\n",
        "plt.plot(history.history['loss'])\n",
        "plt.plot(history.history['val_loss'])\n",
        "plt.title('Loss vs. epochs')\n",
        "plt.ylabel('Loss')\n",
        "plt.xlabel('Epoch')\n",
        "plt.legend(['Training', 'Validation'], loc='upper right')\n",
        "plt.show()"
      ]
    },
    {
      "cell_type": "markdown",
      "metadata": {
        "id": "hWs2eGmko8nF"
      },
      "source": [
        "# 8) Model Evaluate on Test"
      ]
    },
    {
      "cell_type": "code",
      "execution_count": null,
      "metadata": {
        "id": "X0KE1b_So_5P"
      },
      "outputs": [],
      "source": [
        "test_loss, test_accuracy = model.evaluate(X_test[..., np.newaxis], y_test)"
      ]
    },
    {
      "cell_type": "markdown",
      "metadata": {
        "id": "Ns3xgsIKCL5V"
      },
      "source": [
        "# 9) Model Predict"
      ]
    },
    {
      "cell_type": "code",
      "execution_count": null,
      "metadata": {
        "id": "48ni4DFxCMPk"
      },
      "outputs": [],
      "source": [
        "# Choose a random test image\n",
        "\n",
        "random_inx = np.random.choice(X_test.shape[0])\n",
        "X_sample = X_test[random_inx, :]\n",
        "plt.imshow(X_sample)\n",
        "plt.show()\n",
        "print(f\"Label: {labels[y_test[random_inx]]}\")"
      ]
    },
    {
      "cell_type": "code",
      "execution_count": null,
      "metadata": {
        "id": "zNMRdb_tCSJd"
      },
      "outputs": [],
      "source": [
        "# Get the model predictions\n",
        "\n",
        "model.predict(X_sample[np.newaxis,...,np.newaxis])"
      ]
    },
    {
      "cell_type": "code",
      "execution_count": null,
      "metadata": {
        "id": "t1t-R9ggCa80"
      },
      "outputs": [],
      "source": [
        "# Get the model prediction label\n",
        "\n",
        "predictions = model.predict(X_sample[np.newaxis,...,np.newaxis])\n",
        "print(np.argmax(predictions))\n",
        "print(f\"Model prediction:{labels[np.argmax(predictions)]}\")"
      ]
    }
  ],
  "metadata": {
    "colab": {
      "provenance": [],
      "toc_visible": true,
      "include_colab_link": true
    },
    "kernelspec": {
      "display_name": "Python 3",
      "language": "python",
      "name": "python3"
    },
    "language_info": {
      "codemirror_mode": {
        "name": "ipython",
        "version": 3
      },
      "file_extension": ".py",
      "mimetype": "text/x-python",
      "name": "python",
      "nbconvert_exporter": "python",
      "pygments_lexer": "ipython3",
      "version": "3.8.5"
    }
  },
  "nbformat": 4,
  "nbformat_minor": 0
}