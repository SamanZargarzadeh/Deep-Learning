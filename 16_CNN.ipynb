{
  "cells": [
    {
      "cell_type": "markdown",
      "metadata": {
        "id": "view-in-github",
        "colab_type": "text"
      },
      "source": [
        "<a href=\"https://colab.research.google.com/github/SamanZargarzadeh/Deep-Learning/blob/main/16_CNN.ipynb\" target=\"_parent\"><img src=\"https://colab.research.google.com/assets/colab-badge.svg\" alt=\"Open In Colab\"/></a>"
      ]
    },
    {
      "cell_type": "markdown",
      "metadata": {
        "id": "uvx7CwEy41Ft"
      },
      "source": [
        "# 1) Import"
      ]
    },
    {
      "cell_type": "code",
      "execution_count": 1,
      "metadata": {
        "id": "s656bS6545P3",
        "outputId": "5b55d0f6-865e-4088-e545-96977e308e42",
        "colab": {
          "base_uri": "https://localhost:8080/",
          "height": 35
        }
      },
      "outputs": [
        {
          "output_type": "execute_result",
          "data": {
            "text/plain": [
              "'2.12.0'"
            ],
            "application/vnd.google.colaboratory.intrinsic+json": {
              "type": "string"
            }
          },
          "metadata": {},
          "execution_count": 1
        }
      ],
      "source": [
        "import tensorflow as tf\n",
        "# check the version\n",
        "tf.__version__"
      ]
    },
    {
      "cell_type": "code",
      "execution_count": 2,
      "metadata": {
        "id": "mF9JItch5EUy"
      },
      "outputs": [],
      "source": [
        "from tensorflow.keras.models import Sequential\n",
        "from tensorflow.keras.layers import Dense, Flatten, BatchNormalization, Dropout, Conv2D, MaxPooling2D \n",
        "from tensorflow.keras import regularizers\n",
        "from tensorflow.keras.callbacks import Callback\n",
        "from tensorflow.keras.preprocessing import image"
      ]
    },
    {
      "cell_type": "code",
      "execution_count": 3,
      "metadata": {
        "id": "VqvYFOlX5G_W"
      },
      "outputs": [],
      "source": [
        "import numpy as np\n",
        "import pandas as pd\n",
        "import matplotlib.pyplot as plt\n",
        "%matplotlib inline"
      ]
    },
    {
      "cell_type": "markdown",
      "metadata": {
        "id": "9Ir9cXiR5afu"
      },
      "source": [
        "# 2) Load Data"
      ]
    },
    {
      "cell_type": "code",
      "execution_count": 4,
      "metadata": {
        "id": "Wj3CKLL25d1N",
        "outputId": "c8b67588-5a78-4a91-d9e9-f9aa6f0bda72",
        "colab": {
          "base_uri": "https://localhost:8080/"
        }
      },
      "outputs": [
        {
          "output_type": "stream",
          "name": "stdout",
          "text": [
            "Downloading data from https://storage.googleapis.com/tensorflow/tf-keras-datasets/train-labels-idx1-ubyte.gz\n",
            "29515/29515 [==============================] - 0s 0us/step\n",
            "Downloading data from https://storage.googleapis.com/tensorflow/tf-keras-datasets/train-images-idx3-ubyte.gz\n",
            "26421880/26421880 [==============================] - 0s 0us/step\n",
            "Downloading data from https://storage.googleapis.com/tensorflow/tf-keras-datasets/t10k-labels-idx1-ubyte.gz\n",
            "5148/5148 [==============================] - 0s 0us/step\n",
            "Downloading data from https://storage.googleapis.com/tensorflow/tf-keras-datasets/t10k-images-idx3-ubyte.gz\n",
            "4422102/4422102 [==============================] - 0s 0us/step\n"
          ]
        }
      ],
      "source": [
        "fashion_mnist_data = tf.keras.datasets.fashion_mnist\n",
        "(X_train, y_train), (X_test, y_test) = fashion_mnist_data.load_data()"
      ]
    },
    {
      "cell_type": "code",
      "execution_count": 5,
      "metadata": {
        "id": "92_t2qg_5lbh",
        "outputId": "7dd0c9ed-3c82-4956-8020-5b9d3b2dbe85",
        "colab": {
          "base_uri": "https://localhost:8080/"
        }
      },
      "outputs": [
        {
          "output_type": "stream",
          "name": "stdout",
          "text": [
            "train X shape:  (60000, 28, 28)\n",
            "train y shape:  (60000,)\n",
            "test X shape:  (10000, 28, 28)\n",
            "test y shape:  (10000,)\n"
          ]
        }
      ],
      "source": [
        "print(\"train X shape: \", X_train.shape) # X_train: numpy array with shape: (num_samples_train, num_features)\n",
        "print(\"train y shape: \", y_train.shape) # y_train: numpy array with shape: (num_samples_train,) \n",
        "print(\"test X shape: \", X_test.shape)   # X_test: numpy array with shape: (num_samples_test, num_features)\n",
        "print(\"test y shape: \", y_test.shape)   # y_test: numpy array with shape: (num_samples_test,)"
      ]
    },
    {
      "cell_type": "code",
      "execution_count": 6,
      "metadata": {
        "id": "BFaP4F8P5mGF",
        "outputId": "5b4be268-cb0f-4566-9a31-8a607a4d4dae",
        "colab": {
          "base_uri": "https://localhost:8080/"
        }
      },
      "outputs": [
        {
          "output_type": "stream",
          "name": "stdout",
          "text": [
            "minimum train y value:  0\n",
            "maximum train y value:  9\n"
          ]
        }
      ],
      "source": [
        "print(\"minimum train y value: \", min(y_train))\n",
        "print(\"maximum train y value: \", max(y_train))"
      ]
    },
    {
      "cell_type": "code",
      "execution_count": 7,
      "metadata": {
        "id": "yxdPAz9b5ohf"
      },
      "outputs": [],
      "source": [
        "# Define the labels\n",
        "\n",
        "labels = [\n",
        "    'T-shirt/top', # 0\n",
        "    'Trouser',     # 1\n",
        "    'Pullover',    # 2\n",
        "    'Dress',       # 3\n",
        "    'Coat',        # 4\n",
        "    'Sandal',      # 5\n",
        "    'Shirt',       # 6\n",
        "    'Sneaker',     # 7\n",
        "    'Bag',         # 8\n",
        "    'Ankle boot'   # 9\n",
        "]"
      ]
    },
    {
      "cell_type": "code",
      "execution_count": 8,
      "metadata": {
        "id": "6yH9DIYF5tlr"
      },
      "outputs": [],
      "source": [
        "# Rescale the image values so that they lie in between 0 and 1.\n",
        "\n",
        "X_train = X_train / 255.\n",
        "X_test = X_test / 255."
      ]
    },
    {
      "cell_type": "code",
      "execution_count": 9,
      "metadata": {
        "id": "MnlgKk5LAJ4g",
        "outputId": "6e1e3d13-a067-4383-bc70-2b390888d902",
        "colab": {
          "base_uri": "https://localhost:8080/",
          "height": 448
        }
      },
      "outputs": [
        {
          "output_type": "display_data",
          "data": {
            "text/plain": [
              "<Figure size 640x480 with 1 Axes>"
            ],
            "image/png": "[encoded data removed]"
          },
          "metadata": {}
        },
        {
          "output_type": "stream",
          "name": "stdout",
          "text": [
            "label: Ankle boot\n"
          ]
        }
      ],
      "source": [
        "# Display one of the images\n",
        "\n",
        "i = 0\n",
        "img = X_train[i, : , :]\n",
        "plt.imshow(img)\n",
        "plt.show()\n",
        "print(f\"label: {labels[y_train[i]]}\")"
      ]
    },
    {
      "cell_type": "markdown",
      "metadata": {
        "id": "kF-NAkPM50pT"
      },
      "source": [
        "# 3) Build a Convolutional Neural Network (CNN) Model"
      ]
    },
    {
      "cell_type": "code",
      "execution_count": 10,
      "metadata": {
        "id": "0oVV6L6a6K59"
      },
      "outputs": [],
      "source": [
        "# Build the Sequential convolutional neural network model\n",
        "\n",
        "# the input layer with input_shape (28, 28, 1). # it is not RGB (just one channel).\n",
        "# the first hidden layer (conv1), has 16 filters with a shape of 3x3, with a relu activation function.\n",
        "# the second hidden layer (pool1), is a max pooling layer, with size 3x3\n",
        "# the third hidden layer, flatten/unroll to a long vector\n",
        "# the fourth hidden layer, is a fully connected layer, with 64 units, with a relu activation function.\n",
        "# the output (final) layer is a multi-class with 10 classes (activation function is softmax).\n",
        "\n",
        "model = Sequential([\n",
        "                    Conv2D(filters=16, kernel_size=(3,3), strides=(1,1), padding='valid', activation = 'relu', input_shape=(28,28,1)), # note we need 1 in  input_shape=(28,28,1)\n",
        "                    MaxPooling2D(pool_size=(3,3), strides=(1,1), padding='valid'),\n",
        "                    Flatten(),\n",
        "                    Dense(64, activation = 'relu'),\n",
        "                    Dense(10, activation='softmax')\n",
        "])\n",
        "\n",
        "# alternative: write the kernel size or the pool size as a single integer \n",
        "# model = Sequential([\n",
        "#                     Conv2D(filters=16, kernel_size=3, strides=(1,1), padding='valid', activation = 'relu', input_shape=(28,28,1)), \n",
        "#                     MaxPooling2D(pool_size=3, strides=(1,1), padding='valid'),\n",
        "#                     Flatten(),\n",
        "#                     Dense(10, activation='softmax')\n",
        "# ])"
      ]
    },
    {
      "cell_type": "code",
      "execution_count": 11,
      "metadata": {
        "id": "TCfkkIPPB2HC",
        "outputId": "302d8cc1-67bc-4292-a553-887f54a464b1",
        "colab": {
          "base_uri": "https://localhost:8080/"
        }
      },
      "outputs": [
        {
          "output_type": "stream",
          "name": "stdout",
          "text": [
            "Model: \"sequential\"\n",
            "_________________________________________________________________\n",
            " Layer (type)                Output Shape              Param #   \n",
            "=================================================================\n",
            " conv2d (Conv2D)             (None, 26, 26, 16)        160       \n",
            "                                                                 \n",
            " max_pooling2d (MaxPooling2D  (None, 24, 24, 16)       0         \n",
            " )                                                               \n",
            "                                                                 \n",
            " flatten (Flatten)           (None, 9216)              0         \n",
            "                                                                 \n",
            " dense (Dense)               (None, 64)                589888    \n",
            "                                                                 \n",
            " dense_1 (Dense)             (None, 10)                650       \n",
            "                                                                 \n",
            "=================================================================\n",
            "Total params: 590,698\n",
            "Trainable params: 590,698\n",
            "Non-trainable params: 0\n",
            "_________________________________________________________________\n"
          ]
        }
      ],
      "source": [
        "model.summary()"
      ]
    },
    {
      "cell_type": "markdown",
      "metadata": {
        "id": "1-2H9HI3FBvN"
      },
      "source": [
        "The first dimension in all the layers has a value of None, and that is because the first dimension will always be the batch size. And the batch size is flexible and we can ignore it for now."
      ]
    },
    {
      "cell_type": "code",
      "execution_count": 12,
      "metadata": {
        "id": "BDuCXL8jFC4T"
      },
      "outputs": [],
      "source": [
        "# number of parameters:\n",
        "# (3x3x1) x 16 = 160\n",
        "# 24 x 24 x 16 = 9216\n",
        "# 9216 x 64 + 64 = 589,888 \n",
        "# 64 x 10 + 10 = 650"
      ]
    },
    {
      "cell_type": "markdown",
      "metadata": {
        "id": "Aa3QZDenT3Va"
      },
      "source": [
        "# 4) Start Training (Compile)"
      ]
    },
    {
      "cell_type": "markdown",
      "metadata": {
        "id": "e9S68O0bT6x0"
      },
      "source": [
        "Compile the model. Use Adam optimizer and change the learning rate to 0.005. For loss, use 'sparse_categorical_crossentropy' and for metrics use 'SparseCategoricalAccuracy'."
      ]
    },
    {
      "cell_type": "code",
      "execution_count": 13,
      "metadata": {
        "id": "8NXquCaTT-7O"
      },
      "outputs": [],
      "source": [
        "model.compile(\n",
        "    optimizer = tf.keras.optimizers.Adam(learning_rate = 0.005),\n",
        "    loss = 'sparse_categorical_crossentropy', \n",
        "    metrics = [tf.keras.metrics.SparseCategoricalAccuracy()] \n",
        ")"
      ]
    },
    {
      "cell_type": "markdown",
      "metadata": {
        "id": "0TlLe4xdUBvX"
      },
      "source": [
        "# 5) Model Fit"
      ]
    },
    {
      "cell_type": "markdown",
      "metadata": {
        "id": "q_hEJcbCUgmM"
      },
      "source": [
        "Calling model.fit returns a TensorFlow history object. This object contains a record of the progress of the network during training in terms of the loss and the metrics that we defined when we compiled the model."
      ]
    },
    {
      "cell_type": "code",
      "execution_count": 14,
      "metadata": {
        "id": "dkpqCWDyUHa9"
      },
      "outputs": [],
      "source": [
        "# fit the model\n",
        "\n",
        "# history = model.fit(X_train, y_train, epochs = 8, batch_size = 256, verbose = 2)\n",
        "\n",
        "# This will give us error, can you see why?"
      ]
    },
    {
      "cell_type": "code",
      "execution_count": 15,
      "metadata": {
        "id": "81-LS7hmPktZ",
        "outputId": "3bf9065b-42c1-4e13-83ce-9c1e375b2219",
        "colab": {
          "base_uri": "https://localhost:8080/"
        }
      },
      "outputs": [
        {
          "output_type": "execute_result",
          "data": {
            "text/plain": [
              "(60000, 28, 28)"
            ]
          },
          "metadata": {},
          "execution_count": 15
        }
      ],
      "source": [
        "X_train.shape"
      ]
    },
    {
      "cell_type": "code",
      "execution_count": 16,
      "metadata": {
        "id": "vHb1OBdbPog7",
        "outputId": "2f923d86-3712-4066-e67e-df91bf27a314",
        "colab": {
          "base_uri": "https://localhost:8080/"
        }
      },
      "outputs": [
        {
          "output_type": "execute_result",
          "data": {
            "text/plain": [
              "(60000, 28, 28, 1)"
            ]
          },
          "metadata": {},
          "execution_count": 16
        }
      ],
      "source": [
        "X_train[..., np.newaxis].shape"
      ]
    },
    {
      "cell_type": "markdown",
      "metadata": {
        "id": "rVqb9tSNVOS2"
      },
      "source": [
        "You get an error due to the input shape of the train images. This is due to the fact that in the sequential model you specified a channel dimension. To solve it, just set a dummy channel dimension to the training images. After this, you are set to run the fit method."
      ]
    },
    {
      "cell_type": "code",
      "execution_count": 17,
      "metadata": {
        "id": "UAs73vT_VZ4D",
        "outputId": "1f902205-d6b7-4935-8bf9-df3bbdda5d38",
        "colab": {
          "base_uri": "https://localhost:8080/"
        }
      },
      "outputs": [
        {
          "output_type": "stream",
          "name": "stdout",
          "text": [
            "Epoch 1/8\n",
            "235/235 - 42s - loss: 0.4519 - sparse_categorical_accuracy: 0.8432 - 42s/epoch - 179ms/step\n",
            "Epoch 2/8\n",
            "235/235 - 39s - loss: 0.2795 - sparse_categorical_accuracy: 0.8994 - 39s/epoch - 165ms/step\n",
            "Epoch 3/8\n",
            "235/235 - 39s - loss: 0.2378 - sparse_categorical_accuracy: 0.9131 - 39s/epoch - 165ms/step\n",
            "Epoch 4/8\n",
            "235/235 - 40s - loss: 0.2113 - sparse_categorical_accuracy: 0.9220 - 40s/epoch - 172ms/step\n",
            "Epoch 5/8\n",
            "235/235 - 38s - loss: 0.1996 - sparse_categorical_accuracy: 0.9259 - 38s/epoch - 163ms/step\n",
            "Epoch 6/8\n",
            "235/235 - 38s - loss: 0.1854 - sparse_categorical_accuracy: 0.9311 - 38s/epoch - 164ms/step\n",
            "Epoch 7/8\n",
            "235/235 - 38s - loss: 0.1661 - sparse_categorical_accuracy: 0.9383 - 38s/epoch - 163ms/step\n",
            "Epoch 8/8\n",
            "235/235 - 38s - loss: 0.1532 - sparse_categorical_accuracy: 0.9430 - 38s/epoch - 163ms/step\n"
          ]
        }
      ],
      "source": [
        "history = model.fit(X_train[..., np.newaxis] , y_train, epochs = 8, batch_size = 256, verbose = 2)"
      ]
    },
    {
      "cell_type": "code",
      "execution_count": 18,
      "metadata": {
        "id": "M9epIx1maNN7"
      },
      "outputs": [],
      "source": [
        "# Load the history into a pandas Dataframe\n",
        "\n",
        "df = pd.DataFrame(history.history)"
      ]
    },
    {
      "cell_type": "code",
      "execution_count": 19,
      "metadata": {
        "id": "7ibDI5UmaRFF",
        "outputId": "81aa983e-61cb-4a99-9602-9c2ec92758a2",
        "colab": {
          "base_uri": "https://localhost:8080/",
          "height": 490
        }
      },
      "outputs": [
        {
          "output_type": "execute_result",
          "data": {
            "text/plain": [
              "[Text(0.5, 0, 'Epochs'), Text(0, 0.5, 'Loss')]"
            ]
          },
          "metadata": {},
          "execution_count": 19
        },
        {
          "output_type": "display_data",
          "data": {
            "text/plain": [
              "<Figure size 640x480 with 1 Axes>"
            ],
            "image/png": "[encoded data removed]"
          },
          "metadata": {}
        }
      ],
      "source": [
        "# Make a plot for the loss\n",
        "\n",
        "loss_plot = df.plot(y=\"loss\", title = \"Loss vs. Epochs\", legend=False)\n",
        "loss_plot.set(xlabel=\"Epochs\", ylabel=\"Loss\")"
      ]
    },
    {
      "cell_type": "code",
      "execution_count": 20,
      "metadata": {
        "id": "eHk6LyBXaSWE",
        "outputId": "c10db831-f177-41dd-e16c-13666de79847",
        "colab": {
          "base_uri": "https://localhost:8080/",
          "height": 467
        }
      },
      "outputs": [
        {
          "output_type": "execute_result",
          "data": {
            "text/plain": [
              "[Text(0.5, 0, 'Epochs'), Text(0, 0.5, 'sparse_categorical_accuracy')]"
            ]
          },
          "metadata": {},
          "execution_count": 20
        },
        {
          "output_type": "display_data",
          "data": {
            "text/plain": [
              "<Figure size 640x480 with 1 Axes>"
            ],
            "image/png": "[encoded data removed]"
          },
          "metadata": {}
        }
      ],
      "source": [
        "# Make a plot for the accuracy\n",
        "\n",
        "accuracy_plot = df.plot(y=\"sparse_categorical_accuracy\", legend=False)\n",
        "accuracy_plot.set(xlabel=\"Epochs\", ylabel=\"sparse_categorical_accuracy\")"
      ]
    },
    {
      "cell_type": "markdown",
      "metadata": {
        "id": "wUDBEyCScAT3"
      },
      "source": [
        "# 6) Model Fit with Validation Sets"
      ]
    },
    {
      "cell_type": "code",
      "execution_count": 21,
      "metadata": {
        "id": "qEQdVgwrcBRk",
        "outputId": "c5d7007c-7bb8-492a-dbbd-be61f8b961bd",
        "colab": {
          "base_uri": "https://localhost:8080/"
        }
      },
      "outputs": [
        {
          "output_type": "stream",
          "name": "stdout",
          "text": [
            "Epoch 1/8\n",
            "188/188 - 33s - loss: 0.1430 - sparse_categorical_accuracy: 0.9465 - val_loss: 0.1549 - val_sparse_categorical_accuracy: 0.9399 - 33s/epoch - 175ms/step\n",
            "Epoch 2/8\n",
            "188/188 - 36s - loss: 0.1245 - sparse_categorical_accuracy: 0.9548 - val_loss: 0.1407 - val_sparse_categorical_accuracy: 0.9470 - 36s/epoch - 190ms/step\n",
            "Epoch 3/8\n",
            "188/188 - 34s - loss: 0.1180 - sparse_categorical_accuracy: 0.9557 - val_loss: 0.1819 - val_sparse_categorical_accuracy: 0.9293 - 34s/epoch - 182ms/step\n",
            "Epoch 4/8\n",
            "188/188 - 32s - loss: 0.1080 - sparse_categorical_accuracy: 0.9600 - val_loss: 0.1899 - val_sparse_categorical_accuracy: 0.9280 - 32s/epoch - 171ms/step\n",
            "Epoch 5/8\n",
            "188/188 - 36s - loss: 0.1006 - sparse_categorical_accuracy: 0.9624 - val_loss: 0.2011 - val_sparse_categorical_accuracy: 0.9260 - 36s/epoch - 190ms/step\n",
            "Epoch 6/8\n",
            "188/188 - 33s - loss: 0.0887 - sparse_categorical_accuracy: 0.9669 - val_loss: 0.1886 - val_sparse_categorical_accuracy: 0.9351 - 33s/epoch - 177ms/step\n",
            "Epoch 7/8\n",
            "188/188 - 34s - loss: 0.0871 - sparse_categorical_accuracy: 0.9677 - val_loss: 0.2016 - val_sparse_categorical_accuracy: 0.9312 - 34s/epoch - 181ms/step\n",
            "Epoch 8/8\n",
            "188/188 - 34s - loss: 0.0818 - sparse_categorical_accuracy: 0.9698 - val_loss: 0.2267 - val_sparse_categorical_accuracy: 0.9265 - 34s/epoch - 183ms/step\n"
          ]
        }
      ],
      "source": [
        "# fit the model with validation set\n",
        "\n",
        "history = model.fit(X_train[..., np.newaxis], y_train, epochs = 8, batch_size = 256, verbose = 2, validation_split=0.2) \n",
        "# The 0.2 means that 20 percent of the training data will be held back for validation."
      ]
    },
    {
      "cell_type": "code",
      "execution_count": 22,
      "metadata": {
        "id": "2nFlnQ7pepza",
        "outputId": "f28ce6e0-ea22-4aea-fe87-c77c9c17a47e",
        "colab": {
          "base_uri": "https://localhost:8080/",
          "height": 472
        }
      },
      "outputs": [
        {
          "output_type": "display_data",
          "data": {
            "text/plain": [
              "<Figure size 640x480 with 1 Axes>"
            ],
            "image/png": "[encoded data removed]"
          },
          "metadata": {}
        }
      ],
      "source": [
        "# Plot the training and validation loss\n",
        "\n",
        "plt.plot(history.history['loss'])\n",
        "plt.plot(history.history['val_loss'])\n",
        "plt.title('Loss vs. epochs')\n",
        "plt.ylabel('Loss')\n",
        "plt.xlabel('Epoch')\n",
        "plt.legend(['Training', 'Validation'], loc='upper right')\n",
        "plt.show()"
      ]
    },
    {
      "cell_type": "markdown",
      "metadata": {
        "id": "L9tHLb0tVeSe"
      },
      "source": [
        "# 7) Reduce Overfitting"
      ]
    },
    {
      "cell_type": "code",
      "execution_count": 23,
      "metadata": {
        "id": "XeZLsSn5Vs8v"
      },
      "outputs": [],
      "source": [
        "model = Sequential([\n",
        "                    Conv2D(filters=16, kernel_size=(3,3), strides=(1,1), padding='valid', activation = 'relu', input_shape=(28,28,1)), # note we need 1 in  input_shape=(28,28,1)\n",
        "                    MaxPooling2D(pool_size=(3,3), strides=(1,1), padding='valid'),\n",
        "                    Flatten(),\n",
        "                    BatchNormalization(),\n",
        "                    Dropout(0.5),\n",
        "                    Dense(64, activation = 'relu'),\n",
        "                    BatchNormalization(),\n",
        "                    Dropout(0.5),\n",
        "                    Dense(10, activation='softmax')\n",
        "])"
      ]
    },
    {
      "cell_type": "code",
      "execution_count": 24,
      "metadata": {
        "id": "mXYOPdW6X8qK",
        "outputId": "b5f4db4f-c15b-45a6-ed40-ad15392a34f3",
        "colab": {
          "base_uri": "https://localhost:8080/"
        }
      },
      "outputs": [
        {
          "output_type": "stream",
          "name": "stdout",
          "text": [
            "Model: \"sequential_1\"\n",
            "_________________________________________________________________\n",
            " Layer (type)                Output Shape              Param #   \n",
            "=================================================================\n",
            " conv2d_1 (Conv2D)           (None, 26, 26, 16)        160       \n",
            "                                                                 \n",
            " max_pooling2d_1 (MaxPooling  (None, 24, 24, 16)       0         \n",
            " 2D)                                                             \n",
            "                                                                 \n",
            " flatten_1 (Flatten)         (None, 9216)              0         \n",
            "                                                                 \n",
            " batch_normalization (BatchN  (None, 9216)             36864     \n",
            " ormalization)                                                   \n",
            "                                                                 \n",
            " dropout (Dropout)           (None, 9216)              0         \n",
            "                                                                 \n",
            " dense_2 (Dense)             (None, 64)                589888    \n",
            "                                                                 \n",
            " batch_normalization_1 (Batc  (None, 64)               256       \n",
            " hNormalization)                                                 \n",
            "                                                                 \n",
            " dropout_1 (Dropout)         (None, 64)                0         \n",
            "                                                                 \n",
            " dense_3 (Dense)             (None, 10)                650       \n",
            "                                                                 \n",
            "=================================================================\n",
            "Total params: 627,818\n",
            "Trainable params: 609,258\n",
            "Non-trainable params: 18,560\n",
            "_________________________________________________________________\n"
          ]
        }
      ],
      "source": [
        "model.summary()"
      ]
    },
    {
      "cell_type": "code",
      "execution_count": 25,
      "metadata": {
        "id": "Mt8_5RCxYAe-"
      },
      "outputs": [],
      "source": [
        "model.compile(\n",
        "    optimizer = tf.keras.optimizers.Adam(learning_rate = 0.005),\n",
        "    loss = 'sparse_categorical_crossentropy', \n",
        "    metrics = [tf.keras.metrics.SparseCategoricalAccuracy()] \n",
        ")"
      ]
    },
    {
      "cell_type": "code",
      "execution_count": 26,
      "metadata": {
        "id": "jfqedptfYDhU",
        "outputId": "8a814290-3cde-407c-9090-c53d00385de3",
        "colab": {
          "base_uri": "https://localhost:8080/"
        }
      },
      "outputs": [
        {
          "metadata": {
            "tags": null
          },
          "name": "stdout",
          "output_type": "stream",
          "text": [
            "Epoch 1/8\n",
            "188/188 - 53s - loss: 0.5285 - sparse_categorical_accuracy: 0.8180 - val_loss: 1.2466 - val_sparse_categorical_accuracy: 0.7297 - 53s/epoch - 280ms/step\n",
            "Epoch 2/8\n",
            "188/188 - 49s - loss: 0.3557 - sparse_categorical_accuracy: 0.8734 - val_loss: 0.4423 - val_sparse_categorical_accuracy: 0.8851 - 49s/epoch - 260ms/step\n",
            "Epoch 3/8\n",
            "188/188 - 49s - loss: 0.3209 - sparse_categorical_accuracy: 0.8856 - val_loss: 0.3229 - val_sparse_categorical_accuracy: 0.8794 - 49s/epoch - 260ms/step\n",
            "Epoch 4/8\n",
            "188/188 - 49s - loss: 0.3017 - sparse_categorical_accuracy: 0.8905 - val_loss: 0.2650 - val_sparse_categorical_accuracy: 0.9000 - 49s/epoch - 259ms/step\n",
            "Epoch 5/8\n",
            "188/188 - 47s - loss: 0.2878 - sparse_categorical_accuracy: 0.8956 - val_loss: 0.2705 - val_sparse_categorical_accuracy: 0.9019 - 47s/epoch - 252ms/step\n",
            "Epoch 6/8\n",
            "188/188 - 48s - loss: 0.2759 - sparse_categorical_accuracy: 0.9000 - val_loss: 0.2643 - val_sparse_categorical_accuracy: 0.9051 - 48s/epoch - 253ms/step\n",
            "Epoch 7/8\n",
            "188/188 - 50s - loss: 0.2719 - sparse_categorical_accuracy: 0.9008 - val_loss: 0.2584 - val_sparse_categorical_accuracy: 0.9019 - 50s/epoch - 264ms/step\n",
            "Epoch 8/8\n",
            "188/188 - 48s - loss: 0.2639 - sparse_categorical_accuracy: 0.9035 - val_loss: 0.2464 - val_sparse_categorical_accuracy: 0.9056 - 48s/epoch - 256ms/step\n"
          ]
        }
      ],
      "source": [
        "# fit the model with validation set\n",
        "\n",
        "history = model.fit(X_train[..., np.newaxis], y_train, epochs = 8, batch_size = 256, verbose = 2, validation_split=0.2) "
      ]
    },
    {
      "cell_type": "code",
      "execution_count": 27,
      "metadata": {
        "id": "DUOFTTnQnbTR",
        "outputId": "2944f356-3516-4ddb-ee1c-f538c0246660",
        "colab": {
          "base_uri": "https://localhost:8080/",
          "height": 472
        }
      },
      "outputs": [
        {
          "data": {
            "image/png": "[encoded data removed]",
            "text/plain": [
              "<Figure size 640x480 with 1 Axes>"
            ]
          },
          "metadata": {},
          "output_type": "display_data"
        }
      ],
      "source": [
        "# Plot the training and validation loss\n",
        "\n",
        "plt.plot(history.history['loss'])\n",
        "plt.plot(history.history['val_loss'])\n",
        "plt.title('Loss vs. epochs')\n",
        "plt.ylabel('Loss')\n",
        "plt.xlabel('Epoch')\n",
        "plt.legend(['Training', 'Validation'], loc='upper right')\n",
        "plt.show()"
      ]
    },
    {
      "cell_type": "markdown",
      "metadata": {
        "id": "hWs2eGmko8nF"
      },
      "source": [
        "# 8) Model Evaluate on Test"
      ]
    },
    {
      "cell_type": "code",
      "execution_count": 28,
      "metadata": {
        "id": "X0KE1b_So_5P",
        "outputId": "396a9c32-338a-473f-bd4f-1f25e1374632",
        "colab": {
          "base_uri": "https://localhost:8080/"
        }
      },
      "outputs": [
        {
          "metadata": {
            "tags": null
          },
          "name": "stdout",
          "output_type": "stream",
          "text": [
            "313/313 [==============================] - 2s 8ms/step - loss: 0.2631 - sparse_categorical_accuracy: 0.9073\n"
          ]
        }
      ],
      "source": [
        "test_loss, test_accuracy = model.evaluate(X_test[..., np.newaxis], y_test)"
      ]
    },
    {
      "cell_type": "markdown",
      "metadata": {
        "id": "Ns3xgsIKCL5V"
      },
      "source": [
        "# 9) Model Predict"
      ]
    },
    {
      "cell_type": "code",
      "execution_count": 29,
      "metadata": {
        "id": "48ni4DFxCMPk",
        "outputId": "0751288a-57c9-42d8-f6d4-93aafb7a8cf3",
        "colab": {
          "base_uri": "https://localhost:8080/",
          "height": 448
        }
      },
      "outputs": [
        {
          "data": {
            "image/png": "[encoded data removed]",
            "text/plain": [
              "<Figure size 640x480 with 1 Axes>"
            ]
          },
          "metadata": {},
          "output_type": "display_data"
        },
        {
          "metadata": {
            "tags": null
          },
          "name": "stdout",
          "output_type": "stream",
          "text": [
            "Label: Ankle boot\n"
          ]
        }
      ],
      "source": [
        "# Choose a random test image\n",
        "\n",
        "random_inx = np.random.choice(X_test.shape[0])\n",
        "X_sample = X_test[random_inx, :]\n",
        "plt.imshow(X_sample)\n",
        "plt.show()\n",
        "print(f\"Label: {labels[y_test[random_inx]]}\")"
      ]
    },
    {
      "cell_type": "code",
      "execution_count": 30,
      "metadata": {
        "id": "zNMRdb_tCSJd",
        "outputId": "33a09e3b-1e90-4e91-910a-85b0a32d33ac",
        "colab": {
          "base_uri": "https://localhost:8080/"
        }
      },
      "outputs": [
        {
          "metadata": {
            "tags": null
          },
          "name": "stdout",
          "output_type": "stream",
          "text": [
            "1/1 [==============================] - 0s 168ms/step\n"
          ]
        },
        {
          "data": {
            "text/plain": [
              "array([[3.8457134e-07, 9.4166671e-07, 2.8661563e-07, 6.0917898e-07,\n",
              "        5.9789113e-07, 5.3092286e-02, 1.1160143e-06, 4.7238686e-04,\n",
              "        1.4710210e-07, 9.4643134e-01]], dtype=float32)"
            ]
          },
          "execution_count": 30,
          "metadata": {},
          "output_type": "execute_result"
        }
      ],
      "source": [
        "# Get the model predictions\n",
        "\n",
        "model.predict(X_sample[np.newaxis,...,np.newaxis])"
      ]
    },
    {
      "cell_type": "code",
      "execution_count": 31,
      "metadata": {
        "id": "t1t-R9ggCa80",
        "outputId": "53bacf3a-3674-4803-9366-9b26aebeb33f",
        "colab": {
          "base_uri": "https://localhost:8080/"
        }
      },
      "outputs": [
        {
          "metadata": {
            "tags": null
          },
          "name": "stdout",
          "output_type": "stream",
          "text": [
            "1/1 [==============================] - 0s 22ms/step\n",
            "9\n",
            "Model prediction:Ankle boot\n"
          ]
        }
      ],
      "source": [
        "# Get the model prediction label\n",
        "\n",
        "predictions = model.predict(X_sample[np.newaxis,...,np.newaxis])\n",
        "print(np.argmax(predictions))\n",
        "print(f\"Model prediction:{labels[np.argmax(predictions)]}\")"
      ]
    }
  ],
  "metadata": {
    "colab": {
      "provenance": [],
      "include_colab_link": true
    },
    "kernelspec": {
      "display_name": "Python 3",
      "language": "python",
      "name": "python3"
    },
    "language_info": {
      "codemirror_mode": {
        "name": "ipython",
        "version": 3
      },
      "file_extension": ".py",
      "mimetype": "text/x-python",
      "name": "python",
      "nbconvert_exporter": "python",
      "pygments_lexer": "ipython3",
      "version": "3.8.5"
    }
  },
  "nbformat": 4,
  "nbformat_minor": 0
}