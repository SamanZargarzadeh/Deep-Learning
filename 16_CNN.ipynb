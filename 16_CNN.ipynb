{
  "cells": [
    {
      "cell_type": "markdown",
      "metadata": {
        "id": "view-in-github",
        "colab_type": "text"
      },
      "source": [
        "<a href=\"https://colab.research.google.com/github/SamanZargarzadeh/Deep-Learning/blob/main/16_CNN.ipynb\" target=\"_parent\"><img src=\"https://colab.research.google.com/assets/colab-badge.svg\" alt=\"Open In Colab\"/></a>"
      ]
    },
    {
      "cell_type": "markdown",
      "metadata": {
        "id": "uvx7CwEy41Ft"
      },
      "source": [
        "# 1) Import"
      ]
    },
    {
      "cell_type": "code",
      "execution_count": 1,
      "metadata": {
        "id": "s656bS6545P3",
        "outputId": "06ff1352-77ed-49e6-dc89-3e69bd926bee",
        "colab": {
          "base_uri": "https://localhost:8080/",
          "height": 35
        }
      },
      "outputs": [
        {
          "output_type": "execute_result",
          "data": {
            "text/plain": [
              "'2.12.0'"
            ],
            "application/vnd.google.colaboratory.intrinsic+json": {
              "type": "string"
            }
          },
          "metadata": {},
          "execution_count": 1
        }
      ],
      "source": [
        "import tensorflow as tf\n",
        "# check the version\n",
        "tf.__version__"
      ]
    },
    {
      "cell_type": "code",
      "execution_count": 2,
      "metadata": {
        "id": "mF9JItch5EUy"
      },
      "outputs": [],
      "source": [
        "from tensorflow.keras.models import Sequential\n",
        "from tensorflow.keras.layers import Dense, Flatten, BatchNormalization, Dropout, Conv2D, MaxPooling2D \n",
        "from tensorflow.keras import regularizers\n",
        "from tensorflow.keras.callbacks import Callback\n",
        "from tensorflow.keras.preprocessing import image"
      ]
    },
    {
      "cell_type": "code",
      "execution_count": 3,
      "metadata": {
        "id": "VqvYFOlX5G_W"
      },
      "outputs": [],
      "source": [
        "import numpy as np\n",
        "import pandas as pd\n",
        "import matplotlib.pyplot as plt\n",
        "%matplotlib inline"
      ]
    },
    {
      "cell_type": "markdown",
      "metadata": {
        "id": "9Ir9cXiR5afu"
      },
      "source": [
        "# 2) Load Data"
      ]
    },
    {
      "cell_type": "code",
      "execution_count": 4,
      "metadata": {
        "id": "Wj3CKLL25d1N",
        "outputId": "27e2a782-019e-424a-cc29-2e787aabc09f",
        "colab": {
          "base_uri": "https://localhost:8080/"
        }
      },
      "outputs": [
        {
          "output_type": "stream",
          "name": "stdout",
          "text": [
            "Downloading data from https://storage.googleapis.com/tensorflow/tf-keras-datasets/train-labels-idx1-ubyte.gz\n",
            "29515/29515 [==============================] - 0s 0us/step\n",
            "Downloading data from https://storage.googleapis.com/tensorflow/tf-keras-datasets/train-images-idx3-ubyte.gz\n",
            "26421880/26421880 [==============================] - 1s 0us/step\n",
            "Downloading data from https://storage.googleapis.com/tensorflow/tf-keras-datasets/t10k-labels-idx1-ubyte.gz\n",
            "5148/5148 [==============================] - 0s 0us/step\n",
            "Downloading data from https://storage.googleapis.com/tensorflow/tf-keras-datasets/t10k-images-idx3-ubyte.gz\n",
            "4422102/4422102 [==============================] - 0s 0us/step\n"
          ]
        }
      ],
      "source": [
        "fashion_mnist_data = tf.keras.datasets.fashion_mnist\n",
        "(X_train, y_train), (X_test, y_test) = fashion_mnist_data.load_data()"
      ]
    },
    {
      "cell_type": "code",
      "execution_count": 5,
      "metadata": {
        "id": "92_t2qg_5lbh",
        "outputId": "22c08dbc-1f66-481f-bc83-0d84ca956b5f",
        "colab": {
          "base_uri": "https://localhost:8080/"
        }
      },
      "outputs": [
        {
          "output_type": "stream",
          "name": "stdout",
          "text": [
            "train X shape:  (60000, 28, 28)\n",
            "train y shape:  (60000,)\n",
            "test X shape:  (10000, 28, 28)\n",
            "test y shape:  (10000,)\n"
          ]
        }
      ],
      "source": [
        "print(\"train X shape: \", X_train.shape) # X_train: numpy array with shape: (num_samples_train, num_features)\n",
        "print(\"train y shape: \", y_train.shape) # y_train: numpy array with shape: (num_samples_train,) \n",
        "print(\"test X shape: \", X_test.shape)   # X_test: numpy array with shape: (num_samples_test, num_features)\n",
        "print(\"test y shape: \", y_test.shape)   # y_test: numpy array with shape: (num_samples_test,)"
      ]
    },
    {
      "cell_type": "code",
      "execution_count": 6,
      "metadata": {
        "id": "BFaP4F8P5mGF",
        "outputId": "216929aa-e2aa-4ee3-dcac-55dca8c8f342",
        "colab": {
          "base_uri": "https://localhost:8080/"
        }
      },
      "outputs": [
        {
          "output_type": "stream",
          "name": "stdout",
          "text": [
            "minimum train y value:  0\n",
            "maximum train y value:  9\n"
          ]
        }
      ],
      "source": [
        "print(\"minimum train y value: \", min(y_train))\n",
        "print(\"maximum train y value: \", max(y_train))"
      ]
    },
    {
      "cell_type": "code",
      "execution_count": 7,
      "metadata": {
        "id": "yxdPAz9b5ohf"
      },
      "outputs": [],
      "source": [
        "# Define the labels\n",
        "\n",
        "labels = [\n",
        "    'T-shirt/top', # 0\n",
        "    'Trouser',     # 1\n",
        "    'Pullover',    # 2\n",
        "    'Dress',       # 3\n",
        "    'Coat',        # 4\n",
        "    'Sandal',      # 5\n",
        "    'Shirt',       # 6\n",
        "    'Sneaker',     # 7\n",
        "    'Bag',         # 8\n",
        "    'Ankle boot'   # 9\n",
        "]"
      ]
    },
    {
      "cell_type": "code",
      "execution_count": 8,
      "metadata": {
        "id": "6yH9DIYF5tlr"
      },
      "outputs": [],
      "source": [
        "# Rescale the image values so that they lie in between 0 and 1.\n",
        "\n",
        "X_train = X_train / 255.\n",
        "X_test = X_test / 255."
      ]
    },
    {
      "cell_type": "code",
      "execution_count": 9,
      "metadata": {
        "id": "MnlgKk5LAJ4g",
        "outputId": "5aa5a6d6-4b24-436a-f8e3-e88b806aeb8b",
        "colab": {
          "base_uri": "https://localhost:8080/",
          "height": 448
        }
      },
      "outputs": [
        {
          "output_type": "display_data",
          "data": {
            "text/plain": [
              "<Figure size 640x480 with 1 Axes>"
            ],
            "image/png": "[encoded data removed]"
          },
          "metadata": {}
        },
        {
          "output_type": "stream",
          "name": "stdout",
          "text": [
            "label: Ankle boot\n"
          ]
        }
      ],
      "source": [
        "# Display one of the images\n",
        "\n",
        "i = 0\n",
        "img = X_train[i, : , :]\n",
        "plt.imshow(img)\n",
        "plt.show()\n",
        "print(f\"label: {labels[y_train[i]]}\")"
      ]
    },
    {
      "cell_type": "markdown",
      "metadata": {
        "id": "kF-NAkPM50pT"
      },
      "source": [
        "# 3) Build a Convolutional Neural Network (CNN) Model"
      ]
    },
    {
      "cell_type": "code",
      "execution_count": 10,
      "metadata": {
        "id": "0oVV6L6a6K59"
      },
      "outputs": [],
      "source": [
        "# Build the Sequential convolutional neural network model\n",
        "\n",
        "# the input layer with input_shape (28, 28, 1). # it is not RGB (just one channel).\n",
        "# the first hidden layer (conv1), has 16 filters with a shape of 3x3, with a relu activation function.\n",
        "# the second hidden layer (pool1), is a max pooling layer, with size 3x3\n",
        "# the third hidden layer, flatten/unroll to a long vector\n",
        "# the fourth hidden layer, is a fully connected layer, with 64 units, with a relu activation function.\n",
        "# the output (final) layer is a multi-class with 10 classes (activation function is softmax).\n",
        "\n",
        "model = Sequential([\n",
        "                    Conv2D(filters=16, kernel_size=(3,3), strides=(1,1), padding='valid', activation = 'relu', input_shape=(28,28,1)), # note we need 1 in  input_shape=(28,28,1)\n",
        "                    MaxPooling2D(pool_size=(3,3), strides=(1,1), padding='valid'),\n",
        "                    Flatten(),\n",
        "                    Dense(64, activation = 'relu'),\n",
        "                    Dense(10, activation='softmax')\n",
        "])\n",
        "\n",
        "# alternative: write the kernel size or the pool size as a single integer \n",
        "# model = Sequential([\n",
        "#                     Conv2D(filters=16, kernel_size=3, strides=(1,1), padding='valid', activation = 'relu', input_shape=(28,28,1)), \n",
        "#                     MaxPooling2D(pool_size=3, strides=(1,1), padding='valid'),\n",
        "#                     Flatten(),\n",
        "#                     Dense(10, activation='softmax')\n",
        "# ])"
      ]
    },
    {
      "cell_type": "code",
      "execution_count": 11,
      "metadata": {
        "id": "TCfkkIPPB2HC",
        "outputId": "95d19317-9da5-4f4e-fe4e-729c4da12ed5",
        "colab": {
          "base_uri": "https://localhost:8080/"
        }
      },
      "outputs": [
        {
          "output_type": "stream",
          "name": "stdout",
          "text": [
            "Model: \"sequential\"\n",
            "_________________________________________________________________\n",
            " Layer (type)                Output Shape              Param #   \n",
            "=================================================================\n",
            " conv2d (Conv2D)             (None, 26, 26, 16)        160       \n",
            "                                                                 \n",
            " max_pooling2d (MaxPooling2D  (None, 24, 24, 16)       0         \n",
            " )                                                               \n",
            "                                                                 \n",
            " flatten (Flatten)           (None, 9216)              0         \n",
            "                                                                 \n",
            " dense (Dense)               (None, 64)                589888    \n",
            "                                                                 \n",
            " dense_1 (Dense)             (None, 10)                650       \n",
            "                                                                 \n",
            "=================================================================\n",
            "Total params: 590,698\n",
            "Trainable params: 590,698\n",
            "Non-trainable params: 0\n",
            "_________________________________________________________________\n"
          ]
        }
      ],
      "source": [
        "model.summary()"
      ]
    },
    {
      "cell_type": "markdown",
      "metadata": {
        "id": "1-2H9HI3FBvN"
      },
      "source": [
        "The first dimension in all the layers has a value of None, and that is because the first dimension will always be the batch size. And the batch size is flexible and we can ignore it for now."
      ]
    },
    {
      "cell_type": "code",
      "execution_count": 12,
      "metadata": {
        "id": "BDuCXL8jFC4T"
      },
      "outputs": [],
      "source": [
        "# number of parameters:\n",
        "# (3x3x1) x 16 = 160\n",
        "# 24 x 24 x 16 = 9216\n",
        "# 9216 x 64 + 64 = 589,888 \n",
        "# 64 x 10 + 10 = 650"
      ]
    },
    {
      "cell_type": "markdown",
      "metadata": {
        "id": "Aa3QZDenT3Va"
      },
      "source": [
        "# 4) Start Training (Compile)"
      ]
    },
    {
      "cell_type": "markdown",
      "metadata": {
        "id": "e9S68O0bT6x0"
      },
      "source": [
        "Compile the model. Use Adam optimizer and change the learning rate to 0.005. For loss, use 'sparse_categorical_crossentropy' and for metrics use 'SparseCategoricalAccuracy'."
      ]
    },
    {
      "cell_type": "code",
      "execution_count": 13,
      "metadata": {
        "id": "8NXquCaTT-7O"
      },
      "outputs": [],
      "source": [
        "model.compile(\n",
        "    optimizer = tf.keras.optimizers.Adam(learning_rate = 0.005),\n",
        "    loss = 'sparse_categorical_crossentropy', \n",
        "    metrics = [tf.keras.metrics.SparseCategoricalAccuracy()] \n",
        ")"
      ]
    },
    {
      "cell_type": "markdown",
      "metadata": {
        "id": "0TlLe4xdUBvX"
      },
      "source": [
        "# 5) Model Fit"
      ]
    },
    {
      "cell_type": "markdown",
      "metadata": {
        "id": "q_hEJcbCUgmM"
      },
      "source": [
        "Calling model.fit returns a TensorFlow history object. This object contains a record of the progress of the network during training in terms of the loss and the metrics that we defined when we compiled the model."
      ]
    },
    {
      "cell_type": "code",
      "execution_count": 14,
      "metadata": {
        "id": "dkpqCWDyUHa9"
      },
      "outputs": [],
      "source": [
        "# fit the model\n",
        "\n",
        "# history = model.fit(X_train, y_train, epochs = 8, batch_size = 256, verbose = 2)\n",
        "\n",
        "# This will give us error, can you see why?"
      ]
    },
    {
      "cell_type": "code",
      "execution_count": 15,
      "metadata": {
        "id": "81-LS7hmPktZ",
        "outputId": "194b5476-c108-4fb0-c228-36f9fbb45a73",
        "colab": {
          "base_uri": "https://localhost:8080/"
        }
      },
      "outputs": [
        {
          "output_type": "execute_result",
          "data": {
            "text/plain": [
              "(60000, 28, 28)"
            ]
          },
          "metadata": {},
          "execution_count": 15
        }
      ],
      "source": [
        "X_train.shape"
      ]
    },
    {
      "cell_type": "code",
      "execution_count": 16,
      "metadata": {
        "id": "vHb1OBdbPog7",
        "outputId": "b8a207f0-1b95-4175-ff2f-42601660726d",
        "colab": {
          "base_uri": "https://localhost:8080/"
        }
      },
      "outputs": [
        {
          "output_type": "execute_result",
          "data": {
            "text/plain": [
              "(60000, 28, 28, 1)"
            ]
          },
          "metadata": {},
          "execution_count": 16
        }
      ],
      "source": [
        "X_train[..., np.newaxis].shape"
      ]
    },
    {
      "cell_type": "markdown",
      "metadata": {
        "id": "rVqb9tSNVOS2"
      },
      "source": [
        "You get an error due to the input shape of the train images. This is due to the fact that in the sequential model you specified a channel dimension. To solve it, just set a dummy channel dimension to the training images. After this, you are set to run the fit method."
      ]
    },
    {
      "cell_type": "code",
      "execution_count": 17,
      "metadata": {
        "id": "UAs73vT_VZ4D",
        "outputId": "297c9670-71fb-497c-8021-32c9cee64a5c",
        "colab": {
          "base_uri": "https://localhost:8080/"
        }
      },
      "outputs": [
        {
          "output_type": "stream",
          "name": "stdout",
          "text": [
            "Epoch 1/8\n",
            "235/235 - 44s - loss: 0.5089 - sparse_categorical_accuracy: 0.8273 - 44s/epoch - 187ms/step\n",
            "Epoch 2/8\n",
            "235/235 - 42s - loss: 0.2914 - sparse_categorical_accuracy: 0.8963 - 42s/epoch - 179ms/step\n",
            "Epoch 3/8\n",
            "235/235 - 43s - loss: 0.2548 - sparse_categorical_accuracy: 0.9076 - 43s/epoch - 183ms/step\n",
            "Epoch 4/8\n",
            "235/235 - 41s - loss: 0.2328 - sparse_categorical_accuracy: 0.9156 - 41s/epoch - 176ms/step\n",
            "Epoch 5/8\n",
            "235/235 - 42s - loss: 0.2112 - sparse_categorical_accuracy: 0.9235 - 42s/epoch - 177ms/step\n",
            "Epoch 6/8\n",
            "235/235 - 42s - loss: 0.1950 - sparse_categorical_accuracy: 0.9276 - 42s/epoch - 177ms/step\n",
            "Epoch 7/8\n",
            "235/235 - 41s - loss: 0.1833 - sparse_categorical_accuracy: 0.9316 - 41s/epoch - 174ms/step\n",
            "Epoch 8/8\n",
            "235/235 - 42s - loss: 0.1659 - sparse_categorical_accuracy: 0.9372 - 42s/epoch - 180ms/step\n"
          ]
        }
      ],
      "source": [
        "history = model.fit(X_train[..., np.newaxis] , y_train, epochs = 8, batch_size = 256, verbose = 2)"
      ]
    },
    {
      "cell_type": "code",
      "execution_count": 18,
      "metadata": {
        "id": "M9epIx1maNN7"
      },
      "outputs": [],
      "source": [
        "# Load the history into a pandas Dataframe\n",
        "\n",
        "df = pd.DataFrame(history.history)"
      ]
    },
    {
      "cell_type": "code",
      "execution_count": 19,
      "metadata": {
        "id": "7ibDI5UmaRFF",
        "outputId": "0d30d0b1-72bb-487a-f372-8f84469e6499",
        "colab": {
          "base_uri": "https://localhost:8080/",
          "height": 490
        }
      },
      "outputs": [
        {
          "output_type": "execute_result",
          "data": {
            "text/plain": [
              "[Text(0.5, 0, 'Epochs'), Text(0, 0.5, 'Loss')]"
            ]
          },
          "metadata": {},
          "execution_count": 19
        },
        {
          "output_type": "display_data",
          "data": {
            "text/plain": [
              "<Figure size 640x480 with 1 Axes>"
            ],
            "image/png": "[encoded data removed]"
          },
          "metadata": {}
        }
      ],
      "source": [
        "# Make a plot for the loss\n",
        "\n",
        "loss_plot = df.plot(y=\"loss\", title = \"Loss vs. Epochs\", legend=False)\n",
        "loss_plot.set(xlabel=\"Epochs\", ylabel=\"Loss\")"
      ]
    },
    {
      "cell_type": "code",
      "execution_count": 20,
      "metadata": {
        "id": "eHk6LyBXaSWE",
        "outputId": "c1e712c3-f265-45bd-f790-f3404e16ecac",
        "colab": {
          "base_uri": "https://localhost:8080/",
          "height": 467
        }
      },
      "outputs": [
        {
          "output_type": "execute_result",
          "data": {
            "text/plain": [
              "[Text(0.5, 0, 'Epochs'), Text(0, 0.5, 'sparse_categorical_accuracy')]"
            ]
          },
          "metadata": {},
          "execution_count": 20
        },
        {
          "output_type": "display_data",
          "data": {
            "text/plain": [
              "<Figure size 640x480 with 1 Axes>"
            ],
            "image/png": "[encoded data removed]"
          },
          "metadata": {}
        }
      ],
      "source": [
        "# Make a plot for the accuracy\n",
        "\n",
        "accuracy_plot = df.plot(y=\"sparse_categorical_accuracy\", legend=False)\n",
        "accuracy_plot.set(xlabel=\"Epochs\", ylabel=\"sparse_categorical_accuracy\")"
      ]
    },
    {
      "cell_type": "markdown",
      "metadata": {
        "id": "wUDBEyCScAT3"
      },
      "source": [
        "# 6) Model Fit with Validation Sets"
      ]
    },
    {
      "cell_type": "code",
      "execution_count": 21,
      "metadata": {
        "id": "qEQdVgwrcBRk",
        "outputId": "8085ac68-8131-4575-ac68-f0ee58863f3c",
        "colab": {
          "base_uri": "https://localhost:8080/"
        }
      },
      "outputs": [
        {
          "output_type": "stream",
          "name": "stdout",
          "text": [
            "Epoch 1/8\n",
            "188/188 - 33s - loss: 0.1550 - sparse_categorical_accuracy: 0.9416 - val_loss: 0.1701 - val_sparse_categorical_accuracy: 0.9341 - 33s/epoch - 177ms/step\n",
            "Epoch 2/8\n",
            "188/188 - 35s - loss: 0.1494 - sparse_categorical_accuracy: 0.9445 - val_loss: 0.1694 - val_sparse_categorical_accuracy: 0.9369 - 35s/epoch - 188ms/step\n",
            "Epoch 3/8\n",
            "188/188 - 35s - loss: 0.1285 - sparse_categorical_accuracy: 0.9518 - val_loss: 0.1798 - val_sparse_categorical_accuracy: 0.9316 - 35s/epoch - 184ms/step\n",
            "Epoch 4/8\n",
            "188/188 - 34s - loss: 0.1214 - sparse_categorical_accuracy: 0.9547 - val_loss: 0.1749 - val_sparse_categorical_accuracy: 0.9356 - 34s/epoch - 181ms/step\n",
            "Epoch 5/8\n",
            "188/188 - 35s - loss: 0.1055 - sparse_categorical_accuracy: 0.9613 - val_loss: 0.1813 - val_sparse_categorical_accuracy: 0.9357 - 35s/epoch - 188ms/step\n",
            "Epoch 6/8\n",
            "188/188 - 35s - loss: 0.1019 - sparse_categorical_accuracy: 0.9615 - val_loss: 0.1974 - val_sparse_categorical_accuracy: 0.9294 - 35s/epoch - 184ms/step\n",
            "Epoch 7/8\n",
            "188/188 - 34s - loss: 0.0970 - sparse_categorical_accuracy: 0.9626 - val_loss: 0.2029 - val_sparse_categorical_accuracy: 0.9329 - 34s/epoch - 179ms/step\n",
            "Epoch 8/8\n",
            "188/188 - 34s - loss: 0.0897 - sparse_categorical_accuracy: 0.9668 - val_loss: 0.2748 - val_sparse_categorical_accuracy: 0.9154 - 34s/epoch - 183ms/step\n"
          ]
        }
      ],
      "source": [
        "# fit the model with validation set\n",
        "\n",
        "history = model.fit(X_train[..., np.newaxis], y_train, epochs = 8, batch_size = 256, verbose = 2, validation_split=0.2) \n",
        "# The 0.2 means that 20 percent of the training data will be held back for validation."
      ]
    },
    {
      "cell_type": "code",
      "execution_count": 22,
      "metadata": {
        "id": "2nFlnQ7pepza",
        "outputId": "a4eff7b1-d579-4ac3-c97e-fb7f1cf023b6",
        "colab": {
          "base_uri": "https://localhost:8080/",
          "height": 472
        }
      },
      "outputs": [
        {
          "output_type": "display_data",
          "data": {
            "text/plain": [
              "<Figure size 640x480 with 1 Axes>"
            ],
            "image/png": "[encoded data removed]"
          },
          "metadata": {}
        }
      ],
      "source": [
        "# Plot the training and validation loss\n",
        "\n",
        "plt.plot(history.history['loss'])\n",
        "plt.plot(history.history['val_loss'])\n",
        "plt.title('Loss vs. epochs')\n",
        "plt.ylabel('Loss')\n",
        "plt.xlabel('Epoch')\n",
        "plt.legend(['Training', 'Validation'], loc='upper right')\n",
        "plt.show()"
      ]
    },
    {
      "cell_type": "markdown",
      "metadata": {
        "id": "L9tHLb0tVeSe"
      },
      "source": [
        "# 7) Reduce Overfitting"
      ]
    },
    {
      "cell_type": "code",
      "execution_count": 23,
      "metadata": {
        "id": "XeZLsSn5Vs8v"
      },
      "outputs": [],
      "source": [
        "model = Sequential([\n",
        "                    Conv2D(filters=16, kernel_size=(3,3), strides=(1,1), padding='valid', activation = 'relu', input_shape=(28,28,1)), # note we need 1 in  input_shape=(28,28,1)\n",
        "                    MaxPooling2D(pool_size=(3,3), strides=(1,1), padding='valid'),\n",
        "                    Flatten(),\n",
        "                    BatchNormalization(),\n",
        "                    Dropout(0.5),\n",
        "                    Dense(64, activation = 'relu'),\n",
        "                    BatchNormalization(),\n",
        "                    Dropout(0.5),\n",
        "                    Dense(10, activation='softmax')\n",
        "])"
      ]
    },
    {
      "cell_type": "code",
      "execution_count": 24,
      "metadata": {
        "id": "mXYOPdW6X8qK",
        "outputId": "61a613a6-ce17-4019-8e7b-ce58c0e84c74",
        "colab": {
          "base_uri": "https://localhost:8080/"
        }
      },
      "outputs": [
        {
          "output_type": "stream",
          "name": "stdout",
          "text": [
            "Model: \"sequential_1\"\n",
            "_________________________________________________________________\n",
            " Layer (type)                Output Shape              Param #   \n",
            "=================================================================\n",
            " conv2d_1 (Conv2D)           (None, 26, 26, 16)        160       \n",
            "                                                                 \n",
            " max_pooling2d_1 (MaxPooling  (None, 24, 24, 16)       0         \n",
            " 2D)                                                             \n",
            "                                                                 \n",
            " flatten_1 (Flatten)         (None, 9216)              0         \n",
            "                                                                 \n",
            " batch_normalization (BatchN  (None, 9216)             36864     \n",
            " ormalization)                                                   \n",
            "                                                                 \n",
            " dropout (Dropout)           (None, 9216)              0         \n",
            "                                                                 \n",
            " dense_2 (Dense)             (None, 64)                589888    \n",
            "                                                                 \n",
            " batch_normalization_1 (Batc  (None, 64)               256       \n",
            " hNormalization)                                                 \n",
            "                                                                 \n",
            " dropout_1 (Dropout)         (None, 64)                0         \n",
            "                                                                 \n",
            " dense_3 (Dense)             (None, 10)                650       \n",
            "                                                                 \n",
            "=================================================================\n",
            "Total params: 627,818\n",
            "Trainable params: 609,258\n",
            "Non-trainable params: 18,560\n",
            "_________________________________________________________________\n"
          ]
        }
      ],
      "source": [
        "model.summary()"
      ]
    },
    {
      "cell_type": "code",
      "execution_count": 25,
      "metadata": {
        "id": "Mt8_5RCxYAe-"
      },
      "outputs": [],
      "source": [
        "model.compile(\n",
        "    optimizer = tf.keras.optimizers.Adam(learning_rate = 0.005),\n",
        "    loss = 'sparse_categorical_crossentropy', \n",
        "    metrics = [tf.keras.metrics.SparseCategoricalAccuracy()] \n",
        ")"
      ]
    },
    {
      "cell_type": "code",
      "execution_count": 26,
      "metadata": {
        "id": "jfqedptfYDhU",
        "outputId": "98ddc3f0-e8ac-4e15-f92f-c4fb9793d60c",
        "colab": {
          "base_uri": "https://localhost:8080/"
        }
      },
      "outputs": [
        {
          "output_type": "stream",
          "name": "stdout",
          "text": [
            "Epoch 1/8\n",
            "188/188 - 56s - loss: 0.5941 - sparse_categorical_accuracy: 0.7902 - val_loss: 1.1098 - val_sparse_categorical_accuracy: 0.8012 - 56s/epoch - 300ms/step\n",
            "Epoch 2/8\n",
            "188/188 - 51s - loss: 0.3826 - sparse_categorical_accuracy: 0.8666 - val_loss: 0.4561 - val_sparse_categorical_accuracy: 0.8717 - 51s/epoch - 271ms/step\n",
            "Epoch 3/8\n",
            "188/188 - 51s - loss: 0.3378 - sparse_categorical_accuracy: 0.8805 - val_loss: 0.2910 - val_sparse_categorical_accuracy: 0.9008 - 51s/epoch - 272ms/step\n",
            "Epoch 4/8\n",
            "188/188 - 51s - loss: 0.3194 - sparse_categorical_accuracy: 0.8874 - val_loss: 0.2993 - val_sparse_categorical_accuracy: 0.8916 - 51s/epoch - 274ms/step\n",
            "Epoch 5/8\n",
            "188/188 - 52s - loss: 0.2991 - sparse_categorical_accuracy: 0.8946 - val_loss: 0.3001 - val_sparse_categorical_accuracy: 0.8888 - 52s/epoch - 274ms/step\n",
            "Epoch 6/8\n",
            "188/188 - 51s - loss: 0.2893 - sparse_categorical_accuracy: 0.8967 - val_loss: 0.2564 - val_sparse_categorical_accuracy: 0.9089 - 51s/epoch - 272ms/step\n",
            "Epoch 7/8\n",
            "188/188 - 50s - loss: 0.2808 - sparse_categorical_accuracy: 0.8992 - val_loss: 0.2804 - val_sparse_categorical_accuracy: 0.8939 - 50s/epoch - 266ms/step\n",
            "Epoch 8/8\n",
            "188/188 - 50s - loss: 0.2757 - sparse_categorical_accuracy: 0.8999 - val_loss: 0.2548 - val_sparse_categorical_accuracy: 0.9094 - 50s/epoch - 267ms/step\n"
          ]
        }
      ],
      "source": [
        "# fit the model with validation set\n",
        "\n",
        "history = model.fit(X_train[..., np.newaxis], y_train, epochs = 8, batch_size = 256, verbose = 2, validation_split=0.2) "
      ]
    },
    {
      "cell_type": "code",
      "execution_count": 27,
      "metadata": {
        "id": "DUOFTTnQnbTR",
        "outputId": "f4eaa6a2-3fdf-4781-b7f4-c8115533a86f",
        "colab": {
          "base_uri": "https://localhost:8080/",
          "height": 472
        }
      },
      "outputs": [
        {
          "output_type": "display_data",
          "data": {
            "text/plain": [
              "<Figure size 640x480 with 1 Axes>"
            ],
            "image/png": "[encoded data removed]"
          },
          "metadata": {}
        }
      ],
      "source": [
        "# Plot the training and validation loss\n",
        "\n",
        "plt.plot(history.history['loss'])\n",
        "plt.plot(history.history['val_loss'])\n",
        "plt.title('Loss vs. epochs')\n",
        "plt.ylabel('Loss')\n",
        "plt.xlabel('Epoch')\n",
        "plt.legend(['Training', 'Validation'], loc='upper right')\n",
        "plt.show()"
      ]
    },
    {
      "cell_type": "markdown",
      "metadata": {
        "id": "hWs2eGmko8nF"
      },
      "source": [
        "# 8) Model Evaluate on Test"
      ]
    },
    {
      "cell_type": "code",
      "execution_count": 28,
      "metadata": {
        "id": "X0KE1b_So_5P",
        "outputId": "91c71fdf-818f-4cfd-d60b-aeb859a067d6",
        "colab": {
          "base_uri": "https://localhost:8080/"
        }
      },
      "outputs": [
        {
          "output_type": "stream",
          "name": "stdout",
          "text": [
            "313/313 [==============================] - 3s 9ms/step - loss: 0.2696 - sparse_categorical_accuracy: 0.9030\n"
          ]
        }
      ],
      "source": [
        "test_loss, test_accuracy = model.evaluate(X_test[..., np.newaxis], y_test)"
      ]
    },
    {
      "cell_type": "markdown",
      "metadata": {
        "id": "Ns3xgsIKCL5V"
      },
      "source": [
        "# 9) Model Predict"
      ]
    },
    {
      "cell_type": "code",
      "execution_count": 29,
      "metadata": {
        "id": "48ni4DFxCMPk",
        "outputId": "1044aba4-c49a-4a40-e103-3bab9fa62281",
        "colab": {
          "base_uri": "https://localhost:8080/",
          "height": 448
        }
      },
      "outputs": [
        {
          "output_type": "display_data",
          "data": {
            "text/plain": [
              "<Figure size 640x480 with 1 Axes>"
            ],
            "image/png": "[encoded data removed]"
          },
          "metadata": {}
        },
        {
          "output_type": "stream",
          "name": "stdout",
          "text": [
            "Label: Shirt\n"
          ]
        }
      ],
      "source": [
        "# Choose a random test image\n",
        "\n",
        "random_inx = np.random.choice(X_test.shape[0])\n",
        "X_sample = X_test[random_inx, :]\n",
        "plt.imshow(X_sample)\n",
        "plt.show()\n",
        "print(f\"Label: {labels[y_test[random_inx]]}\")"
      ]
    },
    {
      "cell_type": "code",
      "execution_count": 30,
      "metadata": {
        "id": "zNMRdb_tCSJd",
        "outputId": "8003525b-1ed4-4c85-a40b-0a0763e358ad",
        "colab": {
          "base_uri": "https://localhost:8080/"
        }
      },
      "outputs": [
        {
          "output_type": "stream",
          "name": "stdout",
          "text": [
            "1/1 [==============================] - 0s 193ms/step\n"
          ]
        },
        {
          "output_type": "execute_result",
          "data": {
            "text/plain": [
              "array([[1.3694051e-03, 1.7663930e-06, 7.1935761e-03, 1.4981980e-04,\n",
              "        1.4148514e-02, 8.9657408e-07, 9.7711790e-01, 3.4958126e-07,\n",
              "        1.7230564e-05, 5.4205117e-07]], dtype=float32)"
            ]
          },
          "metadata": {},
          "execution_count": 30
        }
      ],
      "source": [
        "# Get the model predictions\n",
        "\n",
        "model.predict(X_sample[np.newaxis,...,np.newaxis])"
      ]
    },
    {
      "cell_type": "code",
      "execution_count": 31,
      "metadata": {
        "id": "t1t-R9ggCa80",
        "outputId": "2fabe4bd-e2bb-444a-ba36-abbba71908cb",
        "colab": {
          "base_uri": "https://localhost:8080/"
        }
      },
      "outputs": [
        {
          "output_type": "stream",
          "name": "stdout",
          "text": [
            "1/1 [==============================] - 0s 24ms/step\n",
            "6\n",
            "Model prediction:Shirt\n"
          ]
        }
      ],
      "source": [
        "# Get the model prediction label\n",
        "\n",
        "predictions = model.predict(X_sample[np.newaxis,...,np.newaxis])\n",
        "print(np.argmax(predictions))\n",
        "print(f\"Model prediction:{labels[np.argmax(predictions)]}\")"
      ]
    }
  ],
  "metadata": {
    "colab": {
      "provenance": [],
      "include_colab_link": true
    },
    "kernelspec": {
      "display_name": "Python 3",
      "language": "python",
      "name": "python3"
    },
    "language_info": {
      "codemirror_mode": {
        "name": "ipython",
        "version": 3
      },
      "file_extension": ".py",
      "mimetype": "text/x-python",
      "name": "python",
      "nbconvert_exporter": "python",
      "pygments_lexer": "ipython3",
      "version": "3.8.5"
    }
  },
  "nbformat": 4,
  "nbformat_minor": 0
}