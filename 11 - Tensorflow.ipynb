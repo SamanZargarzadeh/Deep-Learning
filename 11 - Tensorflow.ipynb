{
 "cells": [
  {
   "cell_type": "markdown",
   "metadata": {
    "id": "0ElpI5lHLqv8"
   },
   "source": [
    "# Colab"
   ]
  },
  {
   "cell_type": "markdown",
   "metadata": {
    "id": "IhsZuiY9ad-U"
   },
   "source": [
    "To load data from your Google drive, first you need to mount Google drive. First, run the code below. Second, in order to get the authorization code, you should click on the link, choose your Google account, click on 'allow' and copy the code and paste it in the box below and press Enter. Once done it will show you \"Mounted at gdrive\". You know the Google drive is mounted once you see your folders on the left panel.\n",
    "\n",
    "\n",
    "\n",
    "\n",
    "\n"
   ]
  },
  {
   "cell_type": "code",
   "execution_count": null,
   "metadata": {
    "colab": {
     "base_uri": "https://localhost:8080/"
    },
    "executionInfo": {
     "elapsed": 29327,
     "status": "ok",
     "timestamp": 1652719464780,
     "user": {
      "displayName": "Behnaz G",
      "userId": "15627282811872666397"
     },
     "user_tz": 420
    },
    "id": "NxOJfwnMt-sc",
    "outputId": "54007089-ce05-4884-ca11-05281f81facc"
   },
   "outputs": [],
   "source": [
    "from google.colab import drive\n",
    "drive.mount('gdrive')"
   ]
  },
  {
   "cell_type": "markdown",
   "metadata": {
    "id": "lG8F4AaigI5f"
   },
   "source": [
    "# 1) Import "
   ]
  },
  {
   "cell_type": "code",
   "execution_count": null,
   "metadata": {
    "id": "bUl20Z9l2Yq8"
   },
   "outputs": [],
   "source": [
    "import tensorflow as tf"
   ]
  },
  {
   "cell_type": "code",
   "execution_count": null,
   "metadata": {
    "colab": {
     "base_uri": "https://localhost:8080/",
     "height": 35
    },
    "executionInfo": {
     "elapsed": 163,
     "status": "ok",
     "timestamp": 1652719485128,
     "user": {
      "displayName": "Behnaz G",
      "userId": "15627282811872666397"
     },
     "user_tz": 420
    },
    "id": "DXk2d8A52ySO",
    "outputId": "07824004-4fb2-4361-913f-3a3fbcab2f01"
   },
   "outputs": [],
   "source": [
    "# check the version\n",
    "tf.__version__"
   ]
  },
  {
   "cell_type": "code",
   "execution_count": null,
   "metadata": {
    "id": "KwR0wxfxDvLr"
   },
   "outputs": [],
   "source": [
    "from tensorflow.keras.models import Sequential\n",
    "from tensorflow.keras.layers import Dense, Flatten, Dropout \n",
    "from tensorflow.keras import regularizers\n",
    "from tensorflow.keras.callbacks import Callback\n",
    "from tensorflow.keras.preprocessing import image"
   ]
  },
  {
   "cell_type": "code",
   "execution_count": null,
   "metadata": {
    "id": "rWNYn_VmWX5Y"
   },
   "outputs": [],
   "source": [
    "import numpy as np\n",
    "import pandas as pd\n",
    "import matplotlib.pyplot as plt\n",
    "%matplotlib inline"
   ]
  },
  {
   "cell_type": "markdown",
   "metadata": {
    "id": "CFp_nFFm6xDy"
   },
   "source": [
    "# 2) Load Data"
   ]
  },
  {
   "cell_type": "code",
   "execution_count": null,
   "metadata": {
    "colab": {
     "base_uri": "https://localhost:8080/"
    },
    "executionInfo": {
     "elapsed": 1336,
     "status": "ok",
     "timestamp": 1652719493718,
     "user": {
      "displayName": "Behnaz G",
      "userId": "15627282811872666397"
     },
     "user_tz": 420
    },
    "id": "dTnwaNYTIcEk",
    "outputId": "1c915790-da27-43e6-be1f-a3124f0fcca6"
   },
   "outputs": [],
   "source": [
    "fashion_mnist_data = tf.keras.datasets.fashion_mnist\n",
    "(X_train, y_train), (X_test, y_test) = fashion_mnist_data.load_data()"
   ]
  },
  {
   "cell_type": "code",
   "execution_count": null,
   "metadata": {
    "colab": {
     "base_uri": "https://localhost:8080/"
    },
    "executionInfo": {
     "elapsed": 183,
     "status": "ok",
     "timestamp": 1652719524186,
     "user": {
      "displayName": "Behnaz G",
      "userId": "15627282811872666397"
     },
     "user_tz": 420
    },
    "id": "B0XxNSnvIc39",
    "outputId": "2e079c9e-3a38-4600-c863-54667440b75d"
   },
   "outputs": [],
   "source": [
    "print(\"train X shape: \", X_train.shape) # X_train: numpy array with shape: (num_samples_train, num_features)\n",
    "print(\"train y shape: \", y_train.shape) # y_train: numpy array with shape: (num_samples_train,) \n",
    "print(\"test X shape: \", X_test.shape)   # X_test: numpy array with shape: (num_samples_test, num_features)\n",
    "print(\"test y shape: \", y_test.shape)   # y_test: numpy array with shape: (num_samples_test,)"
   ]
  },
  {
   "cell_type": "markdown",
   "metadata": {
    "id": "zV4XuwpWIdG5"
   },
   "source": [
    "The labels are integers from 0 to 9, and each number represents a piece of clothes following the order in labels."
   ]
  },
  {
   "cell_type": "code",
   "execution_count": null,
   "metadata": {
    "colab": {
     "base_uri": "https://localhost:8080/"
    },
    "executionInfo": {
     "elapsed": 134,
     "status": "ok",
     "timestamp": 1652719542045,
     "user": {
      "displayName": "Behnaz G",
      "userId": "15627282811872666397"
     },
     "user_tz": 420
    },
    "id": "it9_9zb0IdTm",
    "outputId": "e78cc548-4cf8-441d-fdad-7cc2ab89f359"
   },
   "outputs": [],
   "source": [
    "print(\"minimum train y value: \", min(y_train))\n",
    "print(\"maximum train y value: \", max(y_train))"
   ]
  },
  {
   "cell_type": "code",
   "execution_count": null,
   "metadata": {
    "id": "SE6467TEIdfr"
   },
   "outputs": [],
   "source": [
    "# Define the labels\n",
    "\n",
    "labels = [\n",
    "    'T-shirt/top', # 0\n",
    "    'Trouser',     # 1\n",
    "    'Pullover',    # 2\n",
    "    'Dress',       # 3\n",
    "    'Coat',        # 4\n",
    "    'Sandal',      # 5\n",
    "    'Shirt',       # 6\n",
    "    'Sneaker',     # 7\n",
    "    'Bag',         # 8\n",
    "    'Ankle boot'   # 9\n",
    "]"
   ]
  },
  {
   "cell_type": "code",
   "execution_count": null,
   "metadata": {
    "colab": {
     "base_uri": "https://localhost:8080/",
     "height": 282
    },
    "executionInfo": {
     "elapsed": 395,
     "status": "ok",
     "timestamp": 1652719552014,
     "user": {
      "displayName": "Behnaz G",
      "userId": "15627282811872666397"
     },
     "user_tz": 420
    },
    "id": "wWjfYnKkIdr2",
    "outputId": "54393609-eba2-4209-f17c-419ac9a9ba60"
   },
   "outputs": [],
   "source": [
    "# Display one of the images\n",
    "\n",
    "i = 1\n",
    "img = X_train[i, : , :]\n",
    "plt.imshow(img)\n",
    "plt.show()\n",
    "print(f\"label: {labels[y_train[i]]}\")"
   ]
  },
  {
   "cell_type": "code",
   "execution_count": null,
   "metadata": {
    "colab": {
     "base_uri": "https://localhost:8080/"
    },
    "executionInfo": {
     "elapsed": 6,
     "status": "ok",
     "timestamp": 1652719554541,
     "user": {
      "displayName": "Behnaz G",
      "userId": "15627282811872666397"
     },
     "user_tz": 420
    },
    "id": "Q83MuprFJw0S",
    "outputId": "23cf4958-da89-40f5-d22f-f76160ea02f5"
   },
   "outputs": [],
   "source": [
    "# display y label\n",
    "y_train[i]"
   ]
  },
  {
   "cell_type": "code",
   "execution_count": null,
   "metadata": {
    "id": "gOhc81IGI0z1"
   },
   "outputs": [],
   "source": [
    "# Rescale the image values so that they lie in between 0 and 1.\n",
    "\n",
    "X_train = X_train / 255.\n",
    "X_test = X_test / 255."
   ]
  },
  {
   "cell_type": "markdown",
   "metadata": {
    "id": "H4NdPJMVgVPa"
   },
   "source": [
    "# 3) Build Model (Sequential)"
   ]
  },
  {
   "cell_type": "markdown",
   "metadata": {
    "id": "91zky4emhjNA"
   },
   "source": [
    "Here, we build a NN model (feed forward) with one or more hidden layers. "
   ]
  },
  {
   "cell_type": "markdown",
   "metadata": {
    "id": "udEycVEOQHmM"
   },
   "source": [
    "## Examples"
   ]
  },
  {
   "cell_type": "code",
   "execution_count": null,
   "metadata": {
    "id": "8mRUSOniOa4w"
   },
   "outputs": [],
   "source": [
    "# example 1\n",
    "\n",
    "# building a NN model \n",
    "# the input layer with 16 units\n",
    "# one hidden layer, with 64 units, with a relu activation function.\n",
    "# the output layer is binary with a sigmoid activation function.\n",
    "\n",
    "model1 = Sequential([\n",
    "                    Dense(64, activation = 'relu', input_shape = (16,)),\n",
    "                    Dense(1, activation = 'sigmoid')\n",
    "])"
   ]
  },
  {
   "cell_type": "markdown",
   "metadata": {
    "id": "CgNPZ5UyN7BV"
   },
   "source": [
    "Note: If you don't specify the activation function, it will be linear."
   ]
  },
  {
   "cell_type": "markdown",
   "metadata": {
    "id": "DbkaDC6CO4v7"
   },
   "source": [
    "Read more about other activation choices here: https://www.tensorflow.org/api_docs/python/tf/keras/activations"
   ]
  },
  {
   "cell_type": "markdown",
   "metadata": {
    "id": "sWARuuq5LKnz"
   },
   "source": [
    "Let's take a look at the model we just bulit:"
   ]
  },
  {
   "cell_type": "code",
   "execution_count": null,
   "metadata": {
    "colab": {
     "base_uri": "https://localhost:8080/"
    },
    "executionInfo": {
     "elapsed": 163,
     "status": "ok",
     "timestamp": 1652719562306,
     "user": {
      "displayName": "Behnaz G",
      "userId": "15627282811872666397"
     },
     "user_tz": 420
    },
    "id": "5Ebd_q5yLOJc",
    "outputId": "037270b2-191b-4d32-d5ab-dda08eb50740"
   },
   "outputs": [],
   "source": [
    "model1.summary()"
   ]
  },
  {
   "cell_type": "markdown",
   "metadata": {
    "id": "4zove5MfLS45"
   },
   "source": [
    "We can also take a look at the value of initial weights and biases:"
   ]
  },
  {
   "cell_type": "code",
   "execution_count": null,
   "metadata": {
    "colab": {
     "base_uri": "https://localhost:8080/"
    },
    "executionInfo": {
     "elapsed": 201,
     "status": "ok",
     "timestamp": 1652141402388,
     "user": {
      "displayName": "Behnaz G",
      "userId": "15627282811872666397"
     },
     "user_tz": 420
    },
    "id": "NLEB7bfULTLe",
    "outputId": "ca798f99-82e0-4741-acee-f1682bb5d500"
   },
   "outputs": [],
   "source": [
    "model1.weights"
   ]
  },
  {
   "cell_type": "markdown",
   "metadata": {
    "id": "Lq3IKkO8OrbK"
   },
   "source": [
    "An alternative way to build sequential models:"
   ]
  },
  {
   "cell_type": "code",
   "execution_count": null,
   "metadata": {
    "id": "ejbPp3PBOrve"
   },
   "outputs": [],
   "source": [
    "# example 1 - alternative method:\n",
    "\n",
    "# building a NN model \n",
    "# the input layer with 16 units\n",
    "# one hidden layer, with 64 units, with a relu activation function.\n",
    "# the output layer is binary with a sigmoid activation function.\n",
    "\n",
    "model1 = Sequential()\n",
    "model1.add(Dense(64, activation = 'relu', input_shape = (16,)))\n",
    "model1.add(Dense(1, activation = 'sigmoid'))\n",
    "\n",
    "# model.add append additional layers to the model"
   ]
  },
  {
   "cell_type": "code",
   "execution_count": null,
   "metadata": {
    "colab": {
     "base_uri": "https://localhost:8080/"
    },
    "executionInfo": {
     "elapsed": 209,
     "status": "ok",
     "timestamp": 1652218599550,
     "user": {
      "displayName": "Behnaz G",
      "userId": "15627282811872666397"
     },
     "user_tz": 420
    },
    "id": "7pL37medRHSz",
    "outputId": "44141aeb-24b0-451e-8e9a-f822ba59dec8"
   },
   "outputs": [],
   "source": [
    "model1.summary()"
   ]
  },
  {
   "cell_type": "markdown",
   "metadata": {
    "id": "XG0VQyz2_6km"
   },
   "source": [
    "More examples:"
   ]
  },
  {
   "cell_type": "code",
   "execution_count": null,
   "metadata": {
    "id": "7fT-vboV3glB"
   },
   "outputs": [],
   "source": [
    "# example 2\n",
    "\n",
    "# building a NN model \n",
    "# the input layer with 16 units\n",
    "# one hidden layer, with 32 units, with a relu activation function.\n",
    "# the output layer is multi-class with 10 classes (activation function is softmax).\n",
    "\n",
    "model2 = Sequential([\n",
    "                    Dense(32, activation = 'relu', input_shape = (16,)),\n",
    "                    Dense(10, activation = 'softmax')\n",
    "])"
   ]
  },
  {
   "cell_type": "code",
   "execution_count": null,
   "metadata": {
    "colab": {
     "base_uri": "https://localhost:8080/"
    },
    "executionInfo": {
     "elapsed": 198,
     "status": "ok",
     "timestamp": 1652218661924,
     "user": {
      "displayName": "Behnaz G",
      "userId": "15627282811872666397"
     },
     "user_tz": 420
    },
    "id": "miho1IyUD6f4",
    "outputId": "afbd7a64-6d17-4bdc-a6c1-7a4c9b72c2a7"
   },
   "outputs": [],
   "source": [
    "model2.summary()"
   ]
  },
  {
   "cell_type": "code",
   "execution_count": null,
   "metadata": {
    "id": "Lu-FjI6B3jwO"
   },
   "outputs": [],
   "source": [
    "# example 3\n",
    "\n",
    "# building a NN model \n",
    "# the input layer with 16 units\n",
    "# first hidden layer, with 32 units, with a relu activation function.\n",
    "# second hidden layer, with 8 units, with a relu activation function.\n",
    "# the output layer is binary with a sigmoid activation function.\n",
    "\n",
    "model3 = Sequential([\n",
    "                    Dense(32, activation = 'relu', input_shape = (16,)),\n",
    "                    Dense(8, activation = 'relu'),\n",
    "                    Dense(1, activation = 'sigmoid')\n",
    "])"
   ]
  },
  {
   "cell_type": "code",
   "execution_count": null,
   "metadata": {
    "colab": {
     "base_uri": "https://localhost:8080/"
    },
    "executionInfo": {
     "elapsed": 177,
     "status": "ok",
     "timestamp": 1652218806267,
     "user": {
      "displayName": "Behnaz G",
      "userId": "15627282811872666397"
     },
     "user_tz": 420
    },
    "id": "xl8b96vaD81H",
    "outputId": "49c12a02-39b6-42bd-9ec6-53accf5f9d8e"
   },
   "outputs": [],
   "source": [
    "model3.summary()"
   ]
  },
  {
   "cell_type": "code",
   "execution_count": null,
   "metadata": {
    "id": "fR3Ag2y6Czxi"
   },
   "outputs": [],
   "source": [
    "# example 4\n",
    "\n",
    "# building a NN model\n",
    "# the input layer with 16 units\n",
    "# no hidden layers\n",
    "# the output layer is binary with a sigmoid activation function.\n",
    "\n",
    "model4 = Sequential([\n",
    "                    Dense(1, activation = 'sigmoid', input_shape = (16,))\n",
    "])"
   ]
  },
  {
   "cell_type": "code",
   "execution_count": null,
   "metadata": {
    "colab": {
     "base_uri": "https://localhost:8080/"
    },
    "executionInfo": {
     "elapsed": 232,
     "status": "ok",
     "timestamp": 1652218845518,
     "user": {
      "displayName": "Behnaz G",
      "userId": "15627282811872666397"
     },
     "user_tz": 420
    },
    "id": "kfQ9wxibD-oo",
    "outputId": "c778bd65-9e73-443c-bb5e-28014cd108bb"
   },
   "outputs": [],
   "source": [
    "model4.summary()"
   ]
  },
  {
   "cell_type": "markdown",
   "metadata": {
    "id": "fMjpUJNbl1mD"
   },
   "source": [
    "If the input shape is two-dimensional, we can flatten it and unroll it into a long one-dimensional vector first:"
   ]
  },
  {
   "cell_type": "code",
   "execution_count": null,
   "metadata": {
    "id": "c5YhtRNdEk5g"
   },
   "outputs": [],
   "source": [
    "# example 5:\n",
    "\n",
    "# building a NN model \n",
    "# the input layer with input_shape (4, 4)\n",
    "# one hidden layer, with 64 units, with a relu activation function.\n",
    "# the output layer is binary with a sigmoid activation function.\n",
    "\n",
    "model5 = Sequential([\n",
    "                    Flatten(input_shape = (4, 4)), #(16,)\n",
    "                    Dense(64, activation = 'relu'),\n",
    "                    Dense(1, activation = 'sigmoid')\n",
    "])"
   ]
  },
  {
   "cell_type": "code",
   "execution_count": null,
   "metadata": {
    "colab": {
     "base_uri": "https://localhost:8080/"
    },
    "executionInfo": {
     "elapsed": 165,
     "status": "ok",
     "timestamp": 1652218976845,
     "user": {
      "displayName": "Behnaz G",
      "userId": "15627282811872666397"
     },
     "user_tz": 420
    },
    "id": "3Qm7xiq-PKNu",
    "outputId": "e125297e-fb45-4f9e-84ab-3df7279768be"
   },
   "outputs": [],
   "source": [
    "model5.summary()"
   ]
  },
  {
   "cell_type": "markdown",
   "metadata": {
    "id": "yVPxHYusnDoY"
   },
   "source": [
    "We can define a name for each layer:"
   ]
  },
  {
   "cell_type": "code",
   "execution_count": null,
   "metadata": {
    "id": "UuL9xQ6A4K-_"
   },
   "outputs": [],
   "source": [
    "# example 5 - define names for each layer:\n",
    "\n",
    "# building a NN model \n",
    "# the input layer with input_shape (4, 4)\n",
    "# one hidden layer, with 64 units, with a relu activation function.\n",
    "# the output layer is binary with a sigmoid activation function.\n",
    "\n",
    "model5 = Sequential([\n",
    "                    Flatten(input_shape = (4, 4), name = 'layer_0'), \n",
    "                    Dense(64, activation = 'relu', name = 'layer_1'),\n",
    "                    Dense(1, activation = 'sigmoid', name = 'layer_2')\n",
    "])"
   ]
  },
  {
   "cell_type": "code",
   "execution_count": null,
   "metadata": {
    "colab": {
     "base_uri": "https://localhost:8080/"
    },
    "executionInfo": {
     "elapsed": 192,
     "status": "ok",
     "timestamp": 1652219055902,
     "user": {
      "displayName": "Behnaz G",
      "userId": "15627282811872666397"
     },
     "user_tz": 420
    },
    "id": "CF3d64wGPFJ8",
    "outputId": "d677e39d-092a-4d1b-b338-f6fb93a2e126"
   },
   "outputs": [],
   "source": [
    "model5.summary()"
   ]
  },
  {
   "cell_type": "markdown",
   "metadata": {
    "id": "rZ4gGEuVOJph"
   },
   "source": [
    "## For our dataset"
   ]
  },
  {
   "cell_type": "code",
   "execution_count": null,
   "metadata": {
    "id": "RJZrt4fJOKVz"
   },
   "outputs": [],
   "source": [
    "# build the model\n",
    "\n",
    "# the input layer with input_shape (28, 28)\n",
    "# one hidden layer, with 64 units, with a relu activation function.\n",
    "# the output layer is multi-class with 10 classes (activation function is softmax).\n",
    "\n",
    "model = Sequential([\n",
    "                    Flatten(input_shape = (28, 28)),\n",
    "                    Dense(64, activation = 'relu'),\n",
    "                    Dense(10, activation = 'softmax')\n",
    "])"
   ]
  },
  {
   "cell_type": "code",
   "execution_count": null,
   "metadata": {
    "colab": {
     "base_uri": "https://localhost:8080/"
    },
    "executionInfo": {
     "elapsed": 163,
     "status": "ok",
     "timestamp": 1652219123009,
     "user": {
      "displayName": "Behnaz G",
      "userId": "15627282811872666397"
     },
     "user_tz": 420
    },
    "id": "LwfovRv7OVJx",
    "outputId": "12077d5d-1dd2-4782-cb83-10471fcf1a5a"
   },
   "outputs": [],
   "source": [
    "model.summary()"
   ]
  },
  {
   "cell_type": "markdown",
   "metadata": {
    "id": "nZQ4ovbjnbTN"
   },
   "source": [
    "# 4) Start Training (Compile)"
   ]
  },
  {
   "cell_type": "markdown",
   "metadata": {
    "id": "9qX96Uv9nhDI"
   },
   "source": [
    "To start training our network on data, we need to define the optimization algorithm, and a loss function that will give us a measure of our model's performance. Also we define a set of metrics that we want to keep track of as the model is training. These metrics will be calculated for each epoch of training along with the evaluation of the loss function on the training data."
   ]
  },
  {
   "cell_type": "markdown",
   "metadata": {
    "id": "_QZL4pMeQT_u"
   },
   "source": [
    "## Examples"
   ]
  },
  {
   "cell_type": "code",
   "execution_count": null,
   "metadata": {
    "id": "j_36USUimhR-"
   },
   "outputs": [],
   "source": [
    "# example 1:\n",
    "model1 = Sequential([\n",
    "                    Dense(64, activation = 'relu', input_shape = (16,)),\n",
    "                    Dense(1, activation = 'sigmoid')\n",
    "])\n",
    "\n",
    "model1.compile(\n",
    "    optimizer = 'adam',  \n",
    "    loss = 'binary_crossentropy', \n",
    "    metrics = ['binary_accuracy'] \n",
    ")"
   ]
  },
  {
   "cell_type": "markdown",
   "metadata": {
    "id": "_5_SLlHl7f7Y"
   },
   "source": [
    "Read more about other optimizer choices here: https://www.tensorflow.org/api_docs/python/tf/keras/optimizers/\n",
    "\n",
    "Read more about other loss choices here: https://www.tensorflow.org/api_docs/python/tf/keras/losses\n",
    "\n",
    "Read more about other metrics choices here: https://www.tensorflow.org/api_docs/python/tf/keras/metrics"
   ]
  },
  {
   "cell_type": "markdown",
   "metadata": {
    "id": "IjHQE8rakpTQ"
   },
   "source": [
    "Each of the strings in the code above is a reference to another object or function and we can always use that object or function directly:"
   ]
  },
  {
   "cell_type": "code",
   "execution_count": null,
   "metadata": {
    "id": "K0SWQ93Kkw7m"
   },
   "outputs": [],
   "source": [
    "# example 1 - alternative compile method:\n",
    "\n",
    "model1.compile(\n",
    "    optimizer = tf.keras.optimizers.Adam(),\n",
    "    loss = tf.keras.losses.BinaryCrossentropy(),\n",
    "    metrics = [tf.keras.metrics.BinaryAccuracy()]\n",
    ")"
   ]
  },
  {
   "cell_type": "markdown",
   "metadata": {
    "id": "zgi6n00dlmmS"
   },
   "source": [
    "The reason why you might want to use the code above is because it gives you greater flexibility as many of these objects and functions themselves have options that you might want to have control over."
   ]
  },
  {
   "cell_type": "code",
   "execution_count": null,
   "metadata": {
    "id": "hPeZrOXYlsj8"
   },
   "outputs": [],
   "source": [
    "# example 1 - we can change the default parameters\n",
    "\n",
    "model1.compile(\n",
    "    optimizer = tf.keras.optimizers.Adam(learning_rate=0.003, beta_1=0.9, beta_2=0.999, epsilon=1e-07), # the default values.\n",
    "    loss = tf.keras.losses.BinaryCrossentropy(from_logits=True),          # use sigmoid activation, if in the final hidden layer, we do not specify an activation function or define a linear one.\n",
    "    metrics = [tf.keras.metrics.BinaryAccuracy(threshold=0.5)]            # default is 0.5 (the threshold for predictions to be classed as positive).\n",
    ")"
   ]
  },
  {
   "cell_type": "markdown",
   "metadata": {
    "id": "j6wfe9T6__fj"
   },
   "source": [
    "More examples:"
   ]
  },
  {
   "cell_type": "code",
   "execution_count": null,
   "metadata": {
    "id": "fKv7rSRpAby9"
   },
   "outputs": [],
   "source": [
    "# example 2\n",
    "\n",
    "# building a NN model \n",
    "# the input layer with 16 units\n",
    "# one hidden layer, with 64 units, with a relu activation function.\n",
    "# the output layer is multi-class with 10 classes (activation function is softmax).\n",
    "\n",
    "model2 = Sequential([\n",
    "                    Dense(64, activation = 'relu', input_shape = (16,)),\n",
    "                    Dense(10, activation = 'softmax')\n",
    "])\n",
    "\n",
    "model2.compile(\n",
    "    optimizer = 'rmsprop', \n",
    "    loss = 'categorical_crossentropy', \n",
    "    metrics = ['categorical_accuracy', 'mae']\n",
    ")"
   ]
  },
  {
   "cell_type": "markdown",
   "metadata": {
    "id": "z3O51IJHKNWZ"
   },
   "source": [
    "## For our dataset"
   ]
  },
  {
   "cell_type": "code",
   "execution_count": null,
   "metadata": {
    "id": "M6Q2Jb7sNVhQ"
   },
   "outputs": [],
   "source": [
    "# for our data set:\n",
    "\n",
    "model = Sequential([\n",
    "                    Flatten(input_shape = (28, 28)),\n",
    "                    Dense(64, activation = 'relu'),\n",
    "                    Dense(10, activation = 'softmax')\n",
    "])\n",
    "\n",
    "\n",
    "model.compile(\n",
    "    optimizer = tf.keras.optimizers.Adam(learning_rate = 0.005),\n",
    "    loss = 'sparse_categorical_crossentropy', # Use this loss function when the y labels are integers. \n",
    "    metrics = [tf.keras.metrics.SparseCategoricalAccuracy()] # Use this accuracy when the y labels are integers.\n",
    ")"
   ]
  },
  {
   "cell_type": "markdown",
   "metadata": {
    "id": "ZkIizf6aPbsJ"
   },
   "source": [
    "An alternative compile method:"
   ]
  },
  {
   "cell_type": "code",
   "execution_count": null,
   "metadata": {
    "id": "CwC4eh6IXMkl"
   },
   "outputs": [],
   "source": [
    "# for our data set - alternative compile method:\n",
    "\n",
    "opt = tf.keras.optimizers.Adam(learning_rate = 0.005)\n",
    "acc = tf.keras.metrics.SparseCategoricalAccuracy()\n",
    "\n",
    "model.compile(\n",
    "    optimizer = opt,\n",
    "    loss = 'sparse_categorical_crossentropy', \n",
    "    metrics = [acc]\n",
    ")"
   ]
  },
  {
   "cell_type": "markdown",
   "metadata": {
    "id": "_vTxGDNyYnBB"
   },
   "source": [
    "# 5) Model Fit"
   ]
  },
  {
   "cell_type": "markdown",
   "metadata": {
    "id": "0U_qFaJnYr2T"
   },
   "source": [
    "Calling model.fit returns a TensorFlow history object. This object contains a record of the progress of the network during training in terms of the loss and the metrics that we defined when we compiled the model."
   ]
  },
  {
   "cell_type": "code",
   "execution_count": null,
   "metadata": {
    "colab": {
     "base_uri": "https://localhost:8080/"
    },
    "executionInfo": {
     "elapsed": 640,
     "status": "ok",
     "timestamp": 1621382789352,
     "user": {
      "displayName": "Behnaz G",
      "photoUrl": "",
      "userId": "15627282811872666397"
     },
     "user_tz": 420
    },
    "id": "cWlki4PM8dPm",
    "outputId": "b6bc6566-496b-45b5-cf03-7d5b43d87e51"
   },
   "outputs": [],
   "source": [
    "X_train.shape"
   ]
  },
  {
   "cell_type": "code",
   "execution_count": null,
   "metadata": {
    "colab": {
     "base_uri": "https://localhost:8080/"
    },
    "executionInfo": {
     "elapsed": 288,
     "status": "ok",
     "timestamp": 1621383423370,
     "user": {
      "displayName": "Behnaz G",
      "photoUrl": "",
      "userId": "15627282811872666397"
     },
     "user_tz": 420
    },
    "id": "ijHstY8R-3xT",
    "outputId": "1eed1419-ba01-487d-a8bc-0a62d08a1067"
   },
   "outputs": [],
   "source": [
    "# 1 epoch = (for 235 mini-batch) *(256 images in each mini batch)"
   ]
  },
  {
   "cell_type": "code",
   "execution_count": null,
   "metadata": {
    "colab": {
     "base_uri": "https://localhost:8080/"
    },
    "executionInfo": {
     "elapsed": 8647,
     "status": "ok",
     "timestamp": 1652719628374,
     "user": {
      "displayName": "Behnaz G",
      "userId": "15627282811872666397"
     },
     "user_tz": 420
    },
    "id": "_8j8gKtyYsnz",
    "outputId": "8c830477-27e3-4de8-f124-6b9480718e41"
   },
   "outputs": [],
   "source": [
    "# fit the model\n",
    "\n",
    "history = model.fit(X_train, y_train, epochs = 8, batch_size = 256, verbose = 2)\n",
    "# epochs = 8: training will make 8 complete passes through the dataset.\n",
    "# batch_size = 256: By default, the batch size is set to 32.\n",
    "# verbose = 2: print only one line per epoch\n",
    "# verbose = 1 (or True): print everything (the defalut)\n",
    "# verbose = 0 (or False): silence the print out"
   ]
  },
  {
   "cell_type": "markdown",
   "metadata": {
    "id": "o9HpDs3GdApU"
   },
   "source": [
    "The object history has an attribute called history that is a dictionary and contains information about the loss functions and matrix after each of the epochs."
   ]
  },
  {
   "cell_type": "code",
   "execution_count": null,
   "metadata": {
    "colab": {
     "base_uri": "https://localhost:8080/"
    },
    "executionInfo": {
     "elapsed": 157,
     "status": "ok",
     "timestamp": 1652719633501,
     "user": {
      "displayName": "Behnaz G",
      "userId": "15627282811872666397"
     },
     "user_tz": 420
    },
    "id": "Yha1SkAPo9zL",
    "outputId": "78ddcc52-84d6-4b08-d914-2402432f7449"
   },
   "outputs": [],
   "source": [
    "print(history.history.keys())"
   ]
  },
  {
   "cell_type": "markdown",
   "metadata": {
    "id": "xJ44NyQidpg5"
   },
   "source": [
    "Let's plot the training history:"
   ]
  },
  {
   "cell_type": "code",
   "execution_count": null,
   "metadata": {
    "colab": {
     "base_uri": "https://localhost:8080/",
     "height": 206
    },
    "executionInfo": {
     "elapsed": 148,
     "status": "ok",
     "timestamp": 1652719636858,
     "user": {
      "displayName": "Behnaz G",
      "userId": "15627282811872666397"
     },
     "user_tz": 420
    },
    "id": "KWNqgBE4dtY7",
    "outputId": "48dd6c61-c216-4066-c935-2c416f4080a4"
   },
   "outputs": [],
   "source": [
    "# Load the history into a pandas Dataframe\n",
    "\n",
    "df = pd.DataFrame(history.history)\n",
    "df.head()"
   ]
  },
  {
   "cell_type": "code",
   "execution_count": null,
   "metadata": {
    "colab": {
     "base_uri": "https://localhost:8080/",
     "height": 312
    },
    "executionInfo": {
     "elapsed": 443,
     "status": "ok",
     "timestamp": 1652719651021,
     "user": {
      "displayName": "Behnaz G",
      "userId": "15627282811872666397"
     },
     "user_tz": 420
    },
    "id": "nmAHj6pqd4VY",
    "outputId": "7f814d2f-e7d9-40a1-b041-0e5664f42f59"
   },
   "outputs": [],
   "source": [
    "# Make a plot for the loss\n",
    "\n",
    "loss_plot = df.plot(y=\"loss\", title = \"Loss vs. Epochs\", legend=False)\n",
    "loss_plot.set(xlabel=\"Epochs\", ylabel=\"Loss\")"
   ]
  },
  {
   "cell_type": "code",
   "execution_count": null,
   "metadata": {
    "colab": {
     "base_uri": "https://localhost:8080/",
     "height": 296
    },
    "executionInfo": {
     "elapsed": 431,
     "status": "ok",
     "timestamp": 1652719654823,
     "user": {
      "displayName": "Behnaz G",
      "userId": "15627282811872666397"
     },
     "user_tz": 420
    },
    "id": "451GeUU2d7VZ",
    "outputId": "0f443de2-39eb-4df8-d3b0-6ee11c7fb95c"
   },
   "outputs": [],
   "source": [
    "# Make a plot for the accuracy\n",
    "\n",
    "accuracy_plot = df.plot(y=\"sparse_categorical_accuracy\", legend=False)\n",
    "accuracy_plot.set(xlabel=\"Epochs\", ylabel=\"sparse_categorical_accuracy\")"
   ]
  },
  {
   "cell_type": "markdown",
   "metadata": {
    "id": "_TxbUDlYElcw"
   },
   "source": [
    "# 6) Model Evaluate on Test"
   ]
  },
  {
   "cell_type": "code",
   "execution_count": null,
   "metadata": {
    "colab": {
     "base_uri": "https://localhost:8080/"
    },
    "executionInfo": {
     "elapsed": 828,
     "status": "ok",
     "timestamp": 1652719717554,
     "user": {
      "displayName": "Behnaz G",
      "userId": "15627282811872666397"
     },
     "user_tz": 420
    },
    "id": "C5Fq4MI5CeC9",
    "outputId": "d4b4d968-aebf-4f69-bc53-8419f802f560"
   },
   "outputs": [],
   "source": [
    "test_loss, test_accuracy = model.evaluate(X_test, y_test)"
   ]
  },
  {
   "cell_type": "markdown",
   "metadata": {
    "id": "gKuICVCMGEex"
   },
   "source": [
    "# 7) Model Predict"
   ]
  },
  {
   "cell_type": "code",
   "execution_count": null,
   "metadata": {
    "colab": {
     "base_uri": "https://localhost:8080/",
     "height": 282
    },
    "executionInfo": {
     "elapsed": 681,
     "status": "ok",
     "timestamp": 1652720061027,
     "user": {
      "displayName": "Behnaz G",
      "userId": "15627282811872666397"
     },
     "user_tz": 420
    },
    "id": "_IRwPjXpfdWH",
    "outputId": "3b69194a-e150-40b0-e77d-142df6694890"
   },
   "outputs": [],
   "source": [
    "# Choose a random test image\n",
    "\n",
    "random_inx = np.random.choice(X_test.shape[0])\n",
    "random_inx = 30\n",
    "X_sample = X_test[random_inx]\n",
    "plt.imshow(X_sample)\n",
    "plt.show()\n",
    "print(f\"Label: {labels[y_test[random_inx]]}\")"
   ]
  },
  {
   "cell_type": "code",
   "execution_count": null,
   "metadata": {
    "colab": {
     "base_uri": "https://localhost:8080/"
    },
    "executionInfo": {
     "elapsed": 157,
     "status": "ok",
     "timestamp": 1652220569905,
     "user": {
      "displayName": "Behnaz G",
      "userId": "15627282811872666397"
     },
     "user_tz": 420
    },
    "id": "u0gpaGcBgGBY",
    "outputId": "4f37d400-4a2b-456a-b49d-bd7152d48e39"
   },
   "outputs": [],
   "source": [
    "X_sample.shape"
   ]
  },
  {
   "cell_type": "code",
   "execution_count": null,
   "metadata": {
    "colab": {
     "base_uri": "https://localhost:8080/"
    },
    "executionInfo": {
     "elapsed": 212,
     "status": "ok",
     "timestamp": 1652720558757,
     "user": {
      "displayName": "Behnaz G",
      "userId": "15627282811872666397"
     },
     "user_tz": 420
    },
    "id": "9Gus47sSgZ-c",
    "outputId": "068a0685-2c5f-4db1-cc13-74f43a741460"
   },
   "outputs": [],
   "source": [
    "# need to reshape X_sample\n",
    "\n",
    "X_sample = X_sample.reshape(1, 28, 28) # X_sample: (num_samples, X_sample.shape)\n",
    "X_sample.shape"
   ]
  },
  {
   "cell_type": "code",
   "execution_count": null,
   "metadata": {
    "colab": {
     "base_uri": "https://localhost:8080/"
    },
    "executionInfo": {
     "elapsed": 230,
     "status": "ok",
     "timestamp": 1652720563074,
     "user": {
      "displayName": "Behnaz G",
      "userId": "15627282811872666397"
     },
     "user_tz": 420
    },
    "id": "kpHdkWA5fqe3",
    "outputId": "3895e0f9-bb1c-40b0-9e62-a916fd41048b"
   },
   "outputs": [],
   "source": [
    "# Get the model predictions\n",
    "\n",
    "model.predict(X_sample)"
   ]
  },
  {
   "cell_type": "code",
   "execution_count": null,
   "metadata": {
    "colab": {
     "base_uri": "https://localhost:8080/"
    },
    "executionInfo": {
     "elapsed": 241,
     "status": "ok",
     "timestamp": 1652220684406,
     "user": {
      "displayName": "Behnaz G",
      "userId": "15627282811872666397"
     },
     "user_tz": 420
    },
    "id": "JomPW6Pxi9nB",
    "outputId": "8dbeb3f9-6065-4f5a-ce49-36afff547edf"
   },
   "outputs": [],
   "source": [
    "predictions = model.predict(X_sample)\n",
    "print(np.argmax(predictions))\n",
    "print(f\"Model prediction:{labels[np.argmax(predictions)]}\")"
   ]
  },
  {
   "cell_type": "markdown",
   "metadata": {
    "id": "2tsCEHckj-mc"
   },
   "source": [
    "# 8) Model Fit with Validation Sets"
   ]
  },
  {
   "cell_type": "markdown",
   "metadata": {
    "id": "Fyk5hRZzn0eG"
   },
   "source": [
    "Sometimes, datasets have already been packaged up for us with the training and test split:"
   ]
  },
  {
   "cell_type": "code",
   "execution_count": null,
   "metadata": {
    "id": "QzZOV5Qwj6m6"
   },
   "outputs": [],
   "source": [
    "# Recall:\n",
    "# fashion_mnist_data = tf.keras.datasets.fashion_mnist\n",
    "# (X_train, y_train), (X_test, y_test) = fashion_mnist_data.load_data()"
   ]
  },
  {
   "cell_type": "code",
   "execution_count": null,
   "metadata": {
    "id": "OxNriE6qT_za"
   },
   "outputs": [],
   "source": [
    "# Recall:\n",
    "# build model - nothing changed\n",
    "\n",
    "model = Sequential([\n",
    "                    Flatten(input_shape = (28, 28)),\n",
    "                    Dense(64, activation = 'relu'),\n",
    "                    Dense(10, activation = 'softmax')\n",
    "])"
   ]
  },
  {
   "cell_type": "code",
   "execution_count": null,
   "metadata": {
    "id": "mj56AWHcT3OH"
   },
   "outputs": [],
   "source": [
    "# Recall:\n",
    "# Start Training - nothing changed\n",
    "\n",
    "model.compile(\n",
    "    optimizer = tf.keras.optimizers.Adam(learning_rate = 0.005),\n",
    "    loss = 'sparse_categorical_crossentropy', # Use this loss function when the y labels are integers. \n",
    "    metrics = [tf.keras.metrics.SparseCategoricalAccuracy()] # Use this accuracy when the y labels are integers.\n",
    ")"
   ]
  },
  {
   "cell_type": "code",
   "execution_count": null,
   "metadata": {
    "id": "XCNimkFholh1"
   },
   "outputs": [],
   "source": [
    "# fit the model with validation set\n",
    "\n",
    "history = model.fit(X_train, y_train, epochs = 25, batch_size = 256, verbose = False, validation_split=0.2) \n",
    "# The 0.2 means that 20 percent of the training data will be held back for validation."
   ]
  },
  {
   "cell_type": "markdown",
   "metadata": {
    "id": "kVabTr3OpIRk"
   },
   "source": [
    "The model's performance is recorded on both the training and validation sets."
   ]
  },
  {
   "cell_type": "code",
   "execution_count": null,
   "metadata": {
    "colab": {
     "base_uri": "https://localhost:8080/"
    },
    "executionInfo": {
     "elapsed": 189,
     "status": "ok",
     "timestamp": 1652720871473,
     "user": {
      "displayName": "Behnaz G",
      "userId": "15627282811872666397"
     },
     "user_tz": 420
    },
    "id": "dSCCXG0FostF",
    "outputId": "9e933588-b1a6-4dac-bce1-884347d87edf"
   },
   "outputs": [],
   "source": [
    "print(history.history.keys())"
   ]
  },
  {
   "cell_type": "code",
   "execution_count": null,
   "metadata": {
    "colab": {
     "base_uri": "https://localhost:8080/",
     "height": 295
    },
    "executionInfo": {
     "elapsed": 450,
     "status": "ok",
     "timestamp": 1652720873356,
     "user": {
      "displayName": "Behnaz G",
      "userId": "15627282811872666397"
     },
     "user_tz": 420
    },
    "id": "6xWSblfnqgnY",
    "outputId": "618ea796-9577-4580-8d67-7165d37889bf"
   },
   "outputs": [],
   "source": [
    "# Plot the training and validation loss\n",
    "\n",
    "plt.plot(history.history['loss'])\n",
    "plt.plot(history.history['val_loss'])\n",
    "plt.title('Loss vs. epochs')\n",
    "plt.ylabel('Loss')\n",
    "plt.xlabel('Epoch')\n",
    "plt.legend(['Training', 'Validation'], loc='upper right')\n",
    "plt.show()"
   ]
  },
  {
   "cell_type": "markdown",
   "metadata": {
    "id": "U7R3EuFFq7fy"
   },
   "source": [
    "From the graph, we can see that the model has vastly overfit the training data and so it underperforms on the validation data."
   ]
  },
  {
   "cell_type": "code",
   "execution_count": null,
   "metadata": {
    "colab": {
     "base_uri": "https://localhost:8080/"
    },
    "executionInfo": {
     "elapsed": 853,
     "status": "ok",
     "timestamp": 1652721139787,
     "user": {
      "displayName": "Behnaz G",
      "userId": "15627282811872666397"
     },
     "user_tz": 420
    },
    "id": "ppPRBykG2_M0",
    "outputId": "485d16a8-e775-431e-a84b-c847ca994466"
   },
   "outputs": [],
   "source": [
    "# Testing mode\n",
    "\n",
    "test_loss, test_accuracy = model.evaluate(X_test, y_test)"
   ]
  },
  {
   "cell_type": "markdown",
   "metadata": {
    "id": "eHsDQmfWqhCv"
   },
   "source": [
    "Practice Question) See if you can reduce overfitting by, for example, altering the number of epochs at the model trains for or changing the layer structure of the model."
   ]
  },
  {
   "cell_type": "markdown",
   "metadata": {
    "id": "WoBch-X7jb9d"
   },
   "source": [
    "# 9) Reduce Overfit - Change the NN Model"
   ]
  },
  {
   "cell_type": "code",
   "execution_count": null,
   "metadata": {
    "id": "tDu88pOKSV-j"
   },
   "outputs": [],
   "source": [
    "# build model\n",
    "\n",
    "model = Sequential([\n",
    "                    Flatten(input_shape = (28, 28)),\n",
    "                    Dense(16, activation = 'relu'),\n",
    "                    Dense(10, activation = 'softmax')\n",
    "])"
   ]
  },
  {
   "cell_type": "code",
   "execution_count": null,
   "metadata": {
    "id": "SZe1z_OkSVWv"
   },
   "outputs": [],
   "source": [
    "# Start Training \n",
    "\n",
    "model.compile(\n",
    "    optimizer = tf.keras.optimizers.Adam(learning_rate = 0.005),\n",
    "    loss = 'sparse_categorical_crossentropy', # Use this loss function when the y labels are integers. \n",
    "    metrics = [tf.keras.metrics.SparseCategoricalAccuracy()] # Use this accuracy when the y labels are integers.\n",
    ")"
   ]
  },
  {
   "cell_type": "code",
   "execution_count": null,
   "metadata": {
    "id": "OSFd71c-SU5T"
   },
   "outputs": [],
   "source": [
    "# fit the model with validation set\n",
    "\n",
    "history = model.fit(X_train, y_train, epochs = 25, batch_size = 256, verbose = False, validation_split=0.2) "
   ]
  },
  {
   "cell_type": "code",
   "execution_count": null,
   "metadata": {
    "colab": {
     "base_uri": "https://localhost:8080/",
     "height": 295
    },
    "executionInfo": {
     "elapsed": 501,
     "status": "ok",
     "timestamp": 1652721215822,
     "user": {
      "displayName": "Behnaz G",
      "userId": "15627282811872666397"
     },
     "user_tz": 420
    },
    "id": "bTacLHXqSjmO",
    "outputId": "4bcdced8-0e13-414b-9712-7cefe54895aa"
   },
   "outputs": [],
   "source": [
    "# Plot the training and validation loss\n",
    "\n",
    "plt.plot(history.history['loss'])\n",
    "plt.plot(history.history['val_loss'])\n",
    "plt.title('Loss vs. epochs')\n",
    "plt.ylabel('Loss')\n",
    "plt.xlabel('Epoch')\n",
    "plt.legend(['Training', 'Validation'], loc='upper right')\n",
    "plt.show()"
   ]
  },
  {
   "cell_type": "markdown",
   "metadata": {
    "id": "5i5fPoT7sYuv"
   },
   "source": [
    "# 10) Reduce Overfit - L2 Regularization"
   ]
  },
  {
   "cell_type": "markdown",
   "metadata": {
    "id": "lC2F4tQNXg7w"
   },
   "source": [
    "Model Regularization"
   ]
  },
  {
   "cell_type": "code",
   "execution_count": null,
   "metadata": {
    "id": "RRYBTj3IUbbQ"
   },
   "outputs": [],
   "source": [
    "# build model - we should change this!\n",
    "\n",
    "model = Sequential([\n",
    "                   Flatten(input_shape = (28, 28)),\n",
    "                   Dense(64, activation = 'relu'),\n",
    "                   Dense(10, activation = 'softmax')\n",
    "])"
   ]
  },
  {
   "cell_type": "code",
   "execution_count": null,
   "metadata": {
    "id": "-cXzrK4KgSIX"
   },
   "outputs": [],
   "source": [
    "#l2 regularizer\n",
    "model = Sequential([\n",
    "                    Flatten(input_shape = (28, 28)),\n",
    "                    Dense(64, activation='relu', kernel_regularizer=tf.keras.regularizers.l2(0.001)), # penalty rate (or lambda) =0.001\n",
    "                    Dense(10, activation = 'softmax', kernel_regularizer=tf.keras.regularizers.l2(0.001))\n",
    "])\n",
    "\n",
    "# the weight matrix is sometimes called the kernel."
   ]
  },
  {
   "cell_type": "code",
   "execution_count": null,
   "metadata": {
    "id": "qc5K1IWog7Zn"
   },
   "outputs": [],
   "source": [
    "# Start Training  - nothing changed here!\n",
    "\n",
    "model.compile(\n",
    "     optimizer = tf.keras.optimizers.Adam(learning_rate = 0.005),\n",
    "     loss = 'sparse_categorical_crossentropy', # Use this loss function when the y labels are integers. \n",
    "     metrics = [tf.keras.metrics.SparseCategoricalAccuracy()] # Use this accuracy when the y labels are integers.\n",
    " )"
   ]
  },
  {
   "cell_type": "code",
   "execution_count": null,
   "metadata": {
    "id": "s4XauvPqWGS9"
   },
   "outputs": [],
   "source": [
    "# fit the model with validation set  - nothing changed here!\n",
    "\n",
    "history = model.fit(X_train, y_train, epochs = 25, batch_size = 256, verbose = False, validation_split=0.2) \n",
    "# The 0.2 means that 20 percent of the training data will be held back for validation."
   ]
  },
  {
   "cell_type": "code",
   "execution_count": null,
   "metadata": {
    "colab": {
     "base_uri": "https://localhost:8080/",
     "height": 295
    },
    "executionInfo": {
     "elapsed": 532,
     "status": "ok",
     "timestamp": 1652721779330,
     "user": {
      "displayName": "Behnaz G",
      "userId": "15627282811872666397"
     },
     "user_tz": 420
    },
    "id": "AodIjntoWju6",
    "outputId": "24f22e17-105e-48a3-ec49-43e455dc0eb0"
   },
   "outputs": [],
   "source": [
    "# Plot the training and validation loss\n",
    "\n",
    "plt.plot(history.history['loss'])\n",
    "plt.plot(history.history['val_loss'])\n",
    "plt.title('Loss vs. epochs')\n",
    "plt.ylabel('Loss')\n",
    "plt.xlabel('Epoch')\n",
    "plt.legend(['Training', 'Validation'], loc='upper right')\n",
    "plt.show()"
   ]
  },
  {
   "cell_type": "code",
   "execution_count": null,
   "metadata": {
    "colab": {
     "base_uri": "https://localhost:8080/"
    },
    "executionInfo": {
     "elapsed": 1000,
     "status": "ok",
     "timestamp": 1652721822619,
     "user": {
      "displayName": "Behnaz G",
      "userId": "15627282811872666397"
     },
     "user_tz": 420
    },
    "id": "2s_7YXug2rqJ",
    "outputId": "7201c46a-2525-4615-cc02-19e351963944"
   },
   "outputs": [],
   "source": [
    "# Testing mode\n",
    "\n",
    "test_loss, test_accuracy = model.evaluate(X_test, y_test)"
   ]
  },
  {
   "cell_type": "markdown",
   "metadata": {
    "id": "_IILS0s7s4Hm"
   },
   "source": [
    "# 11) Reduce Overfit - Dropout Regularization"
   ]
  },
  {
   "cell_type": "code",
   "execution_count": null,
   "metadata": {
    "id": "eee5SPsi02JH"
   },
   "outputs": [],
   "source": [
    "# Recall:\n",
    "\n",
    "#model = Sequential([\n",
    "#                   Flatten(input_shape = (28, 28)),\n",
    "#                   Dense(64, activation = 'relu'),\n",
    "#                   Dense(10, activation = 'softmax')\n",
    "#])"
   ]
  },
  {
   "cell_type": "code",
   "execution_count": null,
   "metadata": {
    "id": "1fVz_Auhij3O"
   },
   "outputs": [],
   "source": [
    "#dropout regularizer\n",
    "#dropout rate = 1-keep_probability\n",
    "\n",
    "model = Sequential([\n",
    "                    Flatten(input_shape = (28, 28)),\n",
    "                    Dense(64, activation='relu'),\n",
    "                    Dropout(0.5), #dropout rate \n",
    "                    Dense(10, activation = 'softmax')\n",
    "])\n",
    "                    "
   ]
  },
  {
   "cell_type": "code",
   "execution_count": null,
   "metadata": {
    "id": "KuU_Vb4D1kOJ"
   },
   "outputs": [],
   "source": [
    "# Start Training - nothing changed here!\n",
    "\n",
    "model.compile(\n",
    "     optimizer = tf.keras.optimizers.Adam(learning_rate = 0.005),\n",
    "     loss = 'sparse_categorical_crossentropy', # Use this loss function when the y labels are integers. \n",
    "     metrics = [tf.keras.metrics.SparseCategoricalAccuracy()] # Use this accuracy when the y labels are integers.\n",
    " )"
   ]
  },
  {
   "cell_type": "code",
   "execution_count": null,
   "metadata": {
    "id": "kGt4JaeG1-u0"
   },
   "outputs": [],
   "source": [
    "# fit the model with validation set  - nothing changed here!\n",
    "\n",
    "history = model.fit(X_train, y_train, epochs = 25, batch_size = 256, verbose = False, validation_split=0.2) \n",
    "# The 0.2 means that 20 percent of the training data will be held back for validation."
   ]
  },
  {
   "cell_type": "code",
   "execution_count": null,
   "metadata": {
    "colab": {
     "base_uri": "https://localhost:8080/",
     "height": 295
    },
    "executionInfo": {
     "elapsed": 196,
     "status": "ok",
     "timestamp": 1652722334112,
     "user": {
      "displayName": "Behnaz G",
      "userId": "15627282811872666397"
     },
     "user_tz": 420
    },
    "id": "KcVWz7L_2E-N",
    "outputId": "ed5a713e-2d83-46fa-9656-3ce8df13b7f0"
   },
   "outputs": [],
   "source": [
    "# Plot the training and validation loss\n",
    "\n",
    "plt.plot(history.history['loss'])\n",
    "plt.plot(history.history['val_loss'])\n",
    "plt.title('Loss vs. epochs')\n",
    "plt.ylabel('Loss')\n",
    "plt.xlabel('Epoch')\n",
    "plt.legend(['Training', 'Validation'], loc='upper right')\n",
    "plt.show()"
   ]
  },
  {
   "cell_type": "code",
   "execution_count": null,
   "metadata": {
    "colab": {
     "base_uri": "https://localhost:8080/"
    },
    "executionInfo": {
     "elapsed": 804,
     "status": "ok",
     "timestamp": 1652722413167,
     "user": {
      "displayName": "Behnaz G",
      "userId": "15627282811872666397"
     },
     "user_tz": 420
    },
    "id": "avvC9sVN2JVp",
    "outputId": "c3761d0d-362e-46aa-e0d1-220afec0282f"
   },
   "outputs": [],
   "source": [
    "# Testing mode, no dropout\n",
    "\n",
    "test_loss, test_accuracy = model.evaluate(X_test, y_test)"
   ]
  },
  {
   "cell_type": "markdown",
   "metadata": {
    "id": "WD627bM_3_NT"
   },
   "source": [
    "# 12) Reduce Overfit - Early Stopping "
   ]
  },
  {
   "cell_type": "markdown",
   "metadata": {
    "id": "cAiLmhMUoBPa"
   },
   "source": [
    "Another regularization approach is called early stopping. \n",
    "Early stopping is a technique that monitors the performance of the network for every epoch on a held out validation set during the training run, and terminates the training conditional on the validation performance."
   ]
  },
  {
   "cell_type": "code",
   "execution_count": null,
   "metadata": {
    "id": "SMYgkhVs4U6M"
   },
   "outputs": [],
   "source": [
    "# build the original model without L2 or dropout regularization\n",
    "model = Sequential([\n",
    "                   Flatten(input_shape = (28, 28)),\n",
    "                   Dense(64, activation = 'relu'),\n",
    "                   Dense(10, activation = 'softmax')\n",
    "])"
   ]
  },
  {
   "cell_type": "code",
   "execution_count": null,
   "metadata": {
    "id": "y5g5bdNx4dYG"
   },
   "outputs": [],
   "source": [
    "# Start Training - nothing changed here!\n",
    "\n",
    "model.compile(\n",
    "     optimizer = tf.keras.optimizers.Adam(learning_rate = 0.005),\n",
    "     loss = 'sparse_categorical_crossentropy', # Use this loss function when the y labels are integers. \n",
    "     metrics = [tf.keras.metrics.SparseCategoricalAccuracy()] # Use this accuracy when the y labels are integers.\n",
    " )"
   ]
  },
  {
   "cell_type": "code",
   "execution_count": null,
   "metadata": {
    "id": "21OJdhWQoNuV"
   },
   "outputs": [],
   "source": [
    "#set early stopping\n",
    "\n",
    "early_stopping = tf.keras.callbacks.EarlyStopping(monitor='val_loss', min_delta=0.01, patience=5) \n",
    "\n",
    "# by default, monitor='val_loss', which means that we use the validation loss as the performance measure to decide when to terminate the training.\n",
    "# we could instead use 'val_accuracy'.\n",
    "\n",
    "# min_delta: Minimum change in the monitored quantity to qualify as an improvement, \n",
    "# i.e. an absolute change of less than min_delta, will count as no improvement.\n",
    "# by default, min_delta=0.\n",
    "\n",
    "#patience: Number of consecutive epochs with no improvement after which training will be stopped.\n",
    "# by default, patience is set to zero which terminates training as soon as the performance measure gets worse from one epoch to the next."
   ]
  },
  {
   "cell_type": "code",
   "execution_count": null,
   "metadata": {
    "colab": {
     "base_uri": "https://localhost:8080/"
    },
    "executionInfo": {
     "elapsed": 11289,
     "status": "ok",
     "timestamp": 1652722664340,
     "user": {
      "displayName": "Behnaz G",
      "userId": "15627282811872666397"
     },
     "user_tz": 420
    },
    "id": "H5F5HtET4xy8",
    "outputId": "8d3cf442-ed9d-4f94-cf55-2d80821a5db9"
   },
   "outputs": [],
   "source": [
    "# fit the model with validation set  \n",
    "\n",
    "history = model.fit(X_train, y_train, epochs = 25, batch_size = 256, verbose = 2, validation_split=0.2,\n",
    "                    callbacks=[early_stopping]) \n",
    "# The 0.2 means that 20 percent of the training data will be held back for validation."
   ]
  },
  {
   "cell_type": "code",
   "execution_count": null,
   "metadata": {
    "colab": {
     "base_uri": "https://localhost:8080/",
     "height": 295
    },
    "executionInfo": {
     "elapsed": 566,
     "status": "ok",
     "timestamp": 1652722670110,
     "user": {
      "displayName": "Behnaz G",
      "userId": "15627282811872666397"
     },
     "user_tz": 420
    },
    "id": "TIQQecGX5BXf",
    "outputId": "5e4da63d-84b4-4d3e-dfb6-a2a646b70b21"
   },
   "outputs": [],
   "source": [
    "# Plot the training and validation loss\n",
    "\n",
    "plt.plot(history.history['loss'])\n",
    "plt.plot(history.history['val_loss'])\n",
    "plt.title('Loss vs. epochs')\n",
    "plt.ylabel('Loss')\n",
    "plt.xlabel('Epoch')\n",
    "plt.legend(['Training', 'Validation'], loc='upper right')\n",
    "plt.show()"
   ]
  },
  {
   "cell_type": "code",
   "execution_count": null,
   "metadata": {
    "colab": {
     "base_uri": "https://localhost:8080/"
    },
    "executionInfo": {
     "elapsed": 730,
     "status": "ok",
     "timestamp": 1621386989161,
     "user": {
      "displayName": "Behnaz G",
      "photoUrl": "",
      "userId": "15627282811872666397"
     },
     "user_tz": 420
    },
    "id": "HIpMat7A4rf5",
    "outputId": "373f9ed9-4c46-402e-fb8f-d07542307823"
   },
   "outputs": [],
   "source": [
    "# Testing mode\n",
    "\n",
    "test_loss, test_accuracy = model.evaluate(X_test, y_test)"
   ]
  }
 ],
 "metadata": {
  "colab": {
   "authorship_tag": "ABX9TyM0tbW1HZ2YHWfIW60JZCfT",
   "collapsed_sections": [],
   "name": "11 - Tensorflow.ipynb",
   "provenance": [],
   "toc_visible": true
  },
  "kernelspec": {
   "display_name": "Python 3",
   "language": "python",
   "name": "python3"
  },
  "language_info": {
   "codemirror_mode": {
    "name": "ipython",
    "version": 3
   },
   "file_extension": ".py",
   "mimetype": "text/x-python",
   "name": "python",
   "nbconvert_exporter": "python",
   "pygments_lexer": "ipython3",
   "version": "3.8.5"
  }
 },
 "nbformat": 4,
 "nbformat_minor": 1
}
