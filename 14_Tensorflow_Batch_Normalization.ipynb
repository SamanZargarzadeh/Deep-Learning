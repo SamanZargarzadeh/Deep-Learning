{
  "cells": [
    {
      "cell_type": "markdown",
      "metadata": {
        "id": "view-in-github",
        "colab_type": "text"
      },
      "source": [
        "<a href=\"https://colab.research.google.com/github/SamanZargarzadeh/Deep-Learning/blob/main/14_Tensorflow_Batch_Normalization.ipynb\" target=\"_parent\"><img src=\"https://colab.research.google.com/assets/colab-badge.svg\" alt=\"Open In Colab\"/></a>"
      ]
    },
    {
      "cell_type": "markdown",
      "metadata": {
        "id": "83G5nziC_Hxs"
      },
      "source": [
        "In this notebook, we will look at incorporating batch normalization into our models and look at an example of how we do this in practice."
      ]
    },
    {
      "cell_type": "markdown",
      "metadata": {
        "id": "PrVT7fCchUOy"
      },
      "source": [
        "# 1) Import"
      ]
    },
    {
      "cell_type": "code",
      "execution_count": 1,
      "metadata": {
        "colab": {
          "base_uri": "https://localhost:8080/",
          "height": 0
        },
        "id": "XQPhahe3_Hx-",
        "outputId": "fd825f98-1cb2-4419-979d-89b26e31a87a"
      },
      "outputs": [
        {
          "output_type": "stream",
          "name": "stdout",
          "text": [
            "2.12.0\n"
          ]
        }
      ],
      "source": [
        "import tensorflow as tf\n",
        "print(tf.__version__)"
      ]
    },
    {
      "cell_type": "code",
      "execution_count": 2,
      "metadata": {
        "id": "sQtfTWDjhg0e"
      },
      "outputs": [],
      "source": [
        "from tensorflow.keras.models import Sequential\n",
        "from tensorflow.keras.layers import Dense, BatchNormalization, Dropout"
      ]
    },
    {
      "cell_type": "markdown",
      "metadata": {
        "id": "1c14C-MFhbmM"
      },
      "source": [
        "# 2) Load Data "
      ]
    },
    {
      "cell_type": "markdown",
      "metadata": {
        "id": "TeaKUUQN_HyA"
      },
      "source": [
        "We will be working with the diabetes dataset. \n",
        "\n",
        "Let's load and pre-process the dataset."
      ]
    },
    {
      "cell_type": "code",
      "execution_count": 3,
      "metadata": {
        "id": "1LHZ8YLa_HyB"
      },
      "outputs": [],
      "source": [
        "# Load the dataset\n",
        "\n",
        "from sklearn.datasets import load_diabetes"
      ]
    },
    {
      "cell_type": "code",
      "execution_count": 4,
      "metadata": {
        "id": "5ZgIaZMZRO6R"
      },
      "outputs": [],
      "source": [
        "# call the load diabetes function which returns a dictionary containing all of the information about the data set.\n",
        "\n",
        "diabetes_dataset = load_diabetes()"
      ]
    },
    {
      "cell_type": "code",
      "execution_count": 5,
      "metadata": {
        "colab": {
          "base_uri": "https://localhost:8080/",
          "height": 0
        },
        "id": "tEM2W4SwRNMn",
        "outputId": "b775f930-80c3-4154-8b98-08b7e2a4d3fb"
      },
      "outputs": [
        {
          "output_type": "stream",
          "name": "stdout",
          "text": [
            "dict_keys(['data', 'target', 'frame', 'DESCR', 'feature_names', 'data_filename', 'target_filename', 'data_module'])\n"
          ]
        }
      ],
      "source": [
        "# print the keys\n",
        "\n",
        "print(diabetes_dataset.keys())"
      ]
    },
    {
      "cell_type": "code",
      "execution_count": 7,
      "metadata": {
        "colab": {
          "base_uri": "https://localhost:8080/",
          "height": 0
        },
        "id": "eWZlqiybQkj3",
        "outputId": "a08ca0c0-60ef-49dd-eca4-581e3256c79c"
      },
      "outputs": [
        {
          "output_type": "stream",
          "name": "stdout",
          "text": [
            ".. _diabetes_dataset:\n",
            "\n",
            "Diabetes dataset\n",
            "----------------\n",
            "\n",
            "Ten baseline variables, age, sex, body mass index, average blood\n",
            "pressure, and six blood serum measurements were obtained for each of n =\n",
            "442 diabetes patients, as well as the response of interest, a\n",
            "quantitative measure of disease progression one year after baseline.\n",
            "\n",
            "**Data Set Characteristics:**\n",
            "\n",
            "  :Number of Instances: 442\n",
            "\n",
            "  :Number of Attributes: First 10 columns are numeric predictive values\n",
            "\n",
            "  :Target: Column 11 is a quantitative measure of disease progression one year after baseline\n",
            "\n",
            "  :Attribute Information:\n",
            "      - age     age in years\n",
            "      - sex\n",
            "      - bmi     body mass index\n",
            "      - bp      average blood pressure\n",
            "      - s1      tc, total serum cholesterol\n",
            "      - s2      ldl, low-density lipoproteins\n",
            "      - s3      hdl, high-density lipoproteins\n",
            "      - s4      tch, total cholesterol / HDL\n",
            "      - s5      ltg, possibly log of serum triglycerides level\n",
            "      - s6      glu, blood sugar level\n",
            "\n",
            "Note: Each of these 10 feature variables have been mean centered and scaled by the standard deviation times the square root of `n_samples` (i.e. the sum of squares of each column totals 1).\n",
            "\n",
            "Source URL:\n",
            "https://www4.stat.ncsu.edu/~boos/var.select/diabetes.html\n",
            "\n",
            "For more information see:\n",
            "Bradley Efron, Trevor Hastie, Iain Johnstone and Robert Tibshirani (2004) \"Least Angle Regression,\" Annals of Statistics (with discussion), 407-499.\n",
            "(https://web.stanford.edu/~hastie/Papers/LARS/LeastAngle_2002.pdf)\n",
            "\n"
          ]
        }
      ],
      "source": [
        "# take a look at the dataset description\n",
        "\n",
        "print(diabetes_dataset['DESCR'])"
      ]
    },
    {
      "cell_type": "code",
      "execution_count": 8,
      "metadata": {
        "id": "dTjIK4LqRCI-"
      },
      "outputs": [],
      "source": [
        "# Save the input and target variables\n",
        "\n",
        "data = diabetes_dataset['data']\n",
        "targets = diabetes_dataset['target']"
      ]
    },
    {
      "cell_type": "code",
      "execution_count": 9,
      "metadata": {
        "colab": {
          "base_uri": "https://localhost:8080/",
          "height": 0
        },
        "id": "pGRciZrzR-CM",
        "outputId": "d000eb5d-e62b-460c-aaee-9dd78afbea70"
      },
      "outputs": [
        {
          "output_type": "stream",
          "name": "stdout",
          "text": [
            "train X shape:  (442, 10)\n",
            "train y shape:  (442,)\n"
          ]
        }
      ],
      "source": [
        "print(\"train X shape: \", data.shape) \n",
        "print(\"train y shape: \", targets.shape) "
      ]
    },
    {
      "cell_type": "code",
      "execution_count": 10,
      "metadata": {
        "colab": {
          "base_uri": "https://localhost:8080/",
          "height": 0
        },
        "id": "cE06QtYG_HyC",
        "outputId": "13f6bb01-362f-40d0-db38-e01554384e04"
      },
      "outputs": [
        {
          "output_type": "stream",
          "name": "stdout",
          "text": [
            "minimum train y value:  25.0\n",
            "maximum train y value:  346.0\n"
          ]
        }
      ],
      "source": [
        "print(\"minimum train y value: \", min(targets))\n",
        "print(\"maximum train y value: \", max(targets))"
      ]
    },
    {
      "cell_type": "code",
      "execution_count": 11,
      "metadata": {
        "id": "JKYNIkpO_HyD"
      },
      "outputs": [],
      "source": [
        "# Normalize the target data (this will make clearer training curves, for example loss curve to be around 0 and 1)\n",
        "\n",
        "targets = (targets - targets.mean()) / (targets.std())"
      ]
    },
    {
      "cell_type": "code",
      "execution_count": 12,
      "metadata": {
        "colab": {
          "base_uri": "https://localhost:8080/",
          "height": 0
        },
        "id": "Lx0KtjcJDOlE",
        "outputId": "a79b8efb-e9ce-4c52-ac2e-916a11ed358a"
      },
      "outputs": [
        {
          "output_type": "stream",
          "name": "stdout",
          "text": [
            "minimum train y value:  -1.6509610124214391\n",
            "maximum train y value:  2.5175590944313466\n"
          ]
        }
      ],
      "source": [
        "print(\"minimum train y value: \", min(targets))\n",
        "print(\"maximum train y value: \", max(targets))"
      ]
    },
    {
      "cell_type": "code",
      "execution_count": 13,
      "metadata": {
        "id": "PH6kE_zZ_HyE"
      },
      "outputs": [],
      "source": [
        "# Split the dataset into training and test datasets \n",
        "\n",
        "from sklearn.model_selection import train_test_split\n",
        "\n",
        "train_data, test_data, train_targets, test_targets = train_test_split(data, targets, test_size=0.1)"
      ]
    },
    {
      "cell_type": "markdown",
      "metadata": {
        "id": "sgPqjH7HhKQ0"
      },
      "source": [
        "# 3) Model without Batch Normalization"
      ]
    },
    {
      "cell_type": "code",
      "execution_count": 14,
      "metadata": {
        "id": "WU5jpmEbiZg6"
      },
      "outputs": [],
      "source": [
        "# Build the model\n",
        "\n",
        "model = Sequential([\n",
        "    Dense(64, input_shape=[train_data.shape[1],], activation=\"relu\"),\n",
        "    Dropout(0.5),\n",
        "    Dense(256, activation='relu'),\n",
        "    Dense(1)\n",
        "])"
      ]
    },
    {
      "cell_type": "code",
      "execution_count": 15,
      "metadata": {
        "colab": {
          "base_uri": "https://localhost:8080/",
          "height": 0
        },
        "id": "pWJu6xWFAj_q",
        "outputId": "744e0255-0880-4ae0-db19-884002a9d04d"
      },
      "outputs": [
        {
          "output_type": "stream",
          "name": "stdout",
          "text": [
            "Model: \"sequential\"\n",
            "_________________________________________________________________\n",
            " Layer (type)                Output Shape              Param #   \n",
            "=================================================================\n",
            " dense (Dense)               (None, 64)                704       \n",
            "                                                                 \n",
            " dropout (Dropout)           (None, 64)                0         \n",
            "                                                                 \n",
            " dense_1 (Dense)             (None, 256)               16640     \n",
            "                                                                 \n",
            " dense_2 (Dense)             (None, 1)                 257       \n",
            "                                                                 \n",
            "=================================================================\n",
            "Total params: 17,601\n",
            "Trainable params: 17,601\n",
            "Non-trainable params: 0\n",
            "_________________________________________________________________\n"
          ]
        }
      ],
      "source": [
        "# Print the model summary\n",
        "\n",
        "model.summary()"
      ]
    },
    {
      "cell_type": "code",
      "execution_count": 19,
      "metadata": {
        "id": "FqKm_cycjeCC"
      },
      "outputs": [],
      "source": [
        "# Compile the model\n",
        "\n",
        "model.compile(optimizer='adam',\n",
        "              loss='mse',\n",
        "              metrics=['mae'])"
      ]
    },
    {
      "cell_type": "code",
      "execution_count": 17,
      "metadata": {
        "colab": {
          "base_uri": "https://localhost:8080/",
          "height": 0
        },
        "id": "GIxNB8ftjmi1",
        "outputId": "b6a94d0c-8cdd-4cc4-96d0-f47badb54d65"
      },
      "outputs": [
        {
          "output_type": "stream",
          "name": "stdout",
          "text": [
            "Epoch 1/100\n",
            "6/6 - 1s - loss: 1.0238 - mae: 0.8625 - val_loss: 0.9231 - val_mae: 0.8093 - 1s/epoch - 231ms/step\n",
            "Epoch 2/100\n",
            "6/6 - 0s - loss: 0.9768 - mae: 0.8429 - val_loss: 0.8856 - val_mae: 0.7984 - 70ms/epoch - 12ms/step\n",
            "Epoch 3/100\n",
            "6/6 - 0s - loss: 0.9220 - mae: 0.8179 - val_loss: 0.8415 - val_mae: 0.7843 - 68ms/epoch - 11ms/step\n",
            "Epoch 4/100\n",
            "6/6 - 0s - loss: 0.8539 - mae: 0.7874 - val_loss: 0.7920 - val_mae: 0.7663 - 70ms/epoch - 12ms/step\n",
            "Epoch 5/100\n",
            "6/6 - 0s - loss: 0.7850 - mae: 0.7500 - val_loss: 0.7429 - val_mae: 0.7493 - 51ms/epoch - 9ms/step\n",
            "Epoch 6/100\n",
            "6/6 - 0s - loss: 0.6995 - mae: 0.7043 - val_loss: 0.7039 - val_mae: 0.7303 - 58ms/epoch - 10ms/step\n",
            "Epoch 7/100\n",
            "6/6 - 0s - loss: 0.6160 - mae: 0.6550 - val_loss: 0.6735 - val_mae: 0.7065 - 59ms/epoch - 10ms/step\n",
            "Epoch 8/100\n",
            "6/6 - 0s - loss: 0.5733 - mae: 0.6257 - val_loss: 0.6679 - val_mae: 0.6950 - 74ms/epoch - 12ms/step\n",
            "Epoch 9/100\n",
            "6/6 - 0s - loss: 0.5681 - mae: 0.6161 - val_loss: 0.6591 - val_mae: 0.6795 - 51ms/epoch - 8ms/step\n",
            "Epoch 10/100\n",
            "6/6 - 0s - loss: 0.5388 - mae: 0.6020 - val_loss: 0.6376 - val_mae: 0.6678 - 67ms/epoch - 11ms/step\n",
            "Epoch 11/100\n",
            "6/6 - 0s - loss: 0.5663 - mae: 0.6103 - val_loss: 0.6096 - val_mae: 0.6595 - 55ms/epoch - 9ms/step\n",
            "Epoch 12/100\n",
            "6/6 - 0s - loss: 0.5413 - mae: 0.5986 - val_loss: 0.5899 - val_mae: 0.6512 - 62ms/epoch - 10ms/step\n",
            "Epoch 13/100\n",
            "6/6 - 0s - loss: 0.5331 - mae: 0.5871 - val_loss: 0.5771 - val_mae: 0.6369 - 51ms/epoch - 8ms/step\n",
            "Epoch 14/100\n",
            "6/6 - 0s - loss: 0.5330 - mae: 0.5911 - val_loss: 0.5690 - val_mae: 0.6337 - 68ms/epoch - 11ms/step\n",
            "Epoch 15/100\n",
            "6/6 - 0s - loss: 0.5271 - mae: 0.5957 - val_loss: 0.5686 - val_mae: 0.6344 - 48ms/epoch - 8ms/step\n",
            "Epoch 16/100\n",
            "6/6 - 0s - loss: 0.5083 - mae: 0.5741 - val_loss: 0.5700 - val_mae: 0.6323 - 56ms/epoch - 9ms/step\n",
            "Epoch 17/100\n",
            "6/6 - 0s - loss: 0.5183 - mae: 0.5875 - val_loss: 0.5732 - val_mae: 0.6296 - 67ms/epoch - 11ms/step\n",
            "Epoch 18/100\n",
            "6/6 - 0s - loss: 0.5300 - mae: 0.5803 - val_loss: 0.5697 - val_mae: 0.6337 - 67ms/epoch - 11ms/step\n",
            "Epoch 19/100\n",
            "6/6 - 0s - loss: 0.5428 - mae: 0.6006 - val_loss: 0.5590 - val_mae: 0.6279 - 64ms/epoch - 11ms/step\n",
            "Epoch 20/100\n",
            "6/6 - 0s - loss: 0.5044 - mae: 0.5671 - val_loss: 0.5581 - val_mae: 0.6257 - 68ms/epoch - 11ms/step\n",
            "Epoch 21/100\n",
            "6/6 - 0s - loss: 0.4861 - mae: 0.5656 - val_loss: 0.5595 - val_mae: 0.6267 - 72ms/epoch - 12ms/step\n",
            "Epoch 22/100\n",
            "6/6 - 0s - loss: 0.4923 - mae: 0.5736 - val_loss: 0.5604 - val_mae: 0.6245 - 75ms/epoch - 12ms/step\n",
            "Epoch 23/100\n",
            "6/6 - 0s - loss: 0.4933 - mae: 0.5682 - val_loss: 0.5664 - val_mae: 0.6221 - 66ms/epoch - 11ms/step\n",
            "Epoch 24/100\n",
            "6/6 - 0s - loss: 0.5084 - mae: 0.5646 - val_loss: 0.5633 - val_mae: 0.6288 - 49ms/epoch - 8ms/step\n",
            "Epoch 25/100\n",
            "6/6 - 0s - loss: 0.5262 - mae: 0.5875 - val_loss: 0.5652 - val_mae: 0.6330 - 49ms/epoch - 8ms/step\n",
            "Epoch 26/100\n",
            "6/6 - 0s - loss: 0.5111 - mae: 0.5706 - val_loss: 0.5522 - val_mae: 0.6230 - 50ms/epoch - 8ms/step\n",
            "Epoch 27/100\n",
            "6/6 - 0s - loss: 0.5182 - mae: 0.5784 - val_loss: 0.5559 - val_mae: 0.6194 - 55ms/epoch - 9ms/step\n",
            "Epoch 28/100\n",
            "6/6 - 0s - loss: 0.5097 - mae: 0.5802 - val_loss: 0.5519 - val_mae: 0.6200 - 56ms/epoch - 9ms/step\n",
            "Epoch 29/100\n",
            "6/6 - 0s - loss: 0.4986 - mae: 0.5681 - val_loss: 0.5560 - val_mae: 0.6238 - 68ms/epoch - 11ms/step\n",
            "Epoch 30/100\n",
            "6/6 - 0s - loss: 0.5289 - mae: 0.5875 - val_loss: 0.5623 - val_mae: 0.6267 - 48ms/epoch - 8ms/step\n",
            "Epoch 31/100\n",
            "6/6 - 0s - loss: 0.5080 - mae: 0.5716 - val_loss: 0.5614 - val_mae: 0.6194 - 56ms/epoch - 9ms/step\n",
            "Epoch 32/100\n",
            "6/6 - 0s - loss: 0.5237 - mae: 0.5717 - val_loss: 0.5628 - val_mae: 0.6182 - 88ms/epoch - 15ms/step\n",
            "Epoch 33/100\n",
            "6/6 - 0s - loss: 0.4865 - mae: 0.5656 - val_loss: 0.5513 - val_mae: 0.6217 - 54ms/epoch - 9ms/step\n",
            "Epoch 34/100\n",
            "6/6 - 0s - loss: 0.4919 - mae: 0.5696 - val_loss: 0.5517 - val_mae: 0.6243 - 77ms/epoch - 13ms/step\n",
            "Epoch 35/100\n",
            "6/6 - 0s - loss: 0.5059 - mae: 0.5712 - val_loss: 0.5531 - val_mae: 0.6216 - 51ms/epoch - 8ms/step\n",
            "Epoch 36/100\n",
            "6/6 - 0s - loss: 0.4838 - mae: 0.5596 - val_loss: 0.5588 - val_mae: 0.6202 - 73ms/epoch - 12ms/step\n",
            "Epoch 37/100\n",
            "6/6 - 0s - loss: 0.4827 - mae: 0.5506 - val_loss: 0.5604 - val_mae: 0.6249 - 95ms/epoch - 16ms/step\n",
            "Epoch 38/100\n",
            "6/6 - 0s - loss: 0.4902 - mae: 0.5633 - val_loss: 0.5634 - val_mae: 0.6276 - 107ms/epoch - 18ms/step\n",
            "Epoch 39/100\n",
            "6/6 - 0s - loss: 0.5038 - mae: 0.5674 - val_loss: 0.5617 - val_mae: 0.6268 - 90ms/epoch - 15ms/step\n",
            "Epoch 40/100\n",
            "6/6 - 0s - loss: 0.4949 - mae: 0.5587 - val_loss: 0.5616 - val_mae: 0.6288 - 73ms/epoch - 12ms/step\n",
            "Epoch 41/100\n",
            "6/6 - 0s - loss: 0.4856 - mae: 0.5574 - val_loss: 0.5640 - val_mae: 0.6313 - 103ms/epoch - 17ms/step\n",
            "Epoch 42/100\n",
            "6/6 - 0s - loss: 0.4947 - mae: 0.5725 - val_loss: 0.5661 - val_mae: 0.6299 - 89ms/epoch - 15ms/step\n",
            "Epoch 43/100\n",
            "6/6 - 0s - loss: 0.4916 - mae: 0.5548 - val_loss: 0.5668 - val_mae: 0.6240 - 93ms/epoch - 16ms/step\n",
            "Epoch 44/100\n",
            "6/6 - 0s - loss: 0.4581 - mae: 0.5402 - val_loss: 0.5625 - val_mae: 0.6216 - 82ms/epoch - 14ms/step\n",
            "Epoch 45/100\n",
            "6/6 - 0s - loss: 0.4825 - mae: 0.5583 - val_loss: 0.5518 - val_mae: 0.6221 - 94ms/epoch - 16ms/step\n",
            "Epoch 46/100\n",
            "6/6 - 0s - loss: 0.4630 - mae: 0.5446 - val_loss: 0.5487 - val_mae: 0.6245 - 64ms/epoch - 11ms/step\n",
            "Epoch 47/100\n",
            "6/6 - 0s - loss: 0.4902 - mae: 0.5605 - val_loss: 0.5392 - val_mae: 0.6178 - 74ms/epoch - 12ms/step\n",
            "Epoch 48/100\n",
            "6/6 - 0s - loss: 0.4911 - mae: 0.5637 - val_loss: 0.5416 - val_mae: 0.6160 - 64ms/epoch - 11ms/step\n",
            "Epoch 49/100\n",
            "6/6 - 0s - loss: 0.4686 - mae: 0.5513 - val_loss: 0.5422 - val_mae: 0.6173 - 82ms/epoch - 14ms/step\n",
            "Epoch 50/100\n",
            "6/6 - 0s - loss: 0.4816 - mae: 0.5552 - val_loss: 0.5470 - val_mae: 0.6192 - 81ms/epoch - 14ms/step\n",
            "Epoch 51/100\n",
            "6/6 - 0s - loss: 0.4810 - mae: 0.5611 - val_loss: 0.5483 - val_mae: 0.6176 - 84ms/epoch - 14ms/step\n",
            "Epoch 52/100\n",
            "6/6 - 0s - loss: 0.4620 - mae: 0.5500 - val_loss: 0.5470 - val_mae: 0.6151 - 87ms/epoch - 14ms/step\n",
            "Epoch 53/100\n",
            "6/6 - 0s - loss: 0.4787 - mae: 0.5543 - val_loss: 0.5478 - val_mae: 0.6149 - 88ms/epoch - 15ms/step\n",
            "Epoch 54/100\n",
            "6/6 - 0s - loss: 0.4647 - mae: 0.5483 - val_loss: 0.5466 - val_mae: 0.6175 - 86ms/epoch - 14ms/step\n",
            "Epoch 55/100\n",
            "6/6 - 0s - loss: 0.4708 - mae: 0.5574 - val_loss: 0.5517 - val_mae: 0.6210 - 90ms/epoch - 15ms/step\n",
            "Epoch 56/100\n",
            "6/6 - 0s - loss: 0.4701 - mae: 0.5541 - val_loss: 0.5561 - val_mae: 0.6200 - 90ms/epoch - 15ms/step\n",
            "Epoch 57/100\n",
            "6/6 - 0s - loss: 0.4488 - mae: 0.5370 - val_loss: 0.5532 - val_mae: 0.6154 - 72ms/epoch - 12ms/step\n",
            "Epoch 58/100\n",
            "6/6 - 0s - loss: 0.4552 - mae: 0.5305 - val_loss: 0.5500 - val_mae: 0.6173 - 91ms/epoch - 15ms/step\n",
            "Epoch 59/100\n",
            "6/6 - 0s - loss: 0.4805 - mae: 0.5595 - val_loss: 0.5486 - val_mae: 0.6164 - 66ms/epoch - 11ms/step\n",
            "Epoch 60/100\n",
            "6/6 - 0s - loss: 0.4819 - mae: 0.5563 - val_loss: 0.5475 - val_mae: 0.6147 - 68ms/epoch - 11ms/step\n",
            "Epoch 61/100\n",
            "6/6 - 0s - loss: 0.4929 - mae: 0.5567 - val_loss: 0.5418 - val_mae: 0.6140 - 68ms/epoch - 11ms/step\n",
            "Epoch 62/100\n",
            "6/6 - 0s - loss: 0.4628 - mae: 0.5525 - val_loss: 0.5422 - val_mae: 0.6136 - 73ms/epoch - 12ms/step\n",
            "Epoch 63/100\n",
            "6/6 - 0s - loss: 0.4603 - mae: 0.5472 - val_loss: 0.5429 - val_mae: 0.6130 - 100ms/epoch - 17ms/step\n",
            "Epoch 64/100\n",
            "6/6 - 0s - loss: 0.4511 - mae: 0.5404 - val_loss: 0.5444 - val_mae: 0.6138 - 85ms/epoch - 14ms/step\n",
            "Epoch 65/100\n",
            "6/6 - 0s - loss: 0.4731 - mae: 0.5634 - val_loss: 0.5445 - val_mae: 0.6135 - 98ms/epoch - 16ms/step\n",
            "Epoch 66/100\n",
            "6/6 - 0s - loss: 0.4896 - mae: 0.5635 - val_loss: 0.5424 - val_mae: 0.6131 - 73ms/epoch - 12ms/step\n",
            "Epoch 67/100\n",
            "6/6 - 0s - loss: 0.4689 - mae: 0.5498 - val_loss: 0.5530 - val_mae: 0.6120 - 89ms/epoch - 15ms/step\n",
            "Epoch 68/100\n",
            "6/6 - 0s - loss: 0.4995 - mae: 0.5613 - val_loss: 0.5399 - val_mae: 0.6107 - 85ms/epoch - 14ms/step\n",
            "Epoch 69/100\n",
            "6/6 - 0s - loss: 0.4843 - mae: 0.5597 - val_loss: 0.5408 - val_mae: 0.6116 - 58ms/epoch - 10ms/step\n",
            "Epoch 70/100\n",
            "6/6 - 0s - loss: 0.4699 - mae: 0.5417 - val_loss: 0.5398 - val_mae: 0.6082 - 59ms/epoch - 10ms/step\n",
            "Epoch 71/100\n",
            "6/6 - 0s - loss: 0.4808 - mae: 0.5509 - val_loss: 0.5372 - val_mae: 0.6096 - 68ms/epoch - 11ms/step\n",
            "Epoch 72/100\n",
            "6/6 - 0s - loss: 0.4691 - mae: 0.5427 - val_loss: 0.5329 - val_mae: 0.6097 - 51ms/epoch - 8ms/step\n",
            "Epoch 73/100\n",
            "6/6 - 0s - loss: 0.4652 - mae: 0.5549 - val_loss: 0.5314 - val_mae: 0.6096 - 75ms/epoch - 13ms/step\n",
            "Epoch 74/100\n",
            "6/6 - 0s - loss: 0.4705 - mae: 0.5506 - val_loss: 0.5329 - val_mae: 0.6079 - 52ms/epoch - 9ms/step\n",
            "Epoch 75/100\n",
            "6/6 - 0s - loss: 0.4705 - mae: 0.5487 - val_loss: 0.5308 - val_mae: 0.6071 - 60ms/epoch - 10ms/step\n",
            "Epoch 76/100\n",
            "6/6 - 0s - loss: 0.4798 - mae: 0.5651 - val_loss: 0.5310 - val_mae: 0.6065 - 73ms/epoch - 12ms/step\n",
            "Epoch 77/100\n",
            "6/6 - 0s - loss: 0.4686 - mae: 0.5489 - val_loss: 0.5355 - val_mae: 0.6051 - 63ms/epoch - 11ms/step\n",
            "Epoch 78/100\n",
            "6/6 - 0s - loss: 0.4748 - mae: 0.5516 - val_loss: 0.5350 - val_mae: 0.6085 - 66ms/epoch - 11ms/step\n",
            "Epoch 79/100\n",
            "6/6 - 0s - loss: 0.4584 - mae: 0.5364 - val_loss: 0.5313 - val_mae: 0.6081 - 61ms/epoch - 10ms/step\n",
            "Epoch 80/100\n",
            "6/6 - 0s - loss: 0.4601 - mae: 0.5380 - val_loss: 0.5309 - val_mae: 0.6076 - 59ms/epoch - 10ms/step\n",
            "Epoch 81/100\n",
            "6/6 - 0s - loss: 0.4747 - mae: 0.5489 - val_loss: 0.5331 - val_mae: 0.6058 - 64ms/epoch - 11ms/step\n",
            "Epoch 82/100\n",
            "6/6 - 0s - loss: 0.4575 - mae: 0.5407 - val_loss: 0.5365 - val_mae: 0.6044 - 65ms/epoch - 11ms/step\n",
            "Epoch 83/100\n",
            "6/6 - 0s - loss: 0.4659 - mae: 0.5462 - val_loss: 0.5325 - val_mae: 0.6047 - 66ms/epoch - 11ms/step\n",
            "Epoch 84/100\n",
            "6/6 - 0s - loss: 0.4542 - mae: 0.5386 - val_loss: 0.5346 - val_mae: 0.6056 - 70ms/epoch - 12ms/step\n",
            "Epoch 85/100\n",
            "6/6 - 0s - loss: 0.4534 - mae: 0.5391 - val_loss: 0.5364 - val_mae: 0.6084 - 62ms/epoch - 10ms/step\n",
            "Epoch 86/100\n",
            "6/6 - 0s - loss: 0.4604 - mae: 0.5525 - val_loss: 0.5366 - val_mae: 0.6092 - 69ms/epoch - 12ms/step\n",
            "Epoch 87/100\n",
            "6/6 - 0s - loss: 0.4562 - mae: 0.5461 - val_loss: 0.5370 - val_mae: 0.6058 - 52ms/epoch - 9ms/step\n",
            "Epoch 88/100\n",
            "6/6 - 0s - loss: 0.4649 - mae: 0.5400 - val_loss: 0.5381 - val_mae: 0.6064 - 76ms/epoch - 13ms/step\n",
            "Epoch 89/100\n",
            "6/6 - 0s - loss: 0.4548 - mae: 0.5379 - val_loss: 0.5355 - val_mae: 0.6058 - 65ms/epoch - 11ms/step\n",
            "Epoch 90/100\n",
            "6/6 - 0s - loss: 0.4730 - mae: 0.5527 - val_loss: 0.5346 - val_mae: 0.6080 - 72ms/epoch - 12ms/step\n",
            "Epoch 91/100\n",
            "6/6 - 0s - loss: 0.4552 - mae: 0.5444 - val_loss: 0.5347 - val_mae: 0.6071 - 65ms/epoch - 11ms/step\n",
            "Epoch 92/100\n",
            "6/6 - 0s - loss: 0.4365 - mae: 0.5212 - val_loss: 0.5408 - val_mae: 0.6094 - 55ms/epoch - 9ms/step\n",
            "Epoch 93/100\n",
            "6/6 - 0s - loss: 0.4528 - mae: 0.5421 - val_loss: 0.5396 - val_mae: 0.6098 - 52ms/epoch - 9ms/step\n",
            "Epoch 94/100\n",
            "6/6 - 0s - loss: 0.4830 - mae: 0.5578 - val_loss: 0.5385 - val_mae: 0.6095 - 73ms/epoch - 12ms/step\n",
            "Epoch 95/100\n",
            "6/6 - 0s - loss: 0.4627 - mae: 0.5554 - val_loss: 0.5398 - val_mae: 0.6095 - 72ms/epoch - 12ms/step\n",
            "Epoch 96/100\n",
            "6/6 - 0s - loss: 0.4490 - mae: 0.5468 - val_loss: 0.5360 - val_mae: 0.6068 - 47ms/epoch - 8ms/step\n",
            "Epoch 97/100\n",
            "6/6 - 0s - loss: 0.4882 - mae: 0.5603 - val_loss: 0.5384 - val_mae: 0.6075 - 45ms/epoch - 8ms/step\n",
            "Epoch 98/100\n",
            "6/6 - 0s - loss: 0.4476 - mae: 0.5372 - val_loss: 0.5438 - val_mae: 0.6074 - 57ms/epoch - 9ms/step\n",
            "Epoch 99/100\n",
            "6/6 - 0s - loss: 0.4592 - mae: 0.5387 - val_loss: 0.5371 - val_mae: 0.6056 - 47ms/epoch - 8ms/step\n",
            "Epoch 100/100\n",
            "6/6 - 0s - loss: 0.4528 - mae: 0.5463 - val_loss: 0.5339 - val_mae: 0.6047 - 50ms/epoch - 8ms/step\n"
          ]
        }
      ],
      "source": [
        "# Train the model\n",
        "\n",
        "history = model.fit(train_data, train_targets, epochs=100, validation_split=0.15, batch_size=64,verbose=2)"
      ]
    },
    {
      "cell_type": "code",
      "execution_count": 20,
      "metadata": {
        "colab": {
          "base_uri": "https://localhost:8080/",
          "height": 428
        },
        "id": "a3P8BikfjtV7",
        "outputId": "8a8d23a3-4ab4-4db1-f812-ec1e0364e232"
      },
      "outputs": [
        {
          "output_type": "execute_result",
          "data": {
            "text/plain": [
              "<matplotlib.legend.Legend at 0x7f2f725ceb60>"
            ]
          },
          "metadata": {},
          "execution_count": 20
        },
        {
          "output_type": "display_data",
          "data": {
            "text/plain": [
              "<Figure size 1200x400 with 2 Axes>"
            ],
            "image/png": "[encoded data removed]"
          },
          "metadata": {}
        }
      ],
      "source": [
        "# Plot the learning curves\n",
        "\n",
        "import pandas as pd\n",
        "import numpy as np\n",
        "import matplotlib.pyplot as plt\n",
        "%matplotlib inline\n",
        "\n",
        "frame = pd.DataFrame(history.history)\n",
        "epochs = np.arange(len(frame))\n",
        "\n",
        "fig = plt.figure(figsize=(12,4))\n",
        "\n",
        "# Loss plot\n",
        "ax = fig.add_subplot(121)\n",
        "ax.plot(epochs, frame['loss'], label=\"Train\")\n",
        "ax.plot(epochs, frame['val_loss'], label=\"Validation\")\n",
        "ax.set_xlabel(\"Epochs\")\n",
        "ax.set_ylabel(\"Loss\")\n",
        "ax.set_title(\"Loss vs Epochs\")\n",
        "ax.legend()\n",
        "\n",
        "# Accuracy plot\n",
        "ax = fig.add_subplot(122)\n",
        "ax.plot(epochs, frame['mae'], label=\"Train\")\n",
        "ax.plot(epochs, frame['val_mae'], label=\"Validation\")\n",
        "ax.set_xlabel(\"Epochs\")\n",
        "ax.set_ylabel(\"Mean Absolute Error\")\n",
        "ax.set_title(\"Mean Absolute Error vs Epochs\")\n",
        "ax.legend()"
      ]
    },
    {
      "cell_type": "markdown",
      "metadata": {
        "id": "r8V7H2j-_HyF"
      },
      "source": [
        "# 4)Model with Batch Normalization"
      ]
    },
    {
      "cell_type": "markdown",
      "metadata": {
        "id": "MZSxD_rR_HyG"
      },
      "source": [
        "We can implement batch normalization into our model by adding it in the same way as any other layer."
      ]
    },
    {
      "cell_type": "code",
      "execution_count": 21,
      "metadata": {
        "id": "uwyNgjiXkO0N"
      },
      "outputs": [],
      "source": [
        "# Build the model\n",
        "#model = Sequential([\n",
        "#    Dense(64, input_shape=[train_data.shape[1],], activation=\"relu\"),\n",
        "#    Dropout(0.5),\n",
        "#    Dense(256, activation='relu'),\n",
        "#    Dense(1)\n",
        "#])\n",
        "\n",
        "model = Sequential([\n",
        "    Dense(64, input_shape=[train_data.shape[1],], activation=\"relu\"),\n",
        "    BatchNormalization(),  # <- Batch normalization layer 1\n",
        "    Dropout(0.5),\n",
        "    BatchNormalization(), # <- Batch normalization layer 2\n",
        "    Dropout(0.5),\n",
        "    Dense(256, activation='relu'),\n",
        "    BatchNormalization(),  # <- Batch normalization layer 3\n",
        "    Dense(1)\n",
        "])"
      ]
    },
    {
      "cell_type": "code",
      "execution_count": 22,
      "metadata": {
        "colab": {
          "base_uri": "https://localhost:8080/",
          "height": 0
        },
        "id": "GFeBLCGd_HyJ",
        "outputId": "eb7de654-b9fb-4a35-98d8-4f155e183cca"
      },
      "outputs": [
        {
          "output_type": "stream",
          "name": "stdout",
          "text": [
            "Model: \"sequential_1\"\n",
            "_________________________________________________________________\n",
            " Layer (type)                Output Shape              Param #   \n",
            "=================================================================\n",
            " dense_3 (Dense)             (None, 64)                704       \n",
            "                                                                 \n",
            " batch_normalization (BatchN  (None, 64)               256       \n",
            " ormalization)                                                   \n",
            "                                                                 \n",
            " dropout_1 (Dropout)         (None, 64)                0         \n",
            "                                                                 \n",
            " batch_normalization_1 (Batc  (None, 64)               256       \n",
            " hNormalization)                                                 \n",
            "                                                                 \n",
            " dropout_2 (Dropout)         (None, 64)                0         \n",
            "                                                                 \n",
            " dense_4 (Dense)             (None, 256)               16640     \n",
            "                                                                 \n",
            " batch_normalization_2 (Batc  (None, 256)              1024      \n",
            " hNormalization)                                                 \n",
            "                                                                 \n",
            " dense_5 (Dense)             (None, 1)                 257       \n",
            "                                                                 \n",
            "=================================================================\n",
            "Total params: 19,137\n",
            "Trainable params: 18,369\n",
            "Non-trainable params: 768\n",
            "_________________________________________________________________\n"
          ]
        }
      ],
      "source": [
        "# Print the model summary\n",
        "\n",
        "model.summary()"
      ]
    },
    {
      "cell_type": "code",
      "execution_count": 23,
      "metadata": {
        "id": "sFG_mtUiJP7m"
      },
      "outputs": [],
      "source": [
        "# the number of parameters in batch normalization layers equal the number of nodes x 4\n",
        "# 4 = moving_mean, moving_var, gamma and beta\n",
        "# trainable = gamma, beta\n",
        "# non-trainable = moving_mean, moving_var\n",
        "# moving_mean = moving_mean * momentum + mean(batch) * (1 - momentum)\n",
        "# moving_var = moving_var * momentum + var(batch) * (1 - momentum)"
      ]
    },
    {
      "cell_type": "code",
      "execution_count": 24,
      "metadata": {
        "id": "zrmt7AAE_AWl"
      },
      "outputs": [],
      "source": [
        "# Compile the model\n",
        "\n",
        "model.compile(optimizer='adam',\n",
        "              loss='mse',\n",
        "              metrics=['mae'])"
      ]
    },
    {
      "cell_type": "code",
      "execution_count": 25,
      "metadata": {
        "colab": {
          "base_uri": "https://localhost:8080/",
          "height": 0
        },
        "id": "rSkZAMP0-_0W",
        "outputId": "6de01f3f-39d8-4181-ac96-5279d7013b40"
      },
      "outputs": [
        {
          "output_type": "stream",
          "name": "stdout",
          "text": [
            "Epoch 1/100\n",
            "6/6 - 3s - loss: 3.7867 - mae: 1.5070 - val_loss: 0.9346 - val_mae: 0.8137 - 3s/epoch - 478ms/step\n",
            "Epoch 2/100\n",
            "6/6 - 0s - loss: 1.9683 - mae: 1.1046 - val_loss: 0.9324 - val_mae: 0.8125 - 106ms/epoch - 18ms/step\n",
            "Epoch 3/100\n",
            "6/6 - 0s - loss: 1.6096 - mae: 1.0012 - val_loss: 0.9262 - val_mae: 0.8114 - 90ms/epoch - 15ms/step\n",
            "Epoch 4/100\n",
            "6/6 - 0s - loss: 1.3021 - mae: 0.9147 - val_loss: 0.9268 - val_mae: 0.8118 - 94ms/epoch - 16ms/step\n",
            "Epoch 5/100\n",
            "6/6 - 0s - loss: 1.1354 - mae: 0.8447 - val_loss: 0.9364 - val_mae: 0.8138 - 96ms/epoch - 16ms/step\n",
            "Epoch 6/100\n",
            "6/6 - 0s - loss: 1.2935 - mae: 0.9192 - val_loss: 0.9289 - val_mae: 0.8122 - 81ms/epoch - 14ms/step\n",
            "Epoch 7/100\n",
            "6/6 - 0s - loss: 0.9814 - mae: 0.7920 - val_loss: 0.9212 - val_mae: 0.8104 - 72ms/epoch - 12ms/step\n",
            "Epoch 8/100\n",
            "6/6 - 0s - loss: 1.0502 - mae: 0.8274 - val_loss: 0.9237 - val_mae: 0.8109 - 54ms/epoch - 9ms/step\n",
            "Epoch 9/100\n",
            "6/6 - 0s - loss: 0.9471 - mae: 0.7734 - val_loss: 0.9200 - val_mae: 0.8100 - 60ms/epoch - 10ms/step\n",
            "Epoch 10/100\n",
            "6/6 - 0s - loss: 1.0759 - mae: 0.8101 - val_loss: 0.9175 - val_mae: 0.8093 - 57ms/epoch - 10ms/step\n",
            "Epoch 11/100\n",
            "6/6 - 0s - loss: 0.9306 - mae: 0.7759 - val_loss: 0.9116 - val_mae: 0.8078 - 80ms/epoch - 13ms/step\n",
            "Epoch 12/100\n",
            "6/6 - 0s - loss: 1.0063 - mae: 0.8027 - val_loss: 0.9151 - val_mae: 0.8088 - 74ms/epoch - 12ms/step\n",
            "Epoch 13/100\n",
            "6/6 - 0s - loss: 1.0249 - mae: 0.8194 - val_loss: 0.9110 - val_mae: 0.8077 - 56ms/epoch - 9ms/step\n",
            "Epoch 14/100\n",
            "6/6 - 0s - loss: 0.8527 - mae: 0.7294 - val_loss: 0.9062 - val_mae: 0.8064 - 75ms/epoch - 13ms/step\n",
            "Epoch 15/100\n",
            "6/6 - 0s - loss: 1.0614 - mae: 0.8286 - val_loss: 0.9008 - val_mae: 0.8046 - 56ms/epoch - 9ms/step\n",
            "Epoch 16/100\n",
            "6/6 - 0s - loss: 1.0127 - mae: 0.8124 - val_loss: 0.8982 - val_mae: 0.8037 - 72ms/epoch - 12ms/step\n",
            "Epoch 17/100\n",
            "6/6 - 0s - loss: 0.8781 - mae: 0.7629 - val_loss: 0.8979 - val_mae: 0.8037 - 60ms/epoch - 10ms/step\n",
            "Epoch 18/100\n",
            "6/6 - 0s - loss: 0.8590 - mae: 0.7367 - val_loss: 0.9030 - val_mae: 0.8046 - 83ms/epoch - 14ms/step\n",
            "Epoch 19/100\n",
            "6/6 - 0s - loss: 1.0258 - mae: 0.8173 - val_loss: 0.9101 - val_mae: 0.8058 - 79ms/epoch - 13ms/step\n",
            "Epoch 20/100\n",
            "6/6 - 0s - loss: 0.9482 - mae: 0.7762 - val_loss: 0.8966 - val_mae: 0.8027 - 59ms/epoch - 10ms/step\n",
            "Epoch 21/100\n",
            "6/6 - 0s - loss: 0.9901 - mae: 0.8076 - val_loss: 0.8855 - val_mae: 0.7996 - 68ms/epoch - 11ms/step\n",
            "Epoch 22/100\n",
            "6/6 - 0s - loss: 0.8318 - mae: 0.7126 - val_loss: 0.8880 - val_mae: 0.7997 - 60ms/epoch - 10ms/step\n",
            "Epoch 23/100\n",
            "6/6 - 0s - loss: 0.8871 - mae: 0.7638 - val_loss: 0.8892 - val_mae: 0.7992 - 63ms/epoch - 10ms/step\n",
            "Epoch 24/100\n",
            "6/6 - 0s - loss: 0.8935 - mae: 0.7775 - val_loss: 0.9009 - val_mae: 0.8019 - 63ms/epoch - 11ms/step\n",
            "Epoch 25/100\n",
            "6/6 - 0s - loss: 0.8958 - mae: 0.7664 - val_loss: 0.9207 - val_mae: 0.8065 - 76ms/epoch - 13ms/step\n",
            "Epoch 26/100\n",
            "6/6 - 0s - loss: 0.8055 - mae: 0.7232 - val_loss: 0.9230 - val_mae: 0.8071 - 71ms/epoch - 12ms/step\n",
            "Epoch 27/100\n",
            "6/6 - 0s - loss: 0.9252 - mae: 0.7768 - val_loss: 0.9049 - val_mae: 0.8024 - 58ms/epoch - 10ms/step\n",
            "Epoch 28/100\n",
            "6/6 - 0s - loss: 0.8797 - mae: 0.7717 - val_loss: 0.9056 - val_mae: 0.8017 - 65ms/epoch - 11ms/step\n",
            "Epoch 29/100\n",
            "6/6 - 0s - loss: 0.7897 - mae: 0.7179 - val_loss: 0.9089 - val_mae: 0.8019 - 62ms/epoch - 10ms/step\n",
            "Epoch 30/100\n",
            "6/6 - 0s - loss: 0.7802 - mae: 0.7276 - val_loss: 0.9055 - val_mae: 0.8007 - 64ms/epoch - 11ms/step\n",
            "Epoch 31/100\n",
            "6/6 - 0s - loss: 0.7500 - mae: 0.7000 - val_loss: 0.8961 - val_mae: 0.7983 - 62ms/epoch - 10ms/step\n",
            "Epoch 32/100\n",
            "6/6 - 0s - loss: 0.8765 - mae: 0.7563 - val_loss: 0.8943 - val_mae: 0.7979 - 87ms/epoch - 15ms/step\n",
            "Epoch 33/100\n",
            "6/6 - 0s - loss: 0.7795 - mae: 0.7187 - val_loss: 0.8991 - val_mae: 0.7985 - 61ms/epoch - 10ms/step\n",
            "Epoch 34/100\n",
            "6/6 - 0s - loss: 0.8443 - mae: 0.7467 - val_loss: 0.8950 - val_mae: 0.7964 - 82ms/epoch - 14ms/step\n",
            "Epoch 35/100\n",
            "6/6 - 0s - loss: 0.8767 - mae: 0.7484 - val_loss: 0.8914 - val_mae: 0.7953 - 57ms/epoch - 10ms/step\n",
            "Epoch 36/100\n",
            "6/6 - 0s - loss: 0.7872 - mae: 0.7072 - val_loss: 0.9039 - val_mae: 0.7979 - 61ms/epoch - 10ms/step\n",
            "Epoch 37/100\n",
            "6/6 - 0s - loss: 0.8167 - mae: 0.7352 - val_loss: 0.9115 - val_mae: 0.8001 - 64ms/epoch - 11ms/step\n",
            "Epoch 38/100\n",
            "6/6 - 0s - loss: 0.8280 - mae: 0.7385 - val_loss: 0.9004 - val_mae: 0.7969 - 60ms/epoch - 10ms/step\n",
            "Epoch 39/100\n",
            "6/6 - 0s - loss: 0.7765 - mae: 0.7016 - val_loss: 0.8937 - val_mae: 0.7946 - 71ms/epoch - 12ms/step\n",
            "Epoch 40/100\n",
            "6/6 - 0s - loss: 0.7689 - mae: 0.7111 - val_loss: 0.8816 - val_mae: 0.7909 - 63ms/epoch - 10ms/step\n",
            "Epoch 41/100\n",
            "6/6 - 0s - loss: 0.6625 - mae: 0.6490 - val_loss: 0.8617 - val_mae: 0.7855 - 83ms/epoch - 14ms/step\n",
            "Epoch 42/100\n",
            "6/6 - 0s - loss: 0.7239 - mae: 0.6711 - val_loss: 0.8634 - val_mae: 0.7858 - 60ms/epoch - 10ms/step\n",
            "Epoch 43/100\n",
            "6/6 - 0s - loss: 0.6451 - mae: 0.6524 - val_loss: 0.8745 - val_mae: 0.7881 - 68ms/epoch - 11ms/step\n",
            "Epoch 44/100\n",
            "6/6 - 0s - loss: 0.7646 - mae: 0.7013 - val_loss: 0.8760 - val_mae: 0.7887 - 68ms/epoch - 11ms/step\n",
            "Epoch 45/100\n",
            "6/6 - 0s - loss: 0.7669 - mae: 0.7079 - val_loss: 0.9079 - val_mae: 0.7980 - 69ms/epoch - 11ms/step\n",
            "Epoch 46/100\n",
            "6/6 - 0s - loss: 0.6533 - mae: 0.6496 - val_loss: 0.9285 - val_mae: 0.8063 - 87ms/epoch - 15ms/step\n",
            "Epoch 47/100\n",
            "6/6 - 0s - loss: 0.7147 - mae: 0.6694 - val_loss: 0.8891 - val_mae: 0.7948 - 67ms/epoch - 11ms/step\n",
            "Epoch 48/100\n",
            "6/6 - 0s - loss: 0.6740 - mae: 0.6635 - val_loss: 0.8573 - val_mae: 0.7843 - 85ms/epoch - 14ms/step\n",
            "Epoch 49/100\n",
            "6/6 - 0s - loss: 0.7735 - mae: 0.7001 - val_loss: 0.8212 - val_mae: 0.7724 - 60ms/epoch - 10ms/step\n",
            "Epoch 50/100\n",
            "6/6 - 0s - loss: 0.7169 - mae: 0.6785 - val_loss: 0.8105 - val_mae: 0.7679 - 82ms/epoch - 14ms/step\n",
            "Epoch 51/100\n",
            "6/6 - 0s - loss: 0.7226 - mae: 0.6842 - val_loss: 0.7946 - val_mae: 0.7636 - 80ms/epoch - 13ms/step\n",
            "Epoch 52/100\n",
            "6/6 - 0s - loss: 0.7360 - mae: 0.6884 - val_loss: 0.7854 - val_mae: 0.7616 - 72ms/epoch - 12ms/step\n",
            "Epoch 53/100\n",
            "6/6 - 0s - loss: 0.6456 - mae: 0.6458 - val_loss: 0.7784 - val_mae: 0.7598 - 82ms/epoch - 14ms/step\n",
            "Epoch 54/100\n",
            "6/6 - 0s - loss: 0.6688 - mae: 0.6633 - val_loss: 0.7762 - val_mae: 0.7595 - 57ms/epoch - 9ms/step\n",
            "Epoch 55/100\n",
            "6/6 - 0s - loss: 0.6501 - mae: 0.6480 - val_loss: 0.7759 - val_mae: 0.7590 - 72ms/epoch - 12ms/step\n",
            "Epoch 56/100\n",
            "6/6 - 0s - loss: 0.6528 - mae: 0.6624 - val_loss: 0.7764 - val_mae: 0.7586 - 55ms/epoch - 9ms/step\n",
            "Epoch 57/100\n",
            "6/6 - 0s - loss: 0.7272 - mae: 0.6810 - val_loss: 0.7817 - val_mae: 0.7596 - 56ms/epoch - 9ms/step\n",
            "Epoch 58/100\n",
            "6/6 - 0s - loss: 0.6868 - mae: 0.6637 - val_loss: 0.7795 - val_mae: 0.7586 - 70ms/epoch - 12ms/step\n",
            "Epoch 59/100\n",
            "6/6 - 0s - loss: 0.6734 - mae: 0.6536 - val_loss: 0.7866 - val_mae: 0.7598 - 68ms/epoch - 11ms/step\n",
            "Epoch 60/100\n",
            "6/6 - 0s - loss: 0.6768 - mae: 0.6714 - val_loss: 0.8026 - val_mae: 0.7648 - 70ms/epoch - 12ms/step\n",
            "Epoch 61/100\n",
            "6/6 - 0s - loss: 0.6974 - mae: 0.6575 - val_loss: 0.8133 - val_mae: 0.7683 - 61ms/epoch - 10ms/step\n",
            "Epoch 62/100\n",
            "6/6 - 0s - loss: 0.6572 - mae: 0.6580 - val_loss: 0.8200 - val_mae: 0.7687 - 54ms/epoch - 9ms/step\n",
            "Epoch 63/100\n",
            "6/6 - 0s - loss: 0.6668 - mae: 0.6631 - val_loss: 0.8049 - val_mae: 0.7620 - 75ms/epoch - 13ms/step\n",
            "Epoch 64/100\n",
            "6/6 - 0s - loss: 0.5933 - mae: 0.6232 - val_loss: 0.7929 - val_mae: 0.7569 - 78ms/epoch - 13ms/step\n",
            "Epoch 65/100\n",
            "6/6 - 0s - loss: 0.6964 - mae: 0.6639 - val_loss: 0.7981 - val_mae: 0.7602 - 66ms/epoch - 11ms/step\n",
            "Epoch 66/100\n",
            "6/6 - 0s - loss: 0.6770 - mae: 0.6635 - val_loss: 0.8058 - val_mae: 0.7636 - 84ms/epoch - 14ms/step\n",
            "Epoch 67/100\n",
            "6/6 - 0s - loss: 0.6487 - mae: 0.6562 - val_loss: 0.8113 - val_mae: 0.7660 - 55ms/epoch - 9ms/step\n",
            "Epoch 68/100\n",
            "6/6 - 0s - loss: 0.6795 - mae: 0.6771 - val_loss: 0.8277 - val_mae: 0.7724 - 78ms/epoch - 13ms/step\n",
            "Epoch 69/100\n",
            "6/6 - 0s - loss: 0.6595 - mae: 0.6662 - val_loss: 0.8329 - val_mae: 0.7737 - 51ms/epoch - 8ms/step\n",
            "Epoch 70/100\n",
            "6/6 - 0s - loss: 0.6435 - mae: 0.6398 - val_loss: 0.8246 - val_mae: 0.7716 - 60ms/epoch - 10ms/step\n",
            "Epoch 71/100\n",
            "6/6 - 0s - loss: 0.6556 - mae: 0.6668 - val_loss: 0.8035 - val_mae: 0.7641 - 51ms/epoch - 8ms/step\n",
            "Epoch 72/100\n",
            "6/6 - 0s - loss: 0.6635 - mae: 0.6624 - val_loss: 0.7915 - val_mae: 0.7585 - 73ms/epoch - 12ms/step\n",
            "Epoch 73/100\n",
            "6/6 - 0s - loss: 0.6617 - mae: 0.6584 - val_loss: 0.7612 - val_mae: 0.7486 - 64ms/epoch - 11ms/step\n",
            "Epoch 74/100\n",
            "6/6 - 0s - loss: 0.6054 - mae: 0.6315 - val_loss: 0.7588 - val_mae: 0.7465 - 60ms/epoch - 10ms/step\n",
            "Epoch 75/100\n",
            "6/6 - 0s - loss: 0.6023 - mae: 0.6265 - val_loss: 0.7405 - val_mae: 0.7377 - 77ms/epoch - 13ms/step\n",
            "Epoch 76/100\n",
            "6/6 - 0s - loss: 0.6277 - mae: 0.6420 - val_loss: 0.7320 - val_mae: 0.7340 - 52ms/epoch - 9ms/step\n",
            "Epoch 77/100\n",
            "6/6 - 0s - loss: 0.6639 - mae: 0.6536 - val_loss: 0.7401 - val_mae: 0.7380 - 52ms/epoch - 9ms/step\n",
            "Epoch 78/100\n",
            "6/6 - 0s - loss: 0.5862 - mae: 0.6154 - val_loss: 0.7275 - val_mae: 0.7329 - 61ms/epoch - 10ms/step\n",
            "Epoch 79/100\n",
            "6/6 - 0s - loss: 0.5649 - mae: 0.6010 - val_loss: 0.6769 - val_mae: 0.7104 - 56ms/epoch - 9ms/step\n",
            "Epoch 80/100\n",
            "6/6 - 0s - loss: 0.6467 - mae: 0.6598 - val_loss: 0.6570 - val_mae: 0.7008 - 64ms/epoch - 11ms/step\n",
            "Epoch 81/100\n",
            "6/6 - 0s - loss: 0.6356 - mae: 0.6472 - val_loss: 0.6583 - val_mae: 0.7013 - 73ms/epoch - 12ms/step\n",
            "Epoch 82/100\n",
            "6/6 - 0s - loss: 0.6638 - mae: 0.6535 - val_loss: 0.6637 - val_mae: 0.7040 - 52ms/epoch - 9ms/step\n",
            "Epoch 83/100\n",
            "6/6 - 0s - loss: 0.6212 - mae: 0.6299 - val_loss: 0.6524 - val_mae: 0.7006 - 61ms/epoch - 10ms/step\n",
            "Epoch 84/100\n",
            "6/6 - 0s - loss: 0.6456 - mae: 0.6586 - val_loss: 0.6352 - val_mae: 0.6939 - 69ms/epoch - 11ms/step\n",
            "Epoch 85/100\n",
            "6/6 - 0s - loss: 0.5850 - mae: 0.6169 - val_loss: 0.6344 - val_mae: 0.6913 - 68ms/epoch - 11ms/step\n",
            "Epoch 86/100\n",
            "6/6 - 0s - loss: 0.6185 - mae: 0.6476 - val_loss: 0.6318 - val_mae: 0.6885 - 52ms/epoch - 9ms/step\n",
            "Epoch 87/100\n",
            "6/6 - 0s - loss: 0.6587 - mae: 0.6697 - val_loss: 0.6446 - val_mae: 0.6953 - 54ms/epoch - 9ms/step\n",
            "Epoch 88/100\n",
            "6/6 - 0s - loss: 0.5721 - mae: 0.6249 - val_loss: 0.6538 - val_mae: 0.7016 - 71ms/epoch - 12ms/step\n",
            "Epoch 89/100\n",
            "6/6 - 0s - loss: 0.5782 - mae: 0.6240 - val_loss: 0.6394 - val_mae: 0.6957 - 59ms/epoch - 10ms/step\n",
            "Epoch 90/100\n",
            "6/6 - 0s - loss: 0.6196 - mae: 0.6374 - val_loss: 0.6220 - val_mae: 0.6901 - 80ms/epoch - 13ms/step\n",
            "Epoch 91/100\n",
            "6/6 - 0s - loss: 0.6236 - mae: 0.6398 - val_loss: 0.6222 - val_mae: 0.6919 - 57ms/epoch - 10ms/step\n",
            "Epoch 92/100\n",
            "6/6 - 0s - loss: 0.6024 - mae: 0.6293 - val_loss: 0.6117 - val_mae: 0.6843 - 76ms/epoch - 13ms/step\n",
            "Epoch 93/100\n",
            "6/6 - 0s - loss: 0.5511 - mae: 0.6030 - val_loss: 0.6128 - val_mae: 0.6821 - 73ms/epoch - 12ms/step\n",
            "Epoch 94/100\n",
            "6/6 - 0s - loss: 0.7173 - mae: 0.6883 - val_loss: 0.6199 - val_mae: 0.6876 - 78ms/epoch - 13ms/step\n",
            "Epoch 95/100\n",
            "6/6 - 0s - loss: 0.5847 - mae: 0.6149 - val_loss: 0.6253 - val_mae: 0.6906 - 73ms/epoch - 12ms/step\n",
            "Epoch 96/100\n",
            "6/6 - 0s - loss: 0.6009 - mae: 0.6259 - val_loss: 0.6336 - val_mae: 0.6907 - 72ms/epoch - 12ms/step\n",
            "Epoch 97/100\n",
            "6/6 - 0s - loss: 0.6161 - mae: 0.6310 - val_loss: 0.6288 - val_mae: 0.6847 - 62ms/epoch - 10ms/step\n",
            "Epoch 98/100\n",
            "6/6 - 0s - loss: 0.6181 - mae: 0.6348 - val_loss: 0.6227 - val_mae: 0.6782 - 57ms/epoch - 9ms/step\n",
            "Epoch 99/100\n",
            "6/6 - 0s - loss: 0.6233 - mae: 0.6388 - val_loss: 0.6047 - val_mae: 0.6726 - 57ms/epoch - 9ms/step\n",
            "Epoch 100/100\n",
            "6/6 - 0s - loss: 0.6838 - mae: 0.6788 - val_loss: 0.5959 - val_mae: 0.6692 - 56ms/epoch - 9ms/step\n"
          ]
        }
      ],
      "source": [
        "# Train the model\n",
        "\n",
        "history = model.fit(train_data, train_targets, epochs=100, validation_split=0.15, batch_size=64,verbose=2)"
      ]
    },
    {
      "cell_type": "code",
      "execution_count": 26,
      "metadata": {
        "colab": {
          "base_uri": "https://localhost:8080/",
          "height": 428
        },
        "id": "h8EoOIOC-_bQ",
        "outputId": "1b83b65d-f478-4b2e-e01a-5d5a48064eb0"
      },
      "outputs": [
        {
          "output_type": "execute_result",
          "data": {
            "text/plain": [
              "<matplotlib.legend.Legend at 0x7f2f723257e0>"
            ]
          },
          "metadata": {},
          "execution_count": 26
        },
        {
          "output_type": "display_data",
          "data": {
            "text/plain": [
              "<Figure size 1200x400 with 2 Axes>"
            ],
            "image/png": "[encoded data removed]"
          },
          "metadata": {}
        }
      ],
      "source": [
        "# Plot the learning curves\n",
        "\n",
        "import pandas as pd\n",
        "import numpy as np\n",
        "import matplotlib.pyplot as plt\n",
        "%matplotlib inline\n",
        "\n",
        "frame = pd.DataFrame(history.history)\n",
        "epochs = np.arange(len(frame))\n",
        "\n",
        "fig = plt.figure(figsize=(12,4))\n",
        "\n",
        "# Loss plot\n",
        "ax = fig.add_subplot(121)\n",
        "ax.plot(epochs, frame['loss'], label=\"Train\")\n",
        "ax.plot(epochs, frame['val_loss'], label=\"Validation\")\n",
        "ax.set_xlabel(\"Epochs\")\n",
        "ax.set_ylabel(\"Loss\")\n",
        "ax.set_title(\"Loss vs Epochs\")\n",
        "ax.legend()\n",
        "\n",
        "# Accuracy plot\n",
        "ax = fig.add_subplot(122)\n",
        "ax.plot(epochs, frame['mae'], label=\"Train\")\n",
        "ax.plot(epochs, frame['val_mae'], label=\"Validation\")\n",
        "ax.set_xlabel(\"Epochs\")\n",
        "ax.set_ylabel(\"Mean Absolute Error\")\n",
        "ax.set_title(\"Mean Absolute Error vs Epochs\")\n",
        "ax.legend()"
      ]
    },
    {
      "cell_type": "markdown",
      "metadata": {
        "id": "NCYu0R6w_HyJ"
      },
      "source": [
        "### Customising parameters\n",
        "\n",
        "Recall that there are some parameters and hyperparameters associated with batch normalization.\n",
        "\n",
        "* The hyperparameter **momentum** is the weighting given to the previous running mean when re-computing it with an extra minibatch. By **default**, it is set to 0.99.\n",
        "\n",
        "* The hyperparameter **$\\epsilon$** is used for numeric stability when performing the normalization over the minibatch. By **default** it is set to 0.001.\n",
        "\n",
        "* The parameters **$\\beta$** and **$\\gamma$** are used to implement an affine transformation after normalization. By **default**, $\\beta$ is an all-zeros vector, and $\\gamma$ is an all-ones vector.\n",
        "\n",
        "These can all be changed (along with various other properties) by adding optional arguments to `tf.keras.layers.BatchNormalization()`.\n",
        "\n",
        "We can also specify the axis for batch normalization. By default, it is set as -1.\n",
        "\n",
        "Let's see an example."
      ]
    },
    {
      "cell_type": "code",
      "execution_count": 27,
      "metadata": {
        "id": "cJX9x-pl-HmN"
      },
      "outputs": [],
      "source": [
        "# the previous model\n",
        "# model = Sequential([\n",
        "#     Dense(64, input_shape=[train_data.shape[1],], activation=\"relu\"),\n",
        "#     BatchNormalization(),  # <- Batch normalization layer 1\n",
        "#     Dropout(0.5),\n",
        "#     Dense(256, activation='relu'),\n",
        "#     BatchNormalization(), # <- Batch normalization layer 2\n",
        "#     Dense(1)\n",
        "# ])\n",
        "\n",
        "model = Sequential([\n",
        "    Dense(64, input_shape=[train_data.shape[1],], activation=\"relu\"),\n",
        "    BatchNormalization(),  # <- Batch normalization layer 1\n",
        "    Dropout(0.5),\n",
        "    BatchNormalization(), # <- Batch normalization layer 2\n",
        "    Dropout(0.5),\n",
        "    Dense(256, activation='relu'),\n",
        "    #BatchNormalization(),\n",
        "    #Dense(1)\n",
        "])\n",
        "\n",
        "# Notice that in this new model,we still have not added the output layer because we still have more layers to add!"
      ]
    },
    {
      "cell_type": "code",
      "execution_count": 29,
      "metadata": {
        "id": "kQwPx-8o_HyK"
      },
      "outputs": [],
      "source": [
        "# Add a customised batch normalization layer 2\n",
        "\n",
        "model.add(tf.keras.layers.BatchNormalization(\n",
        "    momentum=0.95, # default is 0.99\n",
        "    epsilon=0.005, #default is 0.001\n",
        "    axis = -1, #default is -1 (meaning the channel dimension is the last dimension)\n",
        "    beta_initializer=tf.keras.initializers.RandomNormal(mean=0.0, stddev=0.05), # default is beta_initializer='zeros'\n",
        "    gamma_initializer=tf.keras.initializers.Constant(value=0.9) # default is gamma_initializer='ones'\n",
        "))"
      ]
    },
    {
      "cell_type": "code",
      "execution_count": 30,
      "metadata": {
        "id": "QiQpRo94_HyL"
      },
      "outputs": [],
      "source": [
        "# Add the output layer\n",
        "\n",
        "model.add(Dense(1))"
      ]
    },
    {
      "cell_type": "code",
      "execution_count": 31,
      "metadata": {
        "colab": {
          "base_uri": "https://localhost:8080/",
          "height": 0
        },
        "id": "8fk_1F6bBfYu",
        "outputId": "178d3ebc-ff83-4375-f37c-c14c1c84f48e"
      },
      "outputs": [
        {
          "output_type": "stream",
          "name": "stdout",
          "text": [
            "Model: \"sequential_2\"\n",
            "_________________________________________________________________\n",
            " Layer (type)                Output Shape              Param #   \n",
            "=================================================================\n",
            " dense_6 (Dense)             (None, 64)                704       \n",
            "                                                                 \n",
            " batch_normalization_3 (Batc  (None, 64)               256       \n",
            " hNormalization)                                                 \n",
            "                                                                 \n",
            " dropout_3 (Dropout)         (None, 64)                0         \n",
            "                                                                 \n",
            " batch_normalization_4 (Batc  (None, 64)               256       \n",
            " hNormalization)                                                 \n",
            "                                                                 \n",
            " dropout_4 (Dropout)         (None, 64)                0         \n",
            "                                                                 \n",
            " dense_7 (Dense)             (None, 256)               16640     \n",
            "                                                                 \n",
            " batch_normalization_5 (Batc  (None, 256)              1024      \n",
            " hNormalization)                                                 \n",
            "                                                                 \n",
            " batch_normalization_6 (Batc  (None, 256)              1024      \n",
            " hNormalization)                                                 \n",
            "                                                                 \n",
            " dense_8 (Dense)             (None, 1)                 257       \n",
            "                                                                 \n",
            "=================================================================\n",
            "Total params: 20,161\n",
            "Trainable params: 18,881\n",
            "Non-trainable params: 1,280\n",
            "_________________________________________________________________\n"
          ]
        }
      ],
      "source": [
        "# Print the model summary\n",
        "\n",
        "model.summary()"
      ]
    },
    {
      "cell_type": "markdown",
      "metadata": {
        "id": "v6mXIhwk_HyM"
      },
      "source": [
        "Let's now compile and fit our model with batch normalization, and track the progress on training and validation sets.\n",
        "\n",
        "First we compile our model."
      ]
    },
    {
      "cell_type": "code",
      "execution_count": 32,
      "metadata": {
        "id": "3zxrK-oF_HyN"
      },
      "outputs": [],
      "source": [
        "# Compile the model\n",
        "\n",
        "model.compile(optimizer='adam',\n",
        "              loss='mse',\n",
        "              metrics=['mae'])"
      ]
    },
    {
      "cell_type": "markdown",
      "metadata": {
        "id": "jxXcToFK_HyO"
      },
      "source": [
        "Now we fit the model to the data."
      ]
    },
    {
      "cell_type": "code",
      "execution_count": 33,
      "metadata": {
        "colab": {
          "base_uri": "https://localhost:8080/",
          "height": 0
        },
        "id": "zVVsbFdP_HyO",
        "outputId": "c8e7fc72-d7a2-42c0-bde4-d4e0b45571d0"
      },
      "outputs": [
        {
          "output_type": "stream",
          "name": "stdout",
          "text": [
            "Epoch 1/100\n",
            "6/6 - 3s - loss: 2.3766 - mae: 1.2286 - val_loss: 0.9058 - val_mae: 0.8084 - 3s/epoch - 561ms/step\n",
            "Epoch 2/100\n",
            "6/6 - 0s - loss: 1.5163 - mae: 0.9858 - val_loss: 0.9044 - val_mae: 0.8090 - 112ms/epoch - 19ms/step\n",
            "Epoch 3/100\n",
            "6/6 - 0s - loss: 1.1956 - mae: 0.8599 - val_loss: 0.9040 - val_mae: 0.8091 - 90ms/epoch - 15ms/step\n",
            "Epoch 4/100\n",
            "6/6 - 0s - loss: 1.0814 - mae: 0.8403 - val_loss: 0.9131 - val_mae: 0.8133 - 78ms/epoch - 13ms/step\n",
            "Epoch 5/100\n",
            "6/6 - 0s - loss: 1.1694 - mae: 0.8934 - val_loss: 0.9065 - val_mae: 0.8110 - 73ms/epoch - 12ms/step\n",
            "Epoch 6/100\n",
            "6/6 - 0s - loss: 1.0768 - mae: 0.8149 - val_loss: 0.8990 - val_mae: 0.8083 - 83ms/epoch - 14ms/step\n",
            "Epoch 7/100\n",
            "6/6 - 0s - loss: 1.0182 - mae: 0.8153 - val_loss: 0.8924 - val_mae: 0.8054 - 99ms/epoch - 17ms/step\n",
            "Epoch 8/100\n",
            "6/6 - 0s - loss: 1.0555 - mae: 0.8262 - val_loss: 0.8883 - val_mae: 0.8032 - 65ms/epoch - 11ms/step\n",
            "Epoch 9/100\n",
            "6/6 - 0s - loss: 0.7960 - mae: 0.7394 - val_loss: 0.8854 - val_mae: 0.8018 - 76ms/epoch - 13ms/step\n",
            "Epoch 10/100\n",
            "6/6 - 0s - loss: 0.9029 - mae: 0.7614 - val_loss: 0.8813 - val_mae: 0.8007 - 84ms/epoch - 14ms/step\n",
            "Epoch 11/100\n",
            "6/6 - 0s - loss: 1.0110 - mae: 0.8322 - val_loss: 0.8796 - val_mae: 0.7985 - 69ms/epoch - 12ms/step\n",
            "Epoch 12/100\n",
            "6/6 - 0s - loss: 0.7968 - mae: 0.7272 - val_loss: 0.8958 - val_mae: 0.8017 - 82ms/epoch - 14ms/step\n",
            "Epoch 13/100\n",
            "6/6 - 0s - loss: 0.9694 - mae: 0.8091 - val_loss: 0.9219 - val_mae: 0.8067 - 89ms/epoch - 15ms/step\n",
            "Epoch 14/100\n",
            "6/6 - 0s - loss: 0.9266 - mae: 0.7631 - val_loss: 0.9611 - val_mae: 0.8179 - 81ms/epoch - 14ms/step\n",
            "Epoch 15/100\n",
            "6/6 - 0s - loss: 0.8245 - mae: 0.7246 - val_loss: 0.9628 - val_mae: 0.8189 - 62ms/epoch - 10ms/step\n",
            "Epoch 16/100\n",
            "6/6 - 0s - loss: 0.8715 - mae: 0.7408 - val_loss: 0.9821 - val_mae: 0.8257 - 59ms/epoch - 10ms/step\n",
            "Epoch 17/100\n",
            "6/6 - 0s - loss: 0.8916 - mae: 0.7503 - val_loss: 1.0067 - val_mae: 0.8337 - 68ms/epoch - 11ms/step\n",
            "Epoch 18/100\n",
            "6/6 - 0s - loss: 0.9272 - mae: 0.7425 - val_loss: 1.0028 - val_mae: 0.8321 - 79ms/epoch - 13ms/step\n",
            "Epoch 19/100\n",
            "6/6 - 0s - loss: 0.7403 - mae: 0.6917 - val_loss: 1.0098 - val_mae: 0.8340 - 83ms/epoch - 14ms/step\n",
            "Epoch 20/100\n",
            "6/6 - 0s - loss: 0.8385 - mae: 0.7159 - val_loss: 1.0072 - val_mae: 0.8332 - 74ms/epoch - 12ms/step\n",
            "Epoch 21/100\n",
            "6/6 - 0s - loss: 0.7985 - mae: 0.7323 - val_loss: 1.0063 - val_mae: 0.8327 - 58ms/epoch - 10ms/step\n",
            "Epoch 22/100\n",
            "6/6 - 0s - loss: 0.8639 - mae: 0.7425 - val_loss: 1.0216 - val_mae: 0.8373 - 75ms/epoch - 13ms/step\n",
            "Epoch 23/100\n",
            "6/6 - 0s - loss: 0.8117 - mae: 0.7269 - val_loss: 1.0459 - val_mae: 0.8440 - 86ms/epoch - 14ms/step\n",
            "Epoch 24/100\n",
            "6/6 - 0s - loss: 0.7991 - mae: 0.7100 - val_loss: 1.0570 - val_mae: 0.8469 - 65ms/epoch - 11ms/step\n",
            "Epoch 25/100\n",
            "6/6 - 0s - loss: 0.8541 - mae: 0.7583 - val_loss: 1.0580 - val_mae: 0.8477 - 70ms/epoch - 12ms/step\n",
            "Epoch 26/100\n",
            "6/6 - 0s - loss: 0.7610 - mae: 0.6990 - val_loss: 1.0048 - val_mae: 0.8321 - 82ms/epoch - 14ms/step\n",
            "Epoch 27/100\n",
            "6/6 - 0s - loss: 0.7259 - mae: 0.6911 - val_loss: 0.9669 - val_mae: 0.8198 - 76ms/epoch - 13ms/step\n",
            "Epoch 28/100\n",
            "6/6 - 0s - loss: 0.8517 - mae: 0.7410 - val_loss: 0.9723 - val_mae: 0.8211 - 59ms/epoch - 10ms/step\n",
            "Epoch 29/100\n",
            "6/6 - 0s - loss: 0.7148 - mae: 0.6842 - val_loss: 0.9765 - val_mae: 0.8220 - 80ms/epoch - 13ms/step\n",
            "Epoch 30/100\n",
            "6/6 - 0s - loss: 0.7080 - mae: 0.6703 - val_loss: 0.9789 - val_mae: 0.8231 - 82ms/epoch - 14ms/step\n",
            "Epoch 31/100\n",
            "6/6 - 0s - loss: 0.7622 - mae: 0.7113 - val_loss: 0.9858 - val_mae: 0.8251 - 80ms/epoch - 13ms/step\n",
            "Epoch 32/100\n",
            "6/6 - 0s - loss: 0.7510 - mae: 0.7007 - val_loss: 1.0026 - val_mae: 0.8289 - 64ms/epoch - 11ms/step\n",
            "Epoch 33/100\n",
            "6/6 - 0s - loss: 0.7526 - mae: 0.7093 - val_loss: 1.0394 - val_mae: 0.8387 - 72ms/epoch - 12ms/step\n",
            "Epoch 34/100\n",
            "6/6 - 0s - loss: 0.6843 - mae: 0.6495 - val_loss: 1.0743 - val_mae: 0.8492 - 66ms/epoch - 11ms/step\n",
            "Epoch 35/100\n",
            "6/6 - 0s - loss: 0.7657 - mae: 0.6974 - val_loss: 1.0914 - val_mae: 0.8554 - 67ms/epoch - 11ms/step\n",
            "Epoch 36/100\n",
            "6/6 - 0s - loss: 0.7289 - mae: 0.6843 - val_loss: 1.1116 - val_mae: 0.8622 - 69ms/epoch - 11ms/step\n",
            "Epoch 37/100\n",
            "6/6 - 0s - loss: 0.7155 - mae: 0.6974 - val_loss: 1.0956 - val_mae: 0.8577 - 67ms/epoch - 11ms/step\n",
            "Epoch 38/100\n",
            "6/6 - 0s - loss: 0.7177 - mae: 0.6900 - val_loss: 1.0736 - val_mae: 0.8495 - 84ms/epoch - 14ms/step\n",
            "Epoch 39/100\n",
            "6/6 - 0s - loss: 0.7100 - mae: 0.6739 - val_loss: 1.0183 - val_mae: 0.8315 - 77ms/epoch - 13ms/step\n",
            "Epoch 40/100\n",
            "6/6 - 0s - loss: 0.6081 - mae: 0.6366 - val_loss: 0.9993 - val_mae: 0.8236 - 85ms/epoch - 14ms/step\n",
            "Epoch 41/100\n",
            "6/6 - 0s - loss: 0.7027 - mae: 0.6811 - val_loss: 0.9920 - val_mae: 0.8200 - 62ms/epoch - 10ms/step\n",
            "Epoch 42/100\n",
            "6/6 - 0s - loss: 0.6650 - mae: 0.6449 - val_loss: 1.0091 - val_mae: 0.8258 - 65ms/epoch - 11ms/step\n",
            "Epoch 43/100\n",
            "6/6 - 0s - loss: 0.7579 - mae: 0.7123 - val_loss: 1.0003 - val_mae: 0.8237 - 62ms/epoch - 10ms/step\n",
            "Epoch 44/100\n",
            "6/6 - 0s - loss: 0.6258 - mae: 0.6442 - val_loss: 0.9523 - val_mae: 0.8110 - 61ms/epoch - 10ms/step\n",
            "Epoch 45/100\n",
            "6/6 - 0s - loss: 0.6195 - mae: 0.6407 - val_loss: 0.9126 - val_mae: 0.7983 - 81ms/epoch - 14ms/step\n",
            "Epoch 46/100\n",
            "6/6 - 0s - loss: 0.6832 - mae: 0.6784 - val_loss: 0.8923 - val_mae: 0.7923 - 65ms/epoch - 11ms/step\n",
            "Epoch 47/100\n",
            "6/6 - 0s - loss: 0.6910 - mae: 0.6641 - val_loss: 0.8810 - val_mae: 0.7883 - 64ms/epoch - 11ms/step\n",
            "Epoch 48/100\n",
            "6/6 - 0s - loss: 0.7031 - mae: 0.6626 - val_loss: 0.8823 - val_mae: 0.7888 - 64ms/epoch - 11ms/step\n",
            "Epoch 49/100\n",
            "6/6 - 0s - loss: 0.7336 - mae: 0.7121 - val_loss: 0.8697 - val_mae: 0.7837 - 82ms/epoch - 14ms/step\n",
            "Epoch 50/100\n",
            "6/6 - 0s - loss: 0.6353 - mae: 0.6479 - val_loss: 0.8706 - val_mae: 0.7829 - 55ms/epoch - 9ms/step\n",
            "Epoch 51/100\n",
            "6/6 - 0s - loss: 0.6448 - mae: 0.6501 - val_loss: 0.8669 - val_mae: 0.7810 - 71ms/epoch - 12ms/step\n",
            "Epoch 52/100\n",
            "6/6 - 0s - loss: 0.7280 - mae: 0.6978 - val_loss: 0.8587 - val_mae: 0.7798 - 80ms/epoch - 13ms/step\n",
            "Epoch 53/100\n",
            "6/6 - 0s - loss: 0.6484 - mae: 0.6396 - val_loss: 0.8687 - val_mae: 0.7838 - 63ms/epoch - 11ms/step\n",
            "Epoch 54/100\n",
            "6/6 - 0s - loss: 0.6099 - mae: 0.6314 - val_loss: 0.8702 - val_mae: 0.7837 - 78ms/epoch - 13ms/step\n",
            "Epoch 55/100\n",
            "6/6 - 0s - loss: 0.6617 - mae: 0.6621 - val_loss: 0.8666 - val_mae: 0.7816 - 54ms/epoch - 9ms/step\n",
            "Epoch 56/100\n",
            "6/6 - 0s - loss: 0.6586 - mae: 0.6446 - val_loss: 0.8409 - val_mae: 0.7729 - 62ms/epoch - 10ms/step\n",
            "Epoch 57/100\n",
            "6/6 - 0s - loss: 0.7015 - mae: 0.6895 - val_loss: 0.8413 - val_mae: 0.7736 - 56ms/epoch - 9ms/step\n",
            "Epoch 58/100\n",
            "6/6 - 0s - loss: 0.6105 - mae: 0.6242 - val_loss: 0.8396 - val_mae: 0.7731 - 54ms/epoch - 9ms/step\n",
            "Epoch 59/100\n",
            "6/6 - 0s - loss: 0.5885 - mae: 0.6201 - val_loss: 0.8081 - val_mae: 0.7613 - 61ms/epoch - 10ms/step\n",
            "Epoch 60/100\n",
            "6/6 - 0s - loss: 0.6790 - mae: 0.6356 - val_loss: 0.8115 - val_mae: 0.7603 - 54ms/epoch - 9ms/step\n",
            "Epoch 61/100\n",
            "6/6 - 0s - loss: 0.5977 - mae: 0.6236 - val_loss: 0.7949 - val_mae: 0.7541 - 53ms/epoch - 9ms/step\n",
            "Epoch 62/100\n",
            "6/6 - 0s - loss: 0.6207 - mae: 0.6323 - val_loss: 0.8031 - val_mae: 0.7586 - 60ms/epoch - 10ms/step\n",
            "Epoch 63/100\n",
            "6/6 - 0s - loss: 0.6072 - mae: 0.6298 - val_loss: 0.8253 - val_mae: 0.7663 - 79ms/epoch - 13ms/step\n",
            "Epoch 64/100\n",
            "6/6 - 0s - loss: 0.6745 - mae: 0.6810 - val_loss: 0.8321 - val_mae: 0.7673 - 67ms/epoch - 11ms/step\n",
            "Epoch 65/100\n",
            "6/6 - 0s - loss: 0.6969 - mae: 0.6830 - val_loss: 0.8155 - val_mae: 0.7596 - 61ms/epoch - 10ms/step\n",
            "Epoch 66/100\n",
            "6/6 - 0s - loss: 0.6596 - mae: 0.6693 - val_loss: 0.7747 - val_mae: 0.7447 - 58ms/epoch - 10ms/step\n",
            "Epoch 67/100\n",
            "6/6 - 0s - loss: 0.6427 - mae: 0.6483 - val_loss: 0.7517 - val_mae: 0.7385 - 53ms/epoch - 9ms/step\n",
            "Epoch 68/100\n",
            "6/6 - 0s - loss: 0.6338 - mae: 0.6420 - val_loss: 0.7522 - val_mae: 0.7401 - 70ms/epoch - 12ms/step\n",
            "Epoch 69/100\n",
            "6/6 - 0s - loss: 0.6194 - mae: 0.6396 - val_loss: 0.7747 - val_mae: 0.7488 - 58ms/epoch - 10ms/step\n",
            "Epoch 70/100\n",
            "6/6 - 0s - loss: 0.6266 - mae: 0.6389 - val_loss: 0.7821 - val_mae: 0.7513 - 74ms/epoch - 12ms/step\n",
            "Epoch 71/100\n",
            "6/6 - 0s - loss: 0.6437 - mae: 0.6393 - val_loss: 0.7805 - val_mae: 0.7498 - 66ms/epoch - 11ms/step\n",
            "Epoch 72/100\n",
            "6/6 - 0s - loss: 0.5961 - mae: 0.6308 - val_loss: 0.7781 - val_mae: 0.7481 - 58ms/epoch - 10ms/step\n",
            "Epoch 73/100\n",
            "6/6 - 0s - loss: 0.5493 - mae: 0.6038 - val_loss: 0.7714 - val_mae: 0.7452 - 58ms/epoch - 10ms/step\n",
            "Epoch 74/100\n",
            "6/6 - 0s - loss: 0.5939 - mae: 0.6326 - val_loss: 0.7665 - val_mae: 0.7431 - 55ms/epoch - 9ms/step\n",
            "Epoch 75/100\n",
            "6/6 - 0s - loss: 0.6831 - mae: 0.6651 - val_loss: 0.7835 - val_mae: 0.7466 - 56ms/epoch - 9ms/step\n",
            "Epoch 76/100\n",
            "6/6 - 0s - loss: 0.6181 - mae: 0.6387 - val_loss: 0.8109 - val_mae: 0.7541 - 60ms/epoch - 10ms/step\n",
            "Epoch 77/100\n",
            "6/6 - 0s - loss: 0.6781 - mae: 0.6684 - val_loss: 0.8167 - val_mae: 0.7533 - 52ms/epoch - 9ms/step\n",
            "Epoch 78/100\n",
            "6/6 - 0s - loss: 0.6175 - mae: 0.6383 - val_loss: 0.8049 - val_mae: 0.7489 - 79ms/epoch - 13ms/step\n",
            "Epoch 79/100\n",
            "6/6 - 0s - loss: 0.6027 - mae: 0.6328 - val_loss: 0.7801 - val_mae: 0.7406 - 61ms/epoch - 10ms/step\n",
            "Epoch 80/100\n",
            "6/6 - 0s - loss: 0.5969 - mae: 0.6216 - val_loss: 0.7632 - val_mae: 0.7373 - 66ms/epoch - 11ms/step\n",
            "Epoch 81/100\n",
            "6/6 - 0s - loss: 0.5971 - mae: 0.6283 - val_loss: 0.7623 - val_mae: 0.7379 - 63ms/epoch - 11ms/step\n",
            "Epoch 82/100\n",
            "6/6 - 0s - loss: 0.6070 - mae: 0.6287 - val_loss: 0.7391 - val_mae: 0.7284 - 60ms/epoch - 10ms/step\n",
            "Epoch 83/100\n",
            "6/6 - 0s - loss: 0.6037 - mae: 0.6219 - val_loss: 0.7333 - val_mae: 0.7253 - 72ms/epoch - 12ms/step\n",
            "Epoch 84/100\n",
            "6/6 - 0s - loss: 0.6234 - mae: 0.6449 - val_loss: 0.7159 - val_mae: 0.7187 - 61ms/epoch - 10ms/step\n",
            "Epoch 85/100\n",
            "6/6 - 0s - loss: 0.6131 - mae: 0.6363 - val_loss: 0.6973 - val_mae: 0.7113 - 70ms/epoch - 12ms/step\n",
            "Epoch 86/100\n",
            "6/6 - 0s - loss: 0.6037 - mae: 0.6458 - val_loss: 0.7057 - val_mae: 0.7140 - 80ms/epoch - 13ms/step\n",
            "Epoch 87/100\n",
            "6/6 - 0s - loss: 0.6177 - mae: 0.6603 - val_loss: 0.6989 - val_mae: 0.7099 - 69ms/epoch - 12ms/step\n",
            "Epoch 88/100\n",
            "6/6 - 0s - loss: 0.5742 - mae: 0.6136 - val_loss: 0.6742 - val_mae: 0.7009 - 59ms/epoch - 10ms/step\n",
            "Epoch 89/100\n",
            "6/6 - 0s - loss: 0.6639 - mae: 0.6800 - val_loss: 0.6607 - val_mae: 0.6985 - 65ms/epoch - 11ms/step\n",
            "Epoch 90/100\n",
            "6/6 - 0s - loss: 0.6112 - mae: 0.6322 - val_loss: 0.6425 - val_mae: 0.6912 - 64ms/epoch - 11ms/step\n",
            "Epoch 91/100\n",
            "6/6 - 0s - loss: 0.6332 - mae: 0.6225 - val_loss: 0.6352 - val_mae: 0.6871 - 76ms/epoch - 13ms/step\n",
            "Epoch 92/100\n",
            "6/6 - 0s - loss: 0.6223 - mae: 0.6497 - val_loss: 0.6279 - val_mae: 0.6793 - 61ms/epoch - 10ms/step\n",
            "Epoch 93/100\n",
            "6/6 - 0s - loss: 0.6335 - mae: 0.6525 - val_loss: 0.6437 - val_mae: 0.6824 - 60ms/epoch - 10ms/step\n",
            "Epoch 94/100\n",
            "6/6 - 0s - loss: 0.6056 - mae: 0.6224 - val_loss: 0.6457 - val_mae: 0.6874 - 61ms/epoch - 10ms/step\n",
            "Epoch 95/100\n",
            "6/6 - 0s - loss: 0.5886 - mae: 0.6082 - val_loss: 0.6390 - val_mae: 0.6839 - 54ms/epoch - 9ms/step\n",
            "Epoch 96/100\n",
            "6/6 - 0s - loss: 0.5802 - mae: 0.6151 - val_loss: 0.6516 - val_mae: 0.6864 - 52ms/epoch - 9ms/step\n",
            "Epoch 97/100\n",
            "6/6 - 0s - loss: 0.5731 - mae: 0.6187 - val_loss: 0.6664 - val_mae: 0.6908 - 92ms/epoch - 15ms/step\n",
            "Epoch 98/100\n",
            "6/6 - 0s - loss: 0.6091 - mae: 0.6337 - val_loss: 0.6496 - val_mae: 0.6870 - 57ms/epoch - 9ms/step\n",
            "Epoch 99/100\n",
            "6/6 - 0s - loss: 0.5751 - mae: 0.6199 - val_loss: 0.6299 - val_mae: 0.6766 - 57ms/epoch - 9ms/step\n",
            "Epoch 100/100\n",
            "6/6 - 0s - loss: 0.6171 - mae: 0.6375 - val_loss: 0.6118 - val_mae: 0.6648 - 54ms/epoch - 9ms/step\n"
          ]
        }
      ],
      "source": [
        "# Train the model\n",
        "\n",
        "history = model.fit(train_data, train_targets, epochs=100, validation_split=0.15, batch_size=64,verbose=2)"
      ]
    },
    {
      "cell_type": "markdown",
      "metadata": {
        "id": "14dwn7J7_HyP"
      },
      "source": [
        "Finally, we plot training and validation loss and accuracy to observe how the accuracy of our model improves over time."
      ]
    },
    {
      "cell_type": "code",
      "execution_count": 34,
      "metadata": {
        "colab": {
          "base_uri": "https://localhost:8080/",
          "height": 428
        },
        "id": "wX5JUy1m_HyQ",
        "outputId": "1b3ec25a-33b7-49f2-c949-7f9801ac8d8f"
      },
      "outputs": [
        {
          "output_type": "execute_result",
          "data": {
            "text/plain": [
              "<matplotlib.legend.Legend at 0x7f2f71c62d70>"
            ]
          },
          "metadata": {},
          "execution_count": 34
        },
        {
          "output_type": "display_data",
          "data": {
            "text/plain": [
              "<Figure size 1200x400 with 2 Axes>"
            ],
            "image/png": "[encoded data removed]"
          },
          "metadata": {}
        }
      ],
      "source": [
        "# Plot the learning curves\n",
        "\n",
        "import pandas as pd\n",
        "import numpy as np\n",
        "import matplotlib.pyplot as plt\n",
        "%matplotlib inline\n",
        "\n",
        "frame = pd.DataFrame(history.history)\n",
        "epochs = np.arange(len(frame))\n",
        "\n",
        "fig = plt.figure(figsize=(12,4))\n",
        "\n",
        "# Loss plot\n",
        "ax = fig.add_subplot(121)\n",
        "ax.plot(epochs, frame['loss'], label=\"Train\")\n",
        "ax.plot(epochs, frame['val_loss'], label=\"Validation\")\n",
        "ax.set_xlabel(\"Epochs\")\n",
        "ax.set_ylabel(\"Loss\")\n",
        "ax.set_title(\"Loss vs Epochs\")\n",
        "ax.legend()\n",
        "\n",
        "# Accuracy plot\n",
        "ax = fig.add_subplot(122)\n",
        "ax.plot(epochs, frame['mae'], label=\"Train\")\n",
        "ax.plot(epochs, frame['val_mae'], label=\"Validation\")\n",
        "ax.set_xlabel(\"Epochs\")\n",
        "ax.set_ylabel(\"Mean Absolute Error\")\n",
        "ax.set_title(\"Mean Absolute Error vs Epochs\")\n",
        "ax.legend()"
      ]
    },
    {
      "cell_type": "markdown",
      "metadata": {
        "id": "KEld40JM_HyR"
      },
      "source": [
        "## Further reading and resources \n",
        "* https://keras.io/layers/normalization/\n",
        "* https://www.tensorflow.org/versions/r2.0/api_docs/python/tf/keras/layers/BatchNormalization"
      ]
    }
  ],
  "metadata": {
    "colab": {
      "provenance": [],
      "include_colab_link": true
    },
    "kernelspec": {
      "display_name": "Python 3",
      "language": "python",
      "name": "python3"
    },
    "language_info": {
      "codemirror_mode": {
        "name": "ipython",
        "version": 3
      },
      "file_extension": ".py",
      "mimetype": "text/x-python",
      "name": "python",
      "nbconvert_exporter": "python",
      "pygments_lexer": "ipython3",
      "version": "3.8.5"
    }
  },
  "nbformat": 4,
  "nbformat_minor": 0
}